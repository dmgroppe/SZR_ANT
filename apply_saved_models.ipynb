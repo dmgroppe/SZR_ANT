{
 "cells": [
  {
   "cell_type": "code",
   "execution_count": 1,
   "metadata": {
    "collapsed": true
   },
   "outputs": [],
   "source": [
    "import numpy as np\n",
    "import matplotlib.pyplot as plt\n",
    "%matplotlib inline\n",
    "import pandas as pd\n",
    "import scipy.io as sio\n",
    "import os\n",
    "import ieeg_funcs as ief\n",
    "import dgFuncs as dg\n",
    "from sklearn import svm\n",
    "from sklearn.externals import joblib\n",
    "import "
   ]
  },
  {
   "cell_type": "code",
   "execution_count": 2,
   "metadata": {
    "collapsed": true
   },
   "outputs": [],
   "source": [
    "# Load model\n",
    "temp_model_fname='/Users/davidgroppe/PycharmProjects/SZR_ANT/MODELS/model_sbox/model0.pkl'\n",
    "temp_model=joblib.load(temp_model_fname)"
   ]
  },
  {
   "cell_type": "code",
   "execution_count": 6,
   "metadata": {
    "collapsed": false
   },
   "outputs": [
    {
     "name": "stdout",
     "output_type": "stream",
     "text": [
      "8 models found\n",
      "['model0.pkl', 'model1.pkl', 'model2.pkl', 'model3.pkl', 'model4.pkl', 'model5.pkl', 'model6.pkl', 'model7.pkl']\n"
     ]
    }
   ],
   "source": [
    "# Get list of models\n",
    "model_name='model_sbox'\n",
    "path_dict=ief.get_path_dict()\n",
    "model_path=os.path.join(path_dict['szr_ant_root'],'MODELS',model_name)\n",
    "model_list=[]\n",
    "for f in os.listdir(model_path):\n",
    "    if f.endswith('.pkl'):\n",
    "        model_list.append(f)\n",
    "\n",
    "        \n",
    "n_models=len(model_list)\n",
    "print('%d models found' % n_models)\n",
    "print(model_list)"
   ]
  },
  {
   "cell_type": "code",
   "execution_count": 8,
   "metadata": {
    "collapsed": false
   },
   "outputs": [
    {
     "name": "stdout",
     "output_type": "stream",
     "text": [
      "Importing list of features to use from ftr_list_lap.txt\n",
      "Features being used: ['PWR', 'PWR_3SEC', 'VLTG']\n"
     ]
    }
   ],
   "source": [
    "# Import held sub data\n",
    "sub='NA'\n",
    "\n",
    "# Get list of features to use:\n",
    "ftr_types=[]\n",
    "ftr_fname='ftr_list_lap.txt'\n",
    "print('Importing list of features to use from %s' % ftr_fname)\n",
    "text_file = open(ftr_fname, 'r')\n",
    "list1 = text_file.readlines()\n",
    "for temp_ftr in list1:\n",
    "    ftr_types.append(temp_ftr.rstrip())\n",
    "print('Features being used: {}'.format(ftr_types))\n"
   ]
  },
  {
   "cell_type": "code",
   "execution_count": 14,
   "metadata": {
    "collapsed": false
   },
   "outputs": [
    {
     "name": "stdout",
     "output_type": "stream",
     "text": [
      "Checking dimensions of feature type PWR\n",
      "Checking dimensions of feature type PWR_3SEC\n",
      "/Users/davidgroppe/PycharmProjects/SZR_ANT/FTRS/PWR_3SEC/ext.txt\n",
      "_bppwr_3sec.npz\n",
      "Loading file /Users/davidgroppe/PycharmProjects/SZR_ANT/FTRS/PWR_3SEC/NA/NA_d1_sz2_bppwr_3sec.npz\n",
      "Loading file /Users/davidgroppe/PycharmProjects/SZR_ANT/FTRS/PWR_3SEC/NA/NA_d1_sz3_bppwr_3sec.npz\n",
      "Loading file /Users/davidgroppe/PycharmProjects/SZR_ANT/FTRS/PWR_3SEC/NA/NA_d1_sz4_bppwr_3sec.npz\n",
      "Loading file /Users/davidgroppe/PycharmProjects/SZR_ANT/FTRS/PWR_3SEC/NA/NA_d1_sz5_bppwr_3sec.npz\n",
      "Loading file /Users/davidgroppe/PycharmProjects/SZR_ANT/FTRS/PWR_3SEC/NA/NA_d2_sz1_bppwr_3sec.npz\n",
      "Checking dimensions of feature type VLTG\n",
      "/Users/davidgroppe/PycharmProjects/SZR_ANT/FTRS/VLTG/ext.txt\n",
      "_vltg.npz\n",
      "Loading file /Users/davidgroppe/PycharmProjects/SZR_ANT/FTRS/VLTG/NA/NA_d1_sz2_vltg.npz\n",
      "Loading file /Users/davidgroppe/PycharmProjects/SZR_ANT/FTRS/VLTG/NA/NA_d1_sz3_vltg.npz\n",
      "Loading file /Users/davidgroppe/PycharmProjects/SZR_ANT/FTRS/VLTG/NA/NA_d1_sz4_vltg.npz\n",
      "Loading file /Users/davidgroppe/PycharmProjects/SZR_ANT/FTRS/VLTG/NA/NA_d1_sz5_vltg.npz\n",
      "Loading file /Users/davidgroppe/PycharmProjects/SZR_ANT/FTRS/VLTG/NA/NA_d2_sz1_vltg.npz\n",
      "Total # of dimensions: 17 \n",
      "Total # of time windows: [1860, 2610, 2710, 2900, 1540] \n",
      "Total # of files: 5\n"
     ]
    }
   ],
   "source": [
    "# Get list of data files for this sub\n",
    "n_ftr_types=len(ftr_types)\n",
    "n_dim=0\n",
    "n_wind_list=[]\n",
    "stem_list=[]\n",
    "for type_ct, ftr_type in enumerate(ftr_types):\n",
    "    print('Checking dimensions of feature type %s' % ftr_type)\n",
    "    # Figure out how much data there is to preallocate mem\n",
    "    ftr_type_dir=os.path.join(path_dict['ftrs_root'],ftr_type)\n",
    "\n",
    "    if type_ct==0:\n",
    "        # count time windows and create fname_stem_list\n",
    "        stem_list = []\n",
    "        ftr_path=os.path.join(ftr_type_dir,sub)\n",
    "        for f in os.listdir(ftr_path):\n",
    "            #get file stem\n",
    "            f_parts = f.split('_')\n",
    "            f_stem = f_parts[0]+'_'+f_parts[1]+'_'+f_parts[2]\n",
    "            #fname_stem_list.append(f_stem)\n",
    "            stem_list.append(f_stem)\n",
    "            ftr_dict=np.load(os.path.join(ftr_path,f))\n",
    "            #n_wind+=np.sum(ftr_dict['peri_ictal']>=0)\n",
    "            n_wind_list.append(ftr_dict['ftrs'].shape[1])\n",
    "    else:\n",
    "        temp_n_wind=0\n",
    "        f_ct=0\n",
    "        # Load file extension\n",
    "        ext_fname = os.path.join(ftr_type_dir, 'ext.txt')\n",
    "        with open(ext_fname, 'r') as f_ext:\n",
    "            ext = f_ext.readline()[:-1]\n",
    "        print(ext_fname)\n",
    "        print(ext)\n",
    "        ftr_path=os.path.join(ftr_type_dir,sub)\n",
    "        for temp_stem_ct, temp_stem in enumerate(stem_list):\n",
    "            targ_file=os.path.join(ftr_path,temp_stem+ext)\n",
    "            # if os.path.isfile(targ_file)==False:\n",
    "            #     print('File not found: %s' % targ_file)\n",
    "            #     raise ValueError('File stems do not match across features')\n",
    "            print('Loading file %s' % targ_file)\n",
    "            ftr_dict=np.load(targ_file)\n",
    "            f_ct+=1\n",
    "        if n_wind_list[temp_stem_ct]!=ftr_dict['ftrs'].shape[1]:\n",
    "            raise ValueError('# of time windows do not match across features')\n",
    "    n_dim += ftr_dict['ftrs'].shape[0]\n",
    "\n",
    "print('Total # of dimensions: %d ' % n_dim)\n",
    "print('Total # of time windows: {} '.format(n_wind_list))\n",
    "print('Total # of files: %d' % f_ct)\n"
   ]
  },
  {
   "cell_type": "code",
   "execution_count": 15,
   "metadata": {
    "collapsed": false
   },
   "outputs": [
    {
     "name": "stdout",
     "output_type": "stream",
     "text": [
      "Loading /Users/davidgroppe/PycharmProjects/SZR_ANT/FTRS/PWR/NA/NA_d1_sz2_bppwr.npz\n",
      "Loading /Users/davidgroppe/PycharmProjects/SZR_ANT/FTRS/PWR_3SEC/NA/NA_d1_sz2_bppwr_3sec.npz\n",
      "Loading /Users/davidgroppe/PycharmProjects/SZR_ANT/FTRS/VLTG/NA/NA_d1_sz2_vltg.npz\n"
     ]
    },
    {
     "ename": "NameError",
     "evalue": "name 'rbf_svc' is not defined",
     "output_type": "error",
     "traceback": [
      "\u001b[0;31m---------------------------------------------------------------------------\u001b[0m",
      "\u001b[0;31mNameError\u001b[0m                                 Traceback (most recent call last)",
      "\u001b[0;32m<ipython-input-15-0b3fc155eb7f>\u001b[0m in \u001b[0;36m<module>\u001b[0;34m()\u001b[0m\n\u001b[1;32m     40\u001b[0m \u001b[0;34m\u001b[0m\u001b[0m\n\u001b[1;32m     41\u001b[0m     \u001b[0;31m# Classify each time point\u001b[0m\u001b[0;34m\u001b[0m\u001b[0;34m\u001b[0m\u001b[0m\n\u001b[0;32m---> 42\u001b[0;31m     \u001b[0mtemp_class_hat\u001b[0m\u001b[0;34m=\u001b[0m\u001b[0mrbf_svc\u001b[0m\u001b[0;34m.\u001b[0m\u001b[0mpredict\u001b[0m\u001b[0;34m(\u001b[0m\u001b[0mtemp_valid_ftrs\u001b[0m\u001b[0;34m)\u001b[0m\u001b[0;34m\u001b[0m\u001b[0m\n\u001b[0m\u001b[1;32m     43\u001b[0m \u001b[0;34m\u001b[0m\u001b[0m\n\u001b[1;32m     44\u001b[0m     \u001b[0;31m# Compute latency of earliest ictal prediction relative to clinician onset\u001b[0m\u001b[0;34m\u001b[0m\u001b[0;34m\u001b[0m\u001b[0m\n",
      "\u001b[0;31mNameError\u001b[0m: name 'rbf_svc' is not defined"
     ]
    }
   ],
   "source": [
    "# Load validation data and calculate false positive rate, and peri-onset latency\n",
    "onset_dif_sec_list=list()\n",
    "n_valid_szrs=0\n",
    "n_missed_szrs=0\n",
    "mn_onset_dif=0       \n",
    "for stem_loop in stem_list:\n",
    "    # Collect features for each seizure\n",
    "    n_valid_szrs+=1\n",
    "    dim_ct=0\n",
    "    for ftr_type in ftr_types:\n",
    "        ftr_path = os.path.join(path_dict['ftrs_root'], ftr_type, sub)\n",
    "        file_found=False\n",
    "        for f_valid in os.listdir(ftr_path):\n",
    "            # get file stem\n",
    "            f_parts = f_valid.split('_')\n",
    "            temp_f_stem = f_parts[0] + '_' + f_parts[1] + '_' + f_parts[2]\n",
    "            if temp_f_stem==stem_loop:\n",
    "                # load file\n",
    "                #print('Loading %s' % f)\n",
    "                print('Loading %s' % os.path.join(ftr_path, f_valid))\n",
    "                ftr_dict = np.load(os.path.join(ftr_path, f_valid))\n",
    "                file_found=True\n",
    "                # break out of for loop\n",
    "                break\n",
    "        # Catch if new file was not loaded\n",
    "        if not file_found:\n",
    "            print('Trying to find %s for %s' % (stem_loop,ftr_type))\n",
    "            print('Looking in dir %s' % ftr_path)\n",
    "            raise ValueError('File stem not found')\n",
    "            exit()\n",
    "        # Add ftr to collection\n",
    "        temp_n_dim = ftr_dict['ftrs'].shape[0]\n",
    "        # Note that we use all time points (even ictal points long after ictal onset\n",
    "        if ftr_type==ftr_types[0]:\n",
    "            # First feature being analyzed pre-allocate mem\n",
    "            temp_n_wind=ftr_dict['ftrs'].shape[1]\n",
    "            temp_valid_ftrs=np.zeros((temp_n_wind,n_dim))\n",
    "        temp_valid_ftrs[:, dim_ct:dim_ct + temp_n_dim] = ftr_dict['ftrs'].T\n",
    "        dim_ct += temp_n_dim\n",
    "\n",
    "    # Classify each time point\n",
    "    temp_class_hat=rbf_svc.predict(temp_valid_ftrs)\n",
    "    #temp_class_hat=rbf_svc.predict(temp_valid_ftrs)\n",
    "    \n",
    "    # Compute latency of earliest ictal prediction relative to clinician onset\n",
    "    sgram_srate=1/10\n",
    "    onset_dif_sec=ief.cmpt_postonset_stim_latency(temp_class_hat,ftr_dict['peri_ictal'],sgram_srate)\n",
    "    if onset_dif_sec is None:\n",
    "        # no positives during peri-onset time window\n",
    "        n_missed_szrs+=1\n",
    "    else:\n",
    "        mn_onset_dif+=onset_dif_sec\n",
    "\n",
    "pcnt_missed_szrs[left_out_id,C_ct] = n_missed_szrs/n_valid_szrs\n",
    "if n_missed_szrs==n_valid_szrs:\n",
    "    mn_stim_latency[left_out_id,C_ct] = np.nan\n",
    "else:\n",
    "    mn_stim_latency[left_out_id, C_ct] = mn_onset_dif/(n_valid_szrs-n_missed_szrs)"
   ]
  },
  {
   "cell_type": "code",
   "execution_count": null,
   "metadata": {
    "collapsed": true
   },
   "outputs": [],
   "source": []
  }
 ],
 "metadata": {
  "kernelspec": {
   "display_name": "Python [default]",
   "language": "python",
   "name": "python3"
  },
  "language_info": {
   "codemirror_mode": {
    "name": "ipython",
    "version": 3
   },
   "file_extension": ".py",
   "mimetype": "text/x-python",
   "name": "python",
   "nbconvert_exporter": "python",
   "pygments_lexer": "ipython3",
   "version": "3.5.2"
  }
 },
 "nbformat": 4,
 "nbformat_minor": 1
}
