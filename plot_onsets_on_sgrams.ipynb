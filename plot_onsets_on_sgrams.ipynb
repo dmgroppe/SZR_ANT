{
 "cells": [
  {
   "cell_type": "markdown",
   "metadata": {},
   "source": [
    "# Plot onset channel sgrams with clinical onsets"
   ]
  },
  {
   "cell_type": "code",
   "execution_count": 160,
   "metadata": {
    "collapsed": true
   },
   "outputs": [],
   "source": [
    "import numpy as np\n",
    "import pandas as pd\n",
    "import os\n",
    "import scipy.io\n",
    "import ieeg_funcs as ief\n",
    "import re\n",
    "import dgFuncs as dg\n",
    "from sklearn import preprocessing\n",
    "import sys\n",
    "from scipy import stats\n",
    "from mpl_toolkits.axes_grid1 import make_axes_locatable\n",
    "import matplotlib.pyplot as plt\n",
    "%matplotlib inline"
   ]
  },
  {
   "cell_type": "code",
   "execution_count": 161,
   "metadata": {
    "collapsed": false
   },
   "outputs": [
    {
     "data": {
      "text/plain": [
       "<module 'dgFuncs' from '/Users/davidgroppe/PycharmProjects/DG_LIBRARY/dgFuncs.py'>"
      ]
     },
     "execution_count": 161,
     "metadata": {},
     "output_type": "execute_result"
    }
   ],
   "source": [
    "# Block for re-loading my libraries if I make updates\n",
    "import imp \n",
    "imp.reload(ief) \n",
    "imp.reload(dg) "
   ]
  },
  {
   "cell_type": "code",
   "execution_count": 59,
   "metadata": {
    "collapsed": false
   },
   "outputs": [
    {
     "name": "stdout",
     "output_type": "stream",
     "text": [
      "(10,)\n",
      "n_trim 1\n",
      "DG mn -0.387978\n",
      "Scipy mn -0.387978\n"
     ]
    }
   ],
   "source": [
    "# Check to make sure my trimmed_mn_sd code is working\n",
    "# bro=np.arange(1,10)\n",
    "bro=np.random.randn(10)\n",
    "print(bro.shape)\n",
    "from scipy import stats\n",
    "trm_pptn=.1\n",
    "[mn, sd]=dg.trimmed_mn_sd(bro,trm_pptn)\n",
    "print('DG mn %f' % mn)\n",
    "sp_mn=stats.trim_mean(bro, trm_pptn)\n",
    "print('Scipy mn %f' % sp_mn)"
   ]
  },
  {
   "cell_type": "code",
   "execution_count": 67,
   "metadata": {
    "collapsed": false
   },
   "outputs": [
    {
     "name": "stdout",
     "output_type": "stream",
     "text": [
      "[[-1.17821051  1.12216519  0.53598856  1.74422587]\n",
      " [-0.7621992  -1.50284476  1.04248399 -1.35677192]]\n",
      "2 dimensions\n",
      "4 observations\n",
      "n_trim 1\n",
      "n_trim 1\n",
      "[[-6.84874585  1.         -1.          3.12243426]\n",
      " [ 1.         -1.49135397  7.07052123 -1.        ]]\n"
     ]
    }
   ],
   "source": [
    "bro=np.random.randn(2,4)\n",
    "print(bro)\n",
    "broZ, _, _=dg.trimmed_normalize(bro,.25)\n",
    "print(broZ)"
   ]
  },
  {
   "cell_type": "code",
   "execution_count": 202,
   "metadata": {
    "collapsed": false
   },
   "outputs": [
    {
     "name": "stdout",
     "output_type": "stream",
     "text": [
      "Sub=TF, onset chan=RHD1-2\n"
     ]
    }
   ],
   "source": [
    "# Define sub and onset channel\n",
    "sub='TF'\n",
    "#sub='NA'\n",
    "onset_df=pd.read_csv('/Users/davidgroppe/PycharmProjects/SZR_ANT/chans_of_interest.csv',na_filter=False)\n",
    "row_id=onset_df[onset_df.iloc[:,0]==sub].index.tolist()\n",
    "onset_chan=onset_df.iloc[row_id[0],1].strip() #strip removes white space\n",
    "print('Sub=%s, onset chan=%s' % (sub,onset_chan))"
   ]
  },
  {
   "cell_type": "code",
   "execution_count": 203,
   "metadata": {
    "collapsed": false
   },
   "outputs": [
    {
     "name": "stdout",
     "output_type": "stream",
     "text": [
      "Importing manual onset times from /Users/davidgroppe/ONGOING/SZR_SPREAD/PATIENTS/TF/ONSETTIMES/\n",
      "14 manual wide-band onset files found\n"
     ]
    }
   ],
   "source": [
    "# Load manual onset times\n",
    "csv_path='/Users/davidgroppe/ONGOING/SZR_SPREAD/PATIENTS/'+sub+'/ONSETTIMES/'\n",
    "print('Importing manual onset times from %s' % csv_path)\n",
    "csv_list=list()\n",
    "for f in os.listdir(csv_path):\n",
    "    if f.endswith('manualOnsets.txt'):\n",
    "        csv_list.append(f)\n",
    "\n",
    "n_files=len(csv_list)\n",
    "print('%d manual wide-band onset files found' % n_files)"
   ]
  },
  {
   "cell_type": "code",
   "execution_count": 205,
   "metadata": {
    "collapsed": false
   },
   "outputs": [
    {
     "name": "stdout",
     "output_type": "stream",
     "text": [
      "Importing file /Users/davidgroppe/Dropbox/TWH_INFO/CLINICIAN_ONSET_TIMES/TF_clinician_onset_offset.csv\n"
     ]
    }
   ],
   "source": [
    "# Import Clinician Szr Onset Times\n",
    "if sys.platform=='linux':\n",
    "    onset_csv_dir='/home/dgroppe/TWH_INFO/CLINICIAN_ONSET_TIMES'\n",
    "else:\n",
    "    onset_csv_dir='/Users/davidgroppe/Dropbox/TWH_INFO/CLINICIAN_ONSET_TIMES'\n",
    "onset_csv_fname=os.path.join(onset_csv_dir,sub+'_clinician_onset_offset.csv')\n",
    "print('Importing file %s' % onset_csv_fname)\n",
    "onset_df=pd.read_csv(onset_csv_fname)"
   ]
  },
  {
   "cell_type": "code",
   "execution_count": 206,
   "metadata": {
    "collapsed": false
   },
   "outputs": [
    {
     "data": {
      "text/html": [
       "<div>\n",
       "<table border=\"1\" class=\"dataframe\">\n",
       "  <thead>\n",
       "    <tr style=\"text-align: right;\">\n",
       "      <th></th>\n",
       "      <th>DAY</th>\n",
       "      <th>SZR#</th>\n",
       "      <th>ONSET</th>\n",
       "      <th>OFFSET</th>\n",
       "      <th>SOZ_CHAN</th>\n",
       "      <th>FILE_ONSET</th>\n",
       "      <th>DDMMYR</th>\n",
       "      <th>SRATE_HZ</th>\n",
       "      <th>NOTES</th>\n",
       "    </tr>\n",
       "  </thead>\n",
       "  <tbody>\n",
       "    <tr>\n",
       "      <th>0</th>\n",
       "      <td>1</td>\n",
       "      <td>1</td>\n",
       "      <td>4:15:01 PM</td>\n",
       "      <td>4:16:41 PM</td>\n",
       "      <td>?</td>\n",
       "      <td>16:14:24</td>\n",
       "      <td>09/01/2009</td>\n",
       "      <td>500</td>\n",
       "      <td>NaN</td>\n",
       "    </tr>\n",
       "    <tr>\n",
       "      <th>1</th>\n",
       "      <td>4</td>\n",
       "      <td>1</td>\n",
       "      <td>9:24:44 AM</td>\n",
       "      <td>9:25:28 AM</td>\n",
       "      <td>?</td>\n",
       "      <td>9:23:37</td>\n",
       "      <td>09/04/2009</td>\n",
       "      <td>500</td>\n",
       "      <td>anterior temporal neocortex and hippo</td>\n",
       "    </tr>\n",
       "    <tr>\n",
       "      <th>2</th>\n",
       "      <td>4</td>\n",
       "      <td>2</td>\n",
       "      <td>11:50:07 PM</td>\n",
       "      <td>11:50:46 PM</td>\n",
       "      <td>?</td>\n",
       "      <td>23:47:54</td>\n",
       "      <td>09/04/2009</td>\n",
       "      <td>500</td>\n",
       "      <td>NaN</td>\n",
       "    </tr>\n",
       "    <tr>\n",
       "      <th>3</th>\n",
       "      <td>4</td>\n",
       "      <td>3</td>\n",
       "      <td>12:57:08 AM</td>\n",
       "      <td>12:57:52 AM</td>\n",
       "      <td>?</td>\n",
       "      <td>0:54:22</td>\n",
       "      <td>09/05/2009</td>\n",
       "      <td>500</td>\n",
       "      <td>anterior neocortical and hippocamapal regions</td>\n",
       "    </tr>\n",
       "    <tr>\n",
       "      <th>4</th>\n",
       "      <td>5</td>\n",
       "      <td>1</td>\n",
       "      <td>3:17:15 PM</td>\n",
       "      <td>3:21:54 PM</td>\n",
       "      <td>?</td>\n",
       "      <td>15:14:00</td>\n",
       "      <td>09/05/2009</td>\n",
       "      <td>500</td>\n",
       "      <td>NaN</td>\n",
       "    </tr>\n",
       "  </tbody>\n",
       "</table>\n",
       "</div>"
      ],
      "text/plain": [
       "   DAY  SZR#        ONSET       OFFSET SOZ_CHAN FILE_ONSET       DDMMYR  \\\n",
       "0    1     1   4:15:01 PM   4:16:41 PM        ?   16:14:24  09/01/2009    \n",
       "1    4     1   9:24:44 AM   9:25:28 AM        ?    9:23:37   09/04/2009   \n",
       "2    4     2  11:50:07 PM  11:50:46 PM        ?   23:47:54   09/04/2009   \n",
       "3    4     3  12:57:08 AM  12:57:52 AM        ?    0:54:22   09/05/2009   \n",
       "4    5     1   3:17:15 PM   3:21:54 PM        ?   15:14:00   09/05/2009   \n",
       "\n",
       "   SRATE_HZ                                          NOTES  \n",
       "0       500                                            NaN  \n",
       "1       500          anterior temporal neocortex and hippo  \n",
       "2       500                                            NaN  \n",
       "3       500  anterior neocortical and hippocamapal regions  \n",
       "4       500                                            NaN  "
      ]
     },
     "execution_count": 206,
     "metadata": {},
     "output_type": "execute_result"
    }
   ],
   "source": [
    "onset_df.head()"
   ]
  },
  {
   "cell_type": "code",
   "execution_count": 74,
   "metadata": {
    "collapsed": false
   },
   "outputs": [],
   "source": [
    "# def clin_onset_tpt(szr_name, onset_df):\n",
    "#     import re\n",
    "#     name_splt=szr_name.split('_')\n",
    "#     day=int(name_splt[1][1:])\n",
    "#     szr=int(re.findall('[0-9]+',name_splt[2])[0])\n",
    "#     print('Getting clinical onset time for %s: Day %d, Szr %d' % (name_splt[0],day,szr))\n",
    "\n",
    "#     # temp_df=onset_df[onset_df['DAY']==day and onset_df['SZR#']==2]\n",
    "#     day_ids=onset_df[onset_df['DAY']==day].index \n",
    "#     szr_ids=onset_df[onset_df['SZR#']==szr].index \n",
    "#     use_id=day_ids.intersection(szr_ids)\n",
    "#     if len(use_id)==0:\n",
    "#         onset_tpt=NaN\n",
    "#     else:\n",
    "#         onset_tpt=onset_df['ONSET_TPT'].iloc[use_id].values[0]\n",
    "#     return onset_tpt\n",
    "\n",
    "# onset_tpt=clin_onset_tpt('NA_d1_sz2.mat',onset_df)"
   ]
  },
  {
   "cell_type": "code",
   "execution_count": 150,
   "metadata": {
    "collapsed": true
   },
   "outputs": [],
   "source": [
    "# def get_ieeg_root_dir():\n",
    "#     if sys.platform=='linux':\n",
    "#         ieeg_root='/home/dgroppe/TWH_EEG'\n",
    "#     else:\n",
    "#         ieeg_root='/Users/davidgroppe/ONGOING/SZR_SPREAD/PATIENTS/'\n",
    "#     return ieeg_root\n",
    "        \n",
    "# def import_ieeg(ieeg_mat_fname):\n",
    "#     \"\"\" Import iEEG data from mat file and remove mean of each channel\n",
    "#     For example:\n",
    "#     ieeg, Sf, tpts_sec=import_ieeg('NA_d1_sz2.mat')\"\"\"\n",
    "#     ieeg_root=get_ieeg_root_dir()\n",
    "#     ieeg_dir=os.path.join(ieeg_root,sub,'Data')\n",
    "#     ieeg_fname=os.path.join(ieeg_dir,ieeg_mat_fname)\n",
    "#     print('Loading %s' % ieeg_fname)\n",
    "#     mat=scipy.io.loadmat(ieeg_fname)\n",
    "#     Sf=mat['Sf'][0][0]\n",
    "#     ieeg=mat['matrix_bi']\n",
    "#     ieeg=ieeg.T\n",
    "#     n_chan, n_tpt=ieeg.shape\n",
    "#     # remove mean of each channel\n",
    "#     for chan_loop in range(n_chan):\n",
    "#         ieeg[chan_loop,:]=ieeg[chan_loop,:]-np.mean(ieeg[chan_loop,:])\n",
    "#     tpts_sec=np.arange(0,n_tpt)/Sf\n",
    "#     tpts_sec=tpts_sec.T\n",
    "#     return ieeg, Sf, tpts_sec\n",
    "\n",
    "# def import_chan_labels(sub):\n",
    "#     \"\"\" Import channel labels as list of strings. For example:\n",
    "#     chan_labels=import_chan_labels('NA')\"\"\"\n",
    "#     ieeg_root=get_ieeg_root_dir()\n",
    "#     chan_fname=os.path.join(ieeg_root,sub,\n",
    "#                         sub+'_channel_info.csv')\n",
    "#     print('Loading %s' % chan_fname)\n",
    "#     chan_labels_df=pd.read_csv(chan_fname,names=['label'])\n",
    "#     # Convert to list and remove redundant electrode stem for second electrode in each bipolar pair\n",
    "#     chan_labels=ief.clean_labels(list(chan_labels_df['label']))\n",
    "#     return chan_labels"
   ]
  },
  {
   "cell_type": "code",
   "execution_count": 207,
   "metadata": {
    "collapsed": false
   },
   "outputs": [
    {
     "name": "stdout",
     "output_type": "stream",
     "text": [
      "Loading /Users/davidgroppe/ONGOING/SZR_SPREAD/PATIENTS/TF/TF_channel_info.csv\n"
     ]
    }
   ],
   "source": [
    "# Get list of channels and ID of onset channel\n",
    "chan_labels=ief.import_chan_labels(sub)\n",
    "onset_chan_id=chan_labels.index(onset_chan)"
   ]
  },
  {
   "cell_type": "code",
   "execution_count": 208,
   "metadata": {
    "collapsed": false
   },
   "outputs": [
    {
     "name": "stdout",
     "output_type": "stream",
     "text": [
      "TF_d4_sz2\n",
      "Getting clinical onset time for TF: Day 4, Szr 2\n"
     ]
    },
    {
     "ename": "KeyError",
     "evalue": "'ONSET_TPT'",
     "output_type": "error",
     "traceback": [
      "\u001b[0;31m---------------------------------------------------------------------------\u001b[0m",
      "\u001b[0;31mKeyError\u001b[0m                                  Traceback (most recent call last)",
      "\u001b[0;32m/Users/davidgroppe/anaconda/lib/python3.5/site-packages/pandas/indexes/base.py\u001b[0m in \u001b[0;36mget_loc\u001b[0;34m(self, key, method, tolerance)\u001b[0m\n\u001b[1;32m   1944\u001b[0m             \u001b[0;32mtry\u001b[0m\u001b[0;34m:\u001b[0m\u001b[0;34m\u001b[0m\u001b[0m\n\u001b[0;32m-> 1945\u001b[0;31m                 \u001b[0;32mreturn\u001b[0m \u001b[0mself\u001b[0m\u001b[0;34m.\u001b[0m\u001b[0m_engine\u001b[0m\u001b[0;34m.\u001b[0m\u001b[0mget_loc\u001b[0m\u001b[0;34m(\u001b[0m\u001b[0mkey\u001b[0m\u001b[0;34m)\u001b[0m\u001b[0;34m\u001b[0m\u001b[0m\n\u001b[0m\u001b[1;32m   1946\u001b[0m             \u001b[0;32mexcept\u001b[0m \u001b[0mKeyError\u001b[0m\u001b[0;34m:\u001b[0m\u001b[0;34m\u001b[0m\u001b[0m\n",
      "\u001b[0;32mpandas/index.pyx\u001b[0m in \u001b[0;36mpandas.index.IndexEngine.get_loc (pandas/index.c:4154)\u001b[0;34m()\u001b[0m\n",
      "\u001b[0;32mpandas/index.pyx\u001b[0m in \u001b[0;36mpandas.index.IndexEngine.get_loc (pandas/index.c:4018)\u001b[0;34m()\u001b[0m\n",
      "\u001b[0;32mpandas/hashtable.pyx\u001b[0m in \u001b[0;36mpandas.hashtable.PyObjectHashTable.get_item (pandas/hashtable.c:12368)\u001b[0;34m()\u001b[0m\n",
      "\u001b[0;32mpandas/hashtable.pyx\u001b[0m in \u001b[0;36mpandas.hashtable.PyObjectHashTable.get_item (pandas/hashtable.c:12322)\u001b[0;34m()\u001b[0m\n",
      "\u001b[0;31mKeyError\u001b[0m: 'ONSET_TPT'",
      "\nDuring handling of the above exception, another exception occurred:\n",
      "\u001b[0;31mKeyError\u001b[0m                                  Traceback (most recent call last)",
      "\u001b[0;32m<ipython-input-208-c175f8c0a650>\u001b[0m in \u001b[0;36m<module>\u001b[0;34m()\u001b[0m\n\u001b[1;32m     12\u001b[0m     \u001b[0;31m# See if I have a clinician onset\u001b[0m\u001b[0;34m\u001b[0m\u001b[0;34m\u001b[0m\u001b[0m\n\u001b[1;32m     13\u001b[0m     \u001b[0mprint\u001b[0m\u001b[0;34m(\u001b[0m\u001b[0mszr_name\u001b[0m\u001b[0;34m)\u001b[0m\u001b[0;34m\u001b[0m\u001b[0m\n\u001b[0;32m---> 14\u001b[0;31m     \u001b[0monset_tpt\u001b[0m\u001b[0;34m=\u001b[0m\u001b[0mief\u001b[0m\u001b[0;34m.\u001b[0m\u001b[0mclin_onset_tpt\u001b[0m\u001b[0;34m(\u001b[0m\u001b[0mszr_name\u001b[0m\u001b[0;34m,\u001b[0m \u001b[0monset_df\u001b[0m\u001b[0;34m)\u001b[0m\u001b[0;34m\u001b[0m\u001b[0m\n\u001b[0m\u001b[1;32m     15\u001b[0m \u001b[0;34m\u001b[0m\u001b[0m\n\u001b[1;32m     16\u001b[0m     \u001b[0;32mif\u001b[0m \u001b[0monset_tpt\u001b[0m\u001b[0;34m<\u001b[0m\u001b[0;36m0\u001b[0m\u001b[0;34m:\u001b[0m\u001b[0;34m\u001b[0m\u001b[0m\n",
      "\u001b[0;32m/Users/davidgroppe/PycharmProjects/DG_LIBRARY/ieeg_funcs.py\u001b[0m in \u001b[0;36mclin_onset_tpt\u001b[0;34m(szr_name, onset_df)\u001b[0m\n\u001b[1;32m    422\u001b[0m         \u001b[0monset_tpt\u001b[0m\u001b[0;34m=\u001b[0m\u001b[0mNaN\u001b[0m\u001b[0;34m\u001b[0m\u001b[0m\n\u001b[1;32m    423\u001b[0m     \u001b[0;32melse\u001b[0m\u001b[0;34m:\u001b[0m\u001b[0;34m\u001b[0m\u001b[0m\n\u001b[0;32m--> 424\u001b[0;31m         \u001b[0monset_tpt\u001b[0m\u001b[0;34m=\u001b[0m\u001b[0monset_df\u001b[0m\u001b[0;34m[\u001b[0m\u001b[0;34m'ONSET_TPT'\u001b[0m\u001b[0;34m]\u001b[0m\u001b[0;34m.\u001b[0m\u001b[0miloc\u001b[0m\u001b[0;34m[\u001b[0m\u001b[0muse_id\u001b[0m\u001b[0;34m]\u001b[0m\u001b[0;34m.\u001b[0m\u001b[0mvalues\u001b[0m\u001b[0;34m[\u001b[0m\u001b[0;36m0\u001b[0m\u001b[0;34m]\u001b[0m\u001b[0;34m\u001b[0m\u001b[0m\n\u001b[0m\u001b[1;32m    425\u001b[0m     \u001b[0;32mreturn\u001b[0m \u001b[0monset_tpt\u001b[0m\u001b[0;34m\u001b[0m\u001b[0m\n",
      "\u001b[0;32m/Users/davidgroppe/anaconda/lib/python3.5/site-packages/pandas/core/frame.py\u001b[0m in \u001b[0;36m__getitem__\u001b[0;34m(self, key)\u001b[0m\n\u001b[1;32m   1995\u001b[0m             \u001b[0;32mreturn\u001b[0m \u001b[0mself\u001b[0m\u001b[0;34m.\u001b[0m\u001b[0m_getitem_multilevel\u001b[0m\u001b[0;34m(\u001b[0m\u001b[0mkey\u001b[0m\u001b[0;34m)\u001b[0m\u001b[0;34m\u001b[0m\u001b[0m\n\u001b[1;32m   1996\u001b[0m         \u001b[0;32melse\u001b[0m\u001b[0;34m:\u001b[0m\u001b[0;34m\u001b[0m\u001b[0m\n\u001b[0;32m-> 1997\u001b[0;31m             \u001b[0;32mreturn\u001b[0m \u001b[0mself\u001b[0m\u001b[0;34m.\u001b[0m\u001b[0m_getitem_column\u001b[0m\u001b[0;34m(\u001b[0m\u001b[0mkey\u001b[0m\u001b[0;34m)\u001b[0m\u001b[0;34m\u001b[0m\u001b[0m\n\u001b[0m\u001b[1;32m   1998\u001b[0m \u001b[0;34m\u001b[0m\u001b[0m\n\u001b[1;32m   1999\u001b[0m     \u001b[0;32mdef\u001b[0m \u001b[0m_getitem_column\u001b[0m\u001b[0;34m(\u001b[0m\u001b[0mself\u001b[0m\u001b[0;34m,\u001b[0m \u001b[0mkey\u001b[0m\u001b[0;34m)\u001b[0m\u001b[0;34m:\u001b[0m\u001b[0;34m\u001b[0m\u001b[0m\n",
      "\u001b[0;32m/Users/davidgroppe/anaconda/lib/python3.5/site-packages/pandas/core/frame.py\u001b[0m in \u001b[0;36m_getitem_column\u001b[0;34m(self, key)\u001b[0m\n\u001b[1;32m   2002\u001b[0m         \u001b[0;31m# get column\u001b[0m\u001b[0;34m\u001b[0m\u001b[0;34m\u001b[0m\u001b[0m\n\u001b[1;32m   2003\u001b[0m         \u001b[0;32mif\u001b[0m \u001b[0mself\u001b[0m\u001b[0;34m.\u001b[0m\u001b[0mcolumns\u001b[0m\u001b[0;34m.\u001b[0m\u001b[0mis_unique\u001b[0m\u001b[0;34m:\u001b[0m\u001b[0;34m\u001b[0m\u001b[0m\n\u001b[0;32m-> 2004\u001b[0;31m             \u001b[0;32mreturn\u001b[0m \u001b[0mself\u001b[0m\u001b[0;34m.\u001b[0m\u001b[0m_get_item_cache\u001b[0m\u001b[0;34m(\u001b[0m\u001b[0mkey\u001b[0m\u001b[0;34m)\u001b[0m\u001b[0;34m\u001b[0m\u001b[0m\n\u001b[0m\u001b[1;32m   2005\u001b[0m \u001b[0;34m\u001b[0m\u001b[0m\n\u001b[1;32m   2006\u001b[0m         \u001b[0;31m# duplicate columns & possible reduce dimensionality\u001b[0m\u001b[0;34m\u001b[0m\u001b[0;34m\u001b[0m\u001b[0m\n",
      "\u001b[0;32m/Users/davidgroppe/anaconda/lib/python3.5/site-packages/pandas/core/generic.py\u001b[0m in \u001b[0;36m_get_item_cache\u001b[0;34m(self, item)\u001b[0m\n\u001b[1;32m   1348\u001b[0m         \u001b[0mres\u001b[0m \u001b[0;34m=\u001b[0m \u001b[0mcache\u001b[0m\u001b[0;34m.\u001b[0m\u001b[0mget\u001b[0m\u001b[0;34m(\u001b[0m\u001b[0mitem\u001b[0m\u001b[0;34m)\u001b[0m\u001b[0;34m\u001b[0m\u001b[0m\n\u001b[1;32m   1349\u001b[0m         \u001b[0;32mif\u001b[0m \u001b[0mres\u001b[0m \u001b[0;32mis\u001b[0m \u001b[0;32mNone\u001b[0m\u001b[0;34m:\u001b[0m\u001b[0;34m\u001b[0m\u001b[0m\n\u001b[0;32m-> 1350\u001b[0;31m             \u001b[0mvalues\u001b[0m \u001b[0;34m=\u001b[0m \u001b[0mself\u001b[0m\u001b[0;34m.\u001b[0m\u001b[0m_data\u001b[0m\u001b[0;34m.\u001b[0m\u001b[0mget\u001b[0m\u001b[0;34m(\u001b[0m\u001b[0mitem\u001b[0m\u001b[0;34m)\u001b[0m\u001b[0;34m\u001b[0m\u001b[0m\n\u001b[0m\u001b[1;32m   1351\u001b[0m             \u001b[0mres\u001b[0m \u001b[0;34m=\u001b[0m \u001b[0mself\u001b[0m\u001b[0;34m.\u001b[0m\u001b[0m_box_item_values\u001b[0m\u001b[0;34m(\u001b[0m\u001b[0mitem\u001b[0m\u001b[0;34m,\u001b[0m \u001b[0mvalues\u001b[0m\u001b[0;34m)\u001b[0m\u001b[0;34m\u001b[0m\u001b[0m\n\u001b[1;32m   1352\u001b[0m             \u001b[0mcache\u001b[0m\u001b[0;34m[\u001b[0m\u001b[0mitem\u001b[0m\u001b[0;34m]\u001b[0m \u001b[0;34m=\u001b[0m \u001b[0mres\u001b[0m\u001b[0;34m\u001b[0m\u001b[0m\n",
      "\u001b[0;32m/Users/davidgroppe/anaconda/lib/python3.5/site-packages/pandas/core/internals.py\u001b[0m in \u001b[0;36mget\u001b[0;34m(self, item, fastpath)\u001b[0m\n\u001b[1;32m   3288\u001b[0m \u001b[0;34m\u001b[0m\u001b[0m\n\u001b[1;32m   3289\u001b[0m             \u001b[0;32mif\u001b[0m \u001b[0;32mnot\u001b[0m \u001b[0misnull\u001b[0m\u001b[0;34m(\u001b[0m\u001b[0mitem\u001b[0m\u001b[0;34m)\u001b[0m\u001b[0;34m:\u001b[0m\u001b[0;34m\u001b[0m\u001b[0m\n\u001b[0;32m-> 3290\u001b[0;31m                 \u001b[0mloc\u001b[0m \u001b[0;34m=\u001b[0m \u001b[0mself\u001b[0m\u001b[0;34m.\u001b[0m\u001b[0mitems\u001b[0m\u001b[0;34m.\u001b[0m\u001b[0mget_loc\u001b[0m\u001b[0;34m(\u001b[0m\u001b[0mitem\u001b[0m\u001b[0;34m)\u001b[0m\u001b[0;34m\u001b[0m\u001b[0m\n\u001b[0m\u001b[1;32m   3291\u001b[0m             \u001b[0;32melse\u001b[0m\u001b[0;34m:\u001b[0m\u001b[0;34m\u001b[0m\u001b[0m\n\u001b[1;32m   3292\u001b[0m                 \u001b[0mindexer\u001b[0m \u001b[0;34m=\u001b[0m \u001b[0mnp\u001b[0m\u001b[0;34m.\u001b[0m\u001b[0marange\u001b[0m\u001b[0;34m(\u001b[0m\u001b[0mlen\u001b[0m\u001b[0;34m(\u001b[0m\u001b[0mself\u001b[0m\u001b[0;34m.\u001b[0m\u001b[0mitems\u001b[0m\u001b[0;34m)\u001b[0m\u001b[0;34m)\u001b[0m\u001b[0;34m[\u001b[0m\u001b[0misnull\u001b[0m\u001b[0;34m(\u001b[0m\u001b[0mself\u001b[0m\u001b[0;34m.\u001b[0m\u001b[0mitems\u001b[0m\u001b[0;34m)\u001b[0m\u001b[0;34m]\u001b[0m\u001b[0;34m\u001b[0m\u001b[0m\n",
      "\u001b[0;32m/Users/davidgroppe/anaconda/lib/python3.5/site-packages/pandas/indexes/base.py\u001b[0m in \u001b[0;36mget_loc\u001b[0;34m(self, key, method, tolerance)\u001b[0m\n\u001b[1;32m   1945\u001b[0m                 \u001b[0;32mreturn\u001b[0m \u001b[0mself\u001b[0m\u001b[0;34m.\u001b[0m\u001b[0m_engine\u001b[0m\u001b[0;34m.\u001b[0m\u001b[0mget_loc\u001b[0m\u001b[0;34m(\u001b[0m\u001b[0mkey\u001b[0m\u001b[0;34m)\u001b[0m\u001b[0;34m\u001b[0m\u001b[0m\n\u001b[1;32m   1946\u001b[0m             \u001b[0;32mexcept\u001b[0m \u001b[0mKeyError\u001b[0m\u001b[0;34m:\u001b[0m\u001b[0;34m\u001b[0m\u001b[0m\n\u001b[0;32m-> 1947\u001b[0;31m                 \u001b[0;32mreturn\u001b[0m \u001b[0mself\u001b[0m\u001b[0;34m.\u001b[0m\u001b[0m_engine\u001b[0m\u001b[0;34m.\u001b[0m\u001b[0mget_loc\u001b[0m\u001b[0;34m(\u001b[0m\u001b[0mself\u001b[0m\u001b[0;34m.\u001b[0m\u001b[0m_maybe_cast_indexer\u001b[0m\u001b[0;34m(\u001b[0m\u001b[0mkey\u001b[0m\u001b[0;34m)\u001b[0m\u001b[0;34m)\u001b[0m\u001b[0;34m\u001b[0m\u001b[0m\n\u001b[0m\u001b[1;32m   1948\u001b[0m \u001b[0;34m\u001b[0m\u001b[0m\n\u001b[1;32m   1949\u001b[0m         \u001b[0mindexer\u001b[0m \u001b[0;34m=\u001b[0m \u001b[0mself\u001b[0m\u001b[0;34m.\u001b[0m\u001b[0mget_indexer\u001b[0m\u001b[0;34m(\u001b[0m\u001b[0;34m[\u001b[0m\u001b[0mkey\u001b[0m\u001b[0;34m]\u001b[0m\u001b[0;34m,\u001b[0m \u001b[0mmethod\u001b[0m\u001b[0;34m=\u001b[0m\u001b[0mmethod\u001b[0m\u001b[0;34m,\u001b[0m \u001b[0mtolerance\u001b[0m\u001b[0;34m=\u001b[0m\u001b[0mtolerance\u001b[0m\u001b[0;34m)\u001b[0m\u001b[0;34m\u001b[0m\u001b[0m\n",
      "\u001b[0;32mpandas/index.pyx\u001b[0m in \u001b[0;36mpandas.index.IndexEngine.get_loc (pandas/index.c:4154)\u001b[0;34m()\u001b[0m\n",
      "\u001b[0;32mpandas/index.pyx\u001b[0m in \u001b[0;36mpandas.index.IndexEngine.get_loc (pandas/index.c:4018)\u001b[0;34m()\u001b[0m\n",
      "\u001b[0;32mpandas/hashtable.pyx\u001b[0m in \u001b[0;36mpandas.hashtable.PyObjectHashTable.get_item (pandas/hashtable.c:12368)\u001b[0;34m()\u001b[0m\n",
      "\u001b[0;32mpandas/hashtable.pyx\u001b[0m in \u001b[0;36mpandas.hashtable.PyObjectHashTable.get_item (pandas/hashtable.c:12322)\u001b[0;34m()\u001b[0m\n",
      "\u001b[0;31mKeyError\u001b[0m: 'ONSET_TPT'"
     ]
    }
   ],
   "source": [
    "imp.reload(ief) \n",
    "n_chan=len(chan_labels)\n",
    "\n",
    "# Loop through manual files (since I have one for each mat file)\n",
    "#for man_file_loop in range(n_files): TODO use this!!!\n",
    "for man_file_loop in range(1):\n",
    "    szr_name=csv_list[man_file_loop].split('_manualOnsets')[0]\n",
    "    #     digit_substrings=re.findall(r'\\d+',csv_list[man_file_loop])\n",
    "    #     szr_day=int(digit_substrings[0])\n",
    "    #     szr_num=int(digit_substrings[1])\n",
    "\n",
    "    # See if I have a clinician onset\n",
    "    print(szr_name)\n",
    "    onset_tpt=ief.clin_onset_tpt(szr_name, onset_df)\n",
    "    \n",
    "    if onset_tpt<0:\n",
    "        print('Warning: %s has a clinician onset time that is earlier than the file start time.' % szr_name)\n",
    "        print('Ignoring this szr for the time being')\n",
    "        onset_tpt=np.nan\n",
    "    elif np.isnan(onset_tpt):\n",
    "        print('Warning: %s has no clinician onset time.'  % szr_name)\n",
    "        print('Ignoring this szr for the time being')\n",
    "    else:\n",
    "        # Load the ieeg data\n",
    "        ieeg, Sf, tpts_sec=ief.import_ieeg(szr_name+'.mat')\n",
    "        \n",
    "        # Calcuate onset window (there is uncertainty due second resolution of Xltek text files)\n",
    "        onset_upper_bnd_sec=(onset_tpt/Sf)+1\n",
    "        onset_lower_bnd_sec=(onset_tpt/Sf)-1\n",
    "    \n",
    "        # Plot voltage time series at all channels and onset\n",
    "        [h, ax]=ief.strat_plot(ieeg,chan_labels,tpts_sec=tpts_sec)\n",
    "        ylim=ax.get_ylim()\n",
    "        plt.plot([onset_upper_bnd_sec, onset_upper_bnd_sec],ylim,'k--')\n",
    "        plt.plot([onset_lower_bnd_sec, onset_lower_bnd_sec],ylim,'k--')\n",
    "        plt.title(szr_name)\n",
    "    \n",
    "        # Plot voltage time series at just the onset channel\n",
    "        plt.figure(2)\n",
    "        plt.clf()\n",
    "        plt.plot(tpts_sec,ieeg[onset_chan_id,:])\n",
    "        plt.xlim([onset_lower_bnd_sec-5, onset_upper_bnd_sec+3])\n",
    "        ax=plt.gca()\n",
    "        ylim=ax.get_ylim()\n",
    "        plt.plot([onset_upper_bnd_sec, onset_upper_bnd_sec],ylim,'r--')\n",
    "        plt.plot([onset_lower_bnd_sec, onset_lower_bnd_sec],ylim,'r--')\n",
    "        plt.xlabel('Seconds')\n",
    "        plt.ylabel('Voltage')\n",
    "        plt.title(szr_name+' '+chan_labels[onset_chan_id])\n",
    "    \n",
    "        # Compute spectrogram at onset channel\n",
    "        wind_len=Sf\n",
    "        wind_step=Sf/10\n",
    "        n_tapers=4\n",
    "        sgram, f, sgram_sec=ief.mt_sgram(ieeg[onset_chan_id,:],Sf,wind_len,wind_step,n_tapers,tpts_sec)\n",
    "        cutoff_freq=Sf*.4 # remove frequencies above anti-aliasing filter cutoff\n",
    "        f=f[f<=cutoff_freq]\n",
    "        n_freq=len(f)\n",
    "        sgram=sgram[:n_freq,:]\n",
    "        n_wind=len(sgram_sec)\n",
    "    \n",
    "        # Plot sgram at just onset channel with onset overlay\n",
    "        plt.figure(3)\n",
    "        plt.clf()\n",
    "        ax = plt.gca()\n",
    "        # 40% Trimmed normalization\n",
    "        dg.trimmed_normalize(sgram,.4)\n",
    "        #plt.imshow(sgram)\n",
    "        im=ax.imshow(sgram)\n",
    "        onset_sgram_tpt_lower=dg.find_nearest(sgram_sec,onset_lower_bnd_sec)\n",
    "        onset_sgram_tpt_upper=dg.find_nearest(sgram_sec,onset_upper_bnd_sec)\n",
    "        ylim=plt.ylim()\n",
    "        plt.plot([onset_sgram_tpt_upper, onset_sgram_tpt_upper],ylim,'k--')\n",
    "        plt.plot([onset_sgram_tpt_lower, onset_sgram_tpt_lower],ylim,'k--')\n",
    "        raw_xticks=plt.xticks()\n",
    "        xtick_labels=list()\n",
    "        for tick in raw_xticks[0]:\n",
    "            if tick<n_wind:\n",
    "                xtick_labels.append(str(int(sgram_sec[int(tick)])))\n",
    "            else:\n",
    "                xtick_labels.append('noData')\n",
    "        _=plt.xticks(raw_xticks[0],xtick_labels) #works\n",
    "        plt.ylim(ylim)\n",
    "        plt.xlim([0,n_wind])\n",
    "        plt.ylabel('Hz')\n",
    "        plt.xlabel('Seconds')\n",
    "        plt.gca().invert_yaxis()\n",
    "        plt.title(szr_name+' '+chan_labels[onset_chan_id]+' '+'Sgram (40% trim norm dB)')\n",
    "        # create an axes on the right side of ax. The width of cax will be 5%\n",
    "        # of ax and the padding between cax and ax will be fixed at 0.05 inch.\n",
    "        divider = make_axes_locatable(ax)\n",
    "        cax = divider.append_axes(\"right\", size=\"5%\", pad=0.05)\n",
    "        cbar_min_tick=int(np.floor(np.min(sgram)*.95))\n",
    "        cbar_max_tick=int(np.floor(np.max(sgram)*.95))\n",
    "        cbar=plt.colorbar(im, cax=cax,ticks=[cbar_min_tick, 0, cbar_max_tick])\n",
    "\n",
    "    \n",
    "        # Plot sgram at just onset channel with onset overlay zoomed in on onset\n",
    "        plt.figure(4)\n",
    "        plt.clf()\n",
    "        ax = plt.gca()\n",
    "        zoom_sgram_tpt_lower=dg.find_nearest(sgram_sec,onset_lower_bnd_sec-5)\n",
    "        zoom_sgram_tpt_upper=dg.find_nearest(sgram_sec,onset_upper_bnd_sec+5)\n",
    "        #im=ax.imshow(sgram[:,zoom_sgram_tpt_lower:zoom_sgram_tpt_upper])\n",
    "        im=ax.imshow(sgram)\n",
    "        ylim=plt.ylim()\n",
    "        plt.plot([onset_sgram_tpt_upper, onset_sgram_tpt_upper],ylim,'k--')\n",
    "        plt.plot([onset_sgram_tpt_lower, onset_sgram_tpt_lower],ylim,'k--')\n",
    "        plt.ylim(ylim)\n",
    "        plt.xlim([zoom_sgram_tpt_lower,zoom_sgram_tpt_upper])\n",
    "        xtick_labels=[str(int(sgram_sec[zoom_sgram_tpt_lower])), str(int(sgram_sec[zoom_sgram_tpt_upper]))]\n",
    "        plt.xticks([zoom_sgram_tpt_lower,zoom_sgram_tpt_upper],xtick_labels)\n",
    "        plt.ylabel('Hz')\n",
    "        plt.xlabel('Seconds')\n",
    "        plt.gca().invert_yaxis()\n",
    "        plt.title(szr_name+' '+chan_labels[onset_chan_id])\n",
    "        # create an axes on the right side of ax. The width of cax will be 5%\n",
    "        # of ax and the padding between cax and ax will be fixed at 0.05 inch.\n",
    "        divider = make_axes_locatable(ax)\n",
    "        cax = divider.append_axes(\"right\", size=\"5%\", pad=0.05)\n",
    "        cbar_min_tick=int(np.floor(np.min(sgram)*.95))\n",
    "        cbar_max_tick=int(np.floor(np.max(sgram)*.95))\n",
    "        cbar=plt.colorbar(im, cax=cax,ticks=[cbar_min_tick, 0, cbar_max_tick])\n",
    "        cbar.set_label('40% trim z-score log10(pwr)')\n",
    "        \n",
    "        # Compute sgram across all channels\n",
    "        omni_sgram=np.zeros((n_freq*n_chan,n_wind))\n",
    "        omni_sgram_yticks=np.zeros(n_chan)\n",
    "        for chan_loop in range(n_chan):\n",
    "            temp_sgram, temp_f, _=ief.mt_sgram(ieeg[chan_loop,:],Sf,wind_len,wind_step,n_tapers,tpts_sec)\n",
    "            omni_sgram[chan_loop*n_freq:(chan_loop+1)*n_freq,:]=temp_sgram[:n_freq,:]\n",
    "            omni_sgram_yticks[chan_loop]=(chan_loop*n_freq+(chan_loop+1)*n_freq)/2\n",
    "        \n",
    "        # Plot sgram at just onset channel with onset overlay\n",
    "        omni_sgram_z=omni_sgram.copy()\n",
    "        #40% Trimmed normalization\n",
    "        dg.trimmed_normalize(omni_sgram_z,.4)\n",
    "        abs_mx=np.max(np.abs(omni_sgram_z))\n",
    "        plt.figure(5)\n",
    "        plt.clf()\n",
    "        ax = plt.gca()\n",
    "        im=ax.imshow(omni_sgram_z,aspect='auto',vmin=-abs_mx,vmax=abs_mx)\n",
    "        ylim=plt.ylim()\n",
    "        plt.plot([onset_sgram_tpt_upper, onset_sgram_tpt_upper],ylim,'k:')\n",
    "        plt.plot([onset_sgram_tpt_lower, onset_sgram_tpt_lower],ylim,'k:')\n",
    "        plt.plot([onset_sgram_tpt_upper, onset_sgram_tpt_upper],\n",
    "                 [onset_chan_id*n_freq, (1+onset_chan_id)*n_freq],'r-')\n",
    "        plt.plot([onset_sgram_tpt_lower, onset_sgram_tpt_lower],\n",
    "                 [onset_chan_id*n_freq, (1+onset_chan_id)*n_freq],'r-')\n",
    "        raw_xticks=plt.xticks()\n",
    "        xtick_labels=list()\n",
    "        for tick in raw_xticks[0]:\n",
    "            if tick<n_wind:\n",
    "                xtick_labels.append(str(int(sgram_sec[int(tick)])))\n",
    "            else:\n",
    "                xtick_labels.append('noData')\n",
    "        _=plt.xticks(raw_xticks[0],xtick_labels) #works\n",
    "        plt.ylim(ylim)\n",
    "        plt.yticks(omni_sgram_yticks,chan_labels,fontsize=8)\n",
    "        plt.xlim([0,n_wind])\n",
    "        plt.ylabel('Hz')\n",
    "        plt.xlabel('Seconds')\n",
    "        plt.gca().invert_yaxis()\n",
    "        plt.title(szr_name+' '+'Sgram (trim norm dB)')\n",
    "        # create an axes on the right side of ax. The width of cax will be 5%\n",
    "        # of ax and the padding between cax and ax will be fixed at 0.05 inch.\n",
    "        divider = make_axes_locatable(ax)\n",
    "        cax = divider.append_axes(\"right\", size=\"5%\", pad=0.05)\n",
    "        cbar_min_tick=int(np.floor(np.min(omni_sgram_z)*.95))\n",
    "        cbar_max_tick=int(np.floor(np.max(omni_sgram_z)*.95))\n",
    "        cbar=plt.colorbar(im, cax=cax,ticks=[cbar_min_tick, 0, cbar_max_tick])\n",
    "        cbar.set_label('40% trim z-score log10(pwr)')"
   ]
  },
  {
   "cell_type": "code",
   "execution_count": null,
   "metadata": {
    "collapsed": true
   },
   "outputs": [],
   "source": []
  }
 ],
 "metadata": {
  "anaconda-cloud": {},
  "kernelspec": {
   "display_name": "Python [default]",
   "language": "python",
   "name": "python3"
  }
 },
 "nbformat": 4,
 "nbformat_minor": 1
}
