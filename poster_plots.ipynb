{
 "cells": [
  {
   "cell_type": "code",
   "execution_count": 8,
   "metadata": {
    "collapsed": false
   },
   "outputs": [
    {
     "data": {
      "text/plain": [
       "'/Users/davidgroppe/ONGOING/TWH_EEG/'"
      ]
     },
     "execution_count": 8,
     "metadata": {},
     "output_type": "execute_result"
    }
   ],
   "source": [
    "import numpy as np\n",
    "import pandas as pd\n",
    "import os\n",
    "import scipy.io\n",
    "import ieeg_funcs as ief\n",
    "import re\n",
    "import dgFuncs as dg\n",
    "from sklearn import preprocessing\n",
    "import sys\n",
    "from scipy import stats\n",
    "import imp \n",
    "from mpl_toolkits.axes_grid1 import make_axes_locatable\n",
    "import matplotlib.pyplot as plt\n",
    "%matplotlib inline\n",
    "\n",
    "path_dict=ief.get_path_dict()\n",
    "path_dict['ieeg_root']"
   ]
  },
  {
   "cell_type": "code",
   "execution_count": null,
   "metadata": {
    "collapsed": true
   },
   "outputs": [],
   "source": [
    "# Block for re-loading my libraries if I make updates\n",
    "import imp \n",
    "imp.reload(ief) \n",
    "imp.reload(dg) "
   ]
  },
  {
   "cell_type": "code",
   "execution_count": 3,
   "metadata": {
    "collapsed": false
   },
   "outputs": [
    {
     "name": "stdout",
     "output_type": "stream",
     "text": [
      "Sub=NA, onset chan=RHD1-2\n"
     ]
    }
   ],
   "source": [
    "# Define sub and onset channel\n",
    "#sub='TF'\n",
    "sub='NA'\n",
    "onset_df=pd.read_csv('/Users/davidgroppe/PycharmProjects/SZR_ANT/chans_of_interest.csv',na_filter=False)\n",
    "row_id=onset_df[onset_df.iloc[:,0]==sub].index.tolist()\n",
    "onset_chan=onset_df.iloc[row_id[0],1].strip() #strip removes white space\n",
    "print('Sub=%s, onset chan=%s' % (sub,onset_chan))"
   ]
  },
  {
   "cell_type": "code",
   "execution_count": 4,
   "metadata": {
    "collapsed": false
   },
   "outputs": [
    {
     "name": "stdout",
     "output_type": "stream",
     "text": [
      "Importing file /Users/davidgroppe/Dropbox/TWH_INFO/CLINICIAN_ONSET_TIMES/NA_clinician_onset_offset.csv\n"
     ]
    }
   ],
   "source": [
    "# Import Clinician Szr Onset Times\n",
    "if sys.platform=='linux':\n",
    "    onset_csv_dir='/home/dgroppe/TWH_INFO/CLINICIAN_ONSET_TIMES'\n",
    "else:\n",
    "    onset_csv_dir='/Users/davidgroppe/Dropbox/TWH_INFO/CLINICIAN_ONSET_TIMES'\n",
    "onset_csv_fname=os.path.join(onset_csv_dir,sub+'_clinician_onset_offset.csv')\n",
    "print('Importing file %s' % onset_csv_fname)\n",
    "onset_df=pd.read_csv(onset_csv_fname)"
   ]
  },
  {
   "cell_type": "code",
   "execution_count": 5,
   "metadata": {
    "collapsed": false
   },
   "outputs": [
    {
     "data": {
      "text/html": [
       "<div>\n",
       "<table border=\"1\" class=\"dataframe\">\n",
       "  <thead>\n",
       "    <tr style=\"text-align: right;\">\n",
       "      <th></th>\n",
       "      <th>DAY</th>\n",
       "      <th>SZR#</th>\n",
       "      <th>ONSET</th>\n",
       "      <th>OFFSET</th>\n",
       "      <th>SOZ_CHAN</th>\n",
       "      <th>FILE_ONSET</th>\n",
       "      <th>DDMMYR</th>\n",
       "      <th>SRATE_HZ</th>\n",
       "      <th>NOTES</th>\n",
       "      <th>ONSET_SEC</th>\n",
       "      <th>FILE_ONSET_SEC</th>\n",
       "      <th>ONSET_TPT</th>\n",
       "      <th>DG_ONSET_CHAN</th>\n",
       "      <th>USE4CLASSIFIER</th>\n",
       "    </tr>\n",
       "  </thead>\n",
       "  <tbody>\n",
       "    <tr>\n",
       "      <th>0</th>\n",
       "      <td>1</td>\n",
       "      <td>1</td>\n",
       "      <td>8:59:03 PM</td>\n",
       "      <td>9:38:35 PM</td>\n",
       "      <td>?</td>\n",
       "      <td>?</td>\n",
       "      <td>06/23/2009</td>\n",
       "      <td>500</td>\n",
       "      <td>?</td>\n",
       "      <td>75543</td>\n",
       "      <td>NaN</td>\n",
       "      <td>NaN</td>\n",
       "      <td>?</td>\n",
       "      <td>noEEGdata</td>\n",
       "    </tr>\n",
       "    <tr>\n",
       "      <th>1</th>\n",
       "      <td>1</td>\n",
       "      <td>2</td>\n",
       "      <td>1:54:41 AM</td>\n",
       "      <td>1:55:52 AM</td>\n",
       "      <td>RHD1</td>\n",
       "      <td>1:52:45</td>\n",
       "      <td>06/23/2009</td>\n",
       "      <td>500</td>\n",
       "      <td>?</td>\n",
       "      <td>6881</td>\n",
       "      <td>6765.0</td>\n",
       "      <td>58000.0</td>\n",
       "      <td>RHD1-2</td>\n",
       "      <td>use</td>\n",
       "    </tr>\n",
       "    <tr>\n",
       "      <th>2</th>\n",
       "      <td>1</td>\n",
       "      <td>3</td>\n",
       "      <td>2:42:25 AM</td>\n",
       "      <td>2:43:58 AM</td>\n",
       "      <td>?</td>\n",
       "      <td>2:39:36</td>\n",
       "      <td>06/23/2009</td>\n",
       "      <td>500</td>\n",
       "      <td>?</td>\n",
       "      <td>9745</td>\n",
       "      <td>9576.0</td>\n",
       "      <td>84500.0</td>\n",
       "      <td>RHD1-2</td>\n",
       "      <td>use</td>\n",
       "    </tr>\n",
       "    <tr>\n",
       "      <th>3</th>\n",
       "      <td>1</td>\n",
       "      <td>4</td>\n",
       "      <td>4:51:59 AM</td>\n",
       "      <td>4:53:35 AM</td>\n",
       "      <td>?</td>\n",
       "      <td>4:49:03</td>\n",
       "      <td>06/23/2009</td>\n",
       "      <td>500</td>\n",
       "      <td>?</td>\n",
       "      <td>17519</td>\n",
       "      <td>17343.0</td>\n",
       "      <td>88000.0</td>\n",
       "      <td>RHD1-2</td>\n",
       "      <td>use</td>\n",
       "    </tr>\n",
       "    <tr>\n",
       "      <th>4</th>\n",
       "      <td>1</td>\n",
       "      <td>5</td>\n",
       "      <td>6:29:14 AM</td>\n",
       "      <td>6:31:11 AM</td>\n",
       "      <td>?</td>\n",
       "      <td>6:26:20</td>\n",
       "      <td>06/23/2009</td>\n",
       "      <td>500</td>\n",
       "      <td>?</td>\n",
       "      <td>23354</td>\n",
       "      <td>23180.0</td>\n",
       "      <td>87000.0</td>\n",
       "      <td>RHD1-2</td>\n",
       "      <td>use</td>\n",
       "    </tr>\n",
       "  </tbody>\n",
       "</table>\n",
       "</div>"
      ],
      "text/plain": [
       "   DAY  SZR#       ONSET      OFFSET SOZ_CHAN FILE_ONSET      DDMMYR  \\\n",
       "0    1     1  8:59:03 PM  9:38:35 PM        ?          ?  06/23/2009   \n",
       "1    1     2  1:54:41 AM  1:55:52 AM     RHD1    1:52:45  06/23/2009   \n",
       "2    1     3  2:42:25 AM  2:43:58 AM        ?    2:39:36  06/23/2009   \n",
       "3    1     4  4:51:59 AM  4:53:35 AM        ?    4:49:03  06/23/2009   \n",
       "4    1     5  6:29:14 AM  6:31:11 AM        ?    6:26:20  06/23/2009   \n",
       "\n",
       "   SRATE_HZ NOTES  ONSET_SEC  FILE_ONSET_SEC  ONSET_TPT DG_ONSET_CHAN  \\\n",
       "0       500     ?      75543             NaN        NaN             ?   \n",
       "1       500     ?       6881          6765.0    58000.0        RHD1-2   \n",
       "2       500     ?       9745          9576.0    84500.0        RHD1-2   \n",
       "3       500     ?      17519         17343.0    88000.0        RHD1-2   \n",
       "4       500     ?      23354         23180.0    87000.0        RHD1-2   \n",
       "\n",
       "  USE4CLASSIFIER  \n",
       "0      noEEGdata  \n",
       "1            use  \n",
       "2            use  \n",
       "3            use  \n",
       "4            use  "
      ]
     },
     "execution_count": 5,
     "metadata": {},
     "output_type": "execute_result"
    }
   ],
   "source": [
    "onset_df.head()"
   ]
  },
  {
   "cell_type": "code",
   "execution_count": 6,
   "metadata": {
    "collapsed": false
   },
   "outputs": [
    {
     "name": "stdout",
     "output_type": "stream",
     "text": [
      "Loading /Users/davidgroppe/ONGOING/TWH_EEG/NA/NA_channel_info.csv\n"
     ]
    }
   ],
   "source": [
    "# Get list of channels and ID of onset channel\n",
    "chan_labels=ief.import_chan_labels(sub)\n",
    "onset_chan_id=chan_labels.index(onset_chan)"
   ]
  },
  {
   "cell_type": "code",
   "execution_count": 10,
   "metadata": {
    "collapsed": false
   },
   "outputs": [
    {
     "name": "stdout",
     "output_type": "stream",
     "text": [
      "Importing manual onset times from /Users/davidgroppe/ONGOING/SZR_SPREAD/PATIENTS/NA/ONSETTIMES/\n",
      "7 manual wide-band onset files found\n"
     ]
    }
   ],
   "source": [
    "# Load manual onset times (this is just to get list of usable seizure names)\n",
    "csv_path='/Users/davidgroppe/ONGOING/SZR_SPREAD/PATIENTS/'+sub+'/ONSETTIMES/'\n",
    "print('Importing manual onset times from %s' % csv_path)\n",
    "csv_list=list()\n",
    "for f in os.listdir(csv_path):\n",
    "    if f.endswith('manualOnsets.txt'):\n",
    "        csv_list.append(f)\n",
    "\n",
    "n_files=len(csv_list)\n",
    "print('%d manual wide-band onset files found' % n_files)"
   ]
  },
  {
   "cell_type": "code",
   "execution_count": 44,
   "metadata": {
    "collapsed": false
   },
   "outputs": [
    {
     "name": "stdout",
     "output_type": "stream",
     "text": [
      "NA_d1_sz2\n",
      "Getting clinical onset time for NA: Day 1, Szr 2\n",
      "Loading /Users/davidgroppe/ONGOING/TWH_EEG/NA/EEG_MAT/NA_d1_sz2.mat\n",
      "201 dimensions\n",
      "1860 observations\n"
     ]
    },
    {
     "data": {
      "image/png": "[encoded data removed]",
      "text/plain": [
       "<matplotlib.figure.Figure at 0x1163819b0>"
      ]
     },
     "metadata": {},
     "output_type": "display_data"
    }
   ],
   "source": [
    "imp.reload(ief) \n",
    "n_chan=len(chan_labels)\n",
    "\n",
    "# Loop through manual files (since I have one for each mat file)\n",
    "#for man_file_loop in range(n_files): TODO use this!!!\n",
    "for man_file_loop in range(1):\n",
    "    szr_name=csv_list[man_file_loop].split('_manualOnsets')[0]\n",
    "    #     digit_substrings=re.findall(r'\\d+',csv_list[man_file_loop])\n",
    "    #     szr_day=int(digit_substrings[0])\n",
    "    #     szr_num=int(digit_substrings[1])\n",
    "\n",
    "    # See if I have a clinician onset\n",
    "    print(szr_name)\n",
    "    # ?? onset_tpt=ief.clin_onset_tpt(szr_name, onset_df)\n",
    "    onset_tpt, onset_chan=ief.clin_onset_tpt_and_chan(szr_name, onset_df)\n",
    "    \n",
    "    if onset_tpt<0:\n",
    "        print('Warning: %s has a clinician onset time that is earlier than the file start time.' % szr_name)\n",
    "        print('Ignoring this szr for the time being')\n",
    "        onset_tpt=np.nan\n",
    "    elif np.isnan(onset_tpt):\n",
    "        print('Warning: %s has no clinician onset time.'  % szr_name)\n",
    "        print('Ignoring this szr for the time being')\n",
    "    else:\n",
    "        # Load the ieeg data\n",
    "        ieeg, Sf, tpts_sec=ief.import_ieeg(szr_name+'.mat')\n",
    "        \n",
    "        # Calcuate onset window (there is uncertainty due second resolution of Xltek text files)\n",
    "        onset_upper_bnd_sec=(onset_tpt/Sf)+1\n",
    "        onset_lower_bnd_sec=(onset_tpt/Sf)-1\n",
    "    \n",
    "        # Plot voltage time series at just the onset channel\n",
    "#         plt.figure(2)\n",
    "#         plt.clf()\n",
    "#         plt.plot(tpts_sec,ieeg[onset_chan_id,:])\n",
    "#         plt.xlim([onset_lower_bnd_sec-5, onset_upper_bnd_sec+3])\n",
    "#         ax=plt.gca()\n",
    "#         ylim=ax.get_ylim()\n",
    "#         plt.plot([onset_upper_bnd_sec, onset_upper_bnd_sec],ylim,'r--')\n",
    "#         plt.plot([onset_lower_bnd_sec, onset_lower_bnd_sec],ylim,'r--')\n",
    "#         plt.xlabel('Seconds')\n",
    "#         plt.ylabel('Voltage')\n",
    "        #plt.title(szr_name+' '+chan_labels[onset_chan_id])\n",
    "    \n",
    "        # Compute spectrogram at onset channel\n",
    "        wind_len=Sf\n",
    "        wind_step=Sf/10\n",
    "        n_tapers=4\n",
    "        sgram, f, sgram_sec=ief.mt_sgram(ieeg[onset_chan_id,:],Sf,wind_len,wind_step,n_tapers,tpts_sec)\n",
    "        cutoff_freq=Sf*.4 # remove frequencies above anti-aliasing filter cutoff\n",
    "        f=f[f<=cutoff_freq]\n",
    "        n_freq=len(f)\n",
    "        sgram=sgram[:n_freq,:]\n",
    "        n_wind=len(sgram_sec)\n",
    "    \n",
    "        # Find target stimulation window\n",
    "        clinician_onset_in_sec=tpts_sec[int(onset_tpt)]\n",
    "        stim_onset_tpt=dg.find_nearest(sgram_sec, clinician_onset_in_sec-4)\n",
    "        stim_offset_tpt=dg.find_nearest(sgram_sec, clinician_onset_in_sec+9)\n",
    "        \n",
    "        # Plot sgram at just onset channel with onset overlay\n",
    "        plt.figure(3)\n",
    "        plt.clf()\n",
    "        ax = plt.gca()\n",
    "        # 40% Trimmed normalization\n",
    "        dg.trimmed_normalize(sgram,.4)\n",
    "        #plt.imshow(sgram)\n",
    "        abs_mx=np.max(np.abs(sgram))\n",
    "        im=ax.imshow(sgram,vmin=-abs_mx,vmax=abs_mx)\n",
    "        onset_sgram_tpt_lower=dg.find_nearest(sgram_sec,onset_lower_bnd_sec)\n",
    "        onset_sgram_tpt_upper=dg.find_nearest(sgram_sec,onset_upper_bnd_sec)\n",
    "        ylim=plt.ylim()\n",
    "#         plt.plot([onset_sgram_tpt_upper, onset_sgram_tpt_upper],ylim,'k--')\n",
    "#         plt.plot([onset_sgram_tpt_lower, onset_sgram_tpt_lower],ylim,'k--')\n",
    "        plt.plot([stim_onset_tpt, stim_onset_tpt],ylim,'r--')\n",
    "        #plt.plot([stim_offset_tpt, stim_offset_tpt],ylim,'r--')\n",
    "        raw_xticks=plt.xticks()\n",
    "        xtick_labels=list()\n",
    "        for tick in raw_xticks[0]:\n",
    "            if tick<n_wind:\n",
    "                xtick_labels.append(str(int(sgram_sec[int(tick)])))\n",
    "            else:\n",
    "                xtick_labels.append('noData')\n",
    "        _=plt.xticks(raw_xticks[0],xtick_labels) #works\n",
    "        plt.ylim(ylim)\n",
    "        #plt.xlim([0,n_wind])\n",
    "        plt.xlim([0,stim_offset_tpt])\n",
    "        plt.ylabel('Hz')\n",
    "        plt.xlabel('Seconds')\n",
    "        plt.gca().invert_yaxis()\n",
    "        ytick_labels=list()\n",
    "        yticks=np.arange(0,201,50)\n",
    "        for tick in yticks:\n",
    "                ytick_labels.append(str(int(f[tick])))\n",
    "        _=plt.yticks(np.arange(0,201,59),ytick_labels)\n",
    "        #plt.title(szr_name+' '+chan_labels[onset_chan_id]+' '+'Sgram (40% trim norm dB)')\n",
    "        # create an axes on the right side of ax. The width of cax will be 5%\n",
    "        # of ax and the padding between cax and ax will be fixed at 0.05 inch.\n",
    "        divider = make_axes_locatable(ax)\n",
    "        cax = divider.append_axes(\"right\", size=\"5%\", pad=0.05)\n",
    "        cbar_max_tick=int(np.floor(abs_mx*.95))\n",
    "        cbar_min_tick=-cbar_max_tick\n",
    "        cbar=plt.colorbar(im, cax=cax,ticks=[cbar_min_tick, 0, cbar_max_tick])\n",
    "        plt.savefig('example_szr_sgram.pdf')"
   ]
  },
  {
   "cell_type": "code",
   "execution_count": 49,
   "metadata": {
    "collapsed": false
   },
   "outputs": [
    {
     "data": {
      "text/plain": [
       "['peri_ictal', 'time_wind_sec', 'ftr_list', 'ftrs']"
      ]
     },
     "execution_count": 49,
     "metadata": {},
     "output_type": "execute_result"
    }
   ],
   "source": [
    "# Load a feature\n",
    "bro=np.load('/Users/davidgroppe/PycharmProjects/SZR_ANT/FTRS/VLTGSTD_3SEC/IB/IB_d6_sz3_vltg_std3sec.npz')\n",
    "bro.keys()"
   ]
  },
  {
   "cell_type": "code",
   "execution_count": 48,
   "metadata": {
    "collapsed": false
   },
   "outputs": [
    {
     "data": {
      "text/plain": [
       "197.899"
      ]
     },
     "execution_count": 48,
     "metadata": {},
     "output_type": "execute_result"
    }
   ],
   "source": [
    "np.max(bro['time_wind_sec'][bro['peri_ictal']==0])"
   ]
  },
  {
   "cell_type": "code",
   "execution_count": 47,
   "metadata": {
    "collapsed": false
   },
   "outputs": [
    {
     "data": {
      "text/plain": [
       "[<matplotlib.lines.Line2D at 0x11622dac8>]"
      ]
     },
     "execution_count": 47,
     "metadata": {},
     "output_type": "execute_result"
    },
    {
     "data": {
      "image/png": "[encoded data removed]",
      "text/plain": [
       "<matplotlib.figure.Figure at 0x106ad21d0>"
      ]
     },
     "metadata": {},
     "output_type": "display_data"
    }
   ],
   "source": [
    "plt.figure(1)\n",
    "plt.clf()\n",
    "plt.plot(bro['peri_ictal'])"
   ]
  },
  {
   "cell_type": "code",
   "execution_count": null,
   "metadata": {
    "collapsed": true
   },
   "outputs": [],
   "source": [
    "# Load Raw Data\n",
    "\n",
    "# Load Features\n",
    "\n",
    "Plo"
   ]
  }
 ],
 "metadata": {
  "anaconda-cloud": {},
  "kernelspec": {
   "display_name": "Python [conda root]",
   "language": "python",
   "name": "conda-root-py"
  },
  "language_info": {
   "codemirror_mode": {
    "name": "ipython",
    "version": 3
   },
   "file_extension": ".py",
   "mimetype": "text/x-python",
   "name": "python",
   "nbconvert_exporter": "python",
   "pygments_lexer": "ipython3",
   "version": "3.5.3"
  }
 },
 "nbformat": 4,
 "nbformat_minor": 2
}
