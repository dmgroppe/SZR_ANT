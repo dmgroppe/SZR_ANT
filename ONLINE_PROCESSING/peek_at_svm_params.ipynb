{
 "cells": [
  {
   "cell_type": "code",
   "execution_count": 3,
   "metadata": {},
   "outputs": [],
   "source": [
    "import numpy as np\n",
    "from sklearn import svm, linear_model\n",
    "import pickle as pkl"
   ]
  },
  {
   "cell_type": "code",
   "execution_count": 4,
   "metadata": {},
   "outputs": [
    {
     "name": "stderr",
     "output_type": "stream",
     "text": [
      "/Users/davidgroppe/anaconda/lib/python3.5/site-packages/sklearn/base.py:311: UserWarning: Trying to unpickle estimator SVC from version 0.19.0 when using version 0.19.2. This might lead to breaking code or invalid results. Use at your own risk.\n",
      "  UserWarning)\n"
     ]
    }
   ],
   "source": [
    "infname='classify_models_srch.pkl';\n",
    "mod=pkl.load(open(infname,'rb'));"
   ]
  },
  {
   "cell_type": "code",
   "execution_count": 10,
   "metadata": {},
   "outputs": [
    {
     "name": "stdout",
     "output_type": "stream",
     "text": [
      "dict_keys([0, 1, 2, 3, 4, 5, 6, 7])\n",
      "SVC(C=10000000000.0, cache_size=200, class_weight='balanced', coef0=0.0,\n",
      "  decision_function_shape='ovr', degree=3, gamma=3.1622776601683794e-15,\n",
      "  kernel='rbf', max_iter=-1, probability=False, random_state=None,\n",
      "  shrinking=True, tol=0.001, verbose=False)\n"
     ]
    }
   ],
   "source": [
    "print(mod.keys())\n",
    "sv=mod[0]\n",
    "print(sv)"
   ]
  },
  {
   "cell_type": "code",
   "execution_count": 11,
   "metadata": {},
   "outputs": [
    {
     "name": "stdout",
     "output_type": "stream",
     "text": [
      "[[-1.50008031e-01 -2.26644202e-01 -2.35194410e-01 ... -2.70273588e-01\n",
      "  -2.67973075e-01 -2.79797615e-01]\n",
      " [ 1.54402746e+00  1.39371185e-01  4.60939190e-02 ...  8.50008887e-01\n",
      "   1.01502979e+01  4.35216521e+02]\n",
      " [ 2.99378555e+00  1.56511673e+01  3.31981473e+01 ...  5.27223727e+01\n",
      "   5.31142494e+02  2.06836352e+02]\n",
      " ...\n",
      " [ 1.07595417e+00  7.57207910e+00  1.90223029e+01 ...  4.80692873e+01\n",
      "   4.15116784e+01  6.71012493e+00]\n",
      " [ 6.79449683e-01  3.73944864e+00  1.19019764e+01 ...  2.97765538e+01\n",
      "   3.96902339e+01  1.67811603e+01]\n",
      " [ 8.08415603e-01  3.96851965e-01  6.55971074e-01 ... -1.32861204e-01\n",
      "   6.43300166e-01  3.36948309e+00]]\n"
     ]
    }
   ],
   "source": [
    "print(sv.support_vectors_)"
   ]
  },
  {
   "cell_type": "code",
   "execution_count": 12,
   "metadata": {},
   "outputs": [
    {
     "name": "stdout",
     "output_type": "stream",
     "text": [
      "3.1622776601683794e-15\n"
     ]
    }
   ],
   "source": [
    "print(sv.gamma)"
   ]
  },
  {
   "cell_type": "code",
   "execution_count": 13,
   "metadata": {},
   "outputs": [
    {
     "name": "stdout",
     "output_type": "stream",
     "text": [
      "<bound method BaseSVC.decision_function of SVC(C=10000000000.0, cache_size=200, class_weight='balanced', coef0=0.0,\n",
      "  decision_function_shape='ovr', degree=3, gamma=3.1622776601683794e-15,\n",
      "  kernel='rbf', max_iter=-1, probability=False, random_state=None,\n",
      "  shrinking=True, tol=0.001, verbose=False)>\n"
     ]
    }
   ],
   "source": [
    "print(sv.decision_function)"
   ]
  },
  {
   "cell_type": "code",
   "execution_count": 15,
   "metadata": {},
   "outputs": [
    {
     "name": "stdout",
     "output_type": "stream",
     "text": [
      "[0.92477081]\n",
      "[[-2.03838557e+09 -2.17389147e+06 -1.08694574e+06 ...  1.62443068e+07\n",
      "   1.98541528e+07  1.11002763e+08]]\n"
     ]
    }
   ],
   "source": [
    "# coef0 <-only relevant for sigmoid and polynomial kernels\n",
    "print(sv.intercept_) # intercept corresponds to beta in Gerard's matlab code\n",
    "print(sv.dual_coef_) # corresponds to alpha in Gerard's matlab code"
   ]
  },
  {
   "cell_type": "code",
   "execution_count": null,
   "metadata": {},
   "outputs": [],
   "source": []
  }
 ],
 "metadata": {
  "anaconda-cloud": {},
  "kernelspec": {
   "display_name": "Python [conda root]",
   "language": "python",
   "name": "conda-root-py"
  },
  "language_info": {
   "codemirror_mode": {
    "name": "ipython",
    "version": 3
   },
   "file_extension": ".py",
   "mimetype": "text/x-python",
   "name": "python",
   "nbconvert_exporter": "python",
   "pygments_lexer": "ipython3",
   "version": "3.5.3"
  }
 },
 "nbformat": 4,
 "nbformat_minor": 2
}
