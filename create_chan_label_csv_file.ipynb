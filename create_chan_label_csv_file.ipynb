{
 "cells": [
  {
   "cell_type": "markdown",
   "metadata": {},
   "source": [
    "Simple notebook for creating a text file that lists channel names"
   ]
  },
  {
   "cell_type": "code",
   "execution_count": 1,
   "metadata": {
    "collapsed": true
   },
   "outputs": [],
   "source": [
    "import numpy as np\n",
    "import pandas as pd\n",
    "import scipy.io\n",
    "import os\n",
    "import ieeg_funcs as ief\n",
    "import dgFuncs as dg\n",
    "from sklearn import preprocessing\n",
    "import sys\n",
    "from scipy import stats\n",
    "import matplotlib.pyplot as plt\n",
    "%matplotlib inline"
   ]
  },
  {
   "cell_type": "code",
   "execution_count": 4,
   "metadata": {
    "collapsed": false
   },
   "outputs": [
    {
     "name": "stdout",
     "output_type": "stream",
     "text": [
      "Importing /Users/davidgroppe/ONGOING/TWH_EEG/IB/IB_channel_info.mat\n",
      "dict_keys(['__header__', '__globals__', 'bi_labels', 'bi_numbers', 'm_labels', 'group_end_index', '__version__'])\n",
      "Exporting /Users/davidgroppe/ONGOING/TWH_EEG/IB/IB_channel_info.csv\n",
      "# of channels=40\n",
      "LOF1-LOF2\n",
      "LOF2-LOF3\n",
      "LOF3-LOF4\n",
      "LAF1-LAF2\n",
      "LAF2-LAF3\n",
      "LAF3-LAF4\n",
      "LAH1-LAH2\n",
      "LAH2-LAH3\n",
      "LAH3-LAH4\n",
      "LLF1-LLF2\n",
      "LLF2-LLF3\n",
      "LLF3-LLF4\n",
      "LPH1-LPH2\n",
      "LPH2-LPH3\n",
      "LPH3-LPH4\n",
      "LHD1-LHD2\n",
      "LHD2-LHD3\n",
      "LHD3-LHD4\n",
      "LAT1-LAT2\n",
      "LAT2-LAT3\n",
      "LAT3-LAT4\n",
      "LMT1-LMT2\n",
      "LMT2-LMT3\n",
      "LMT3-LMT4\n",
      "LMT4-LPIT1\n",
      "LPIT1-LPIT2\n",
      "LPIT2-LPIT3\n",
      "LPIT3-LPIT4\n",
      "LPIT4-LPIT5\n",
      "LPIT5-LPIT6\n",
      "LPMT1-LPMT2\n",
      "LPMT2-LPMT3\n",
      "LPMT3-LPMT4\n",
      "LPMT4-LPMT5\n",
      "LPMT5-LPMT6\n",
      "LPST1-LPST2\n",
      "LPST2-LPST3\n",
      "LPST3-LPST4\n",
      "LPST4-LPST5\n",
      "LPST5-LPST6\n"
     ]
    }
   ],
   "source": [
    "# create csv file of channel names for a sub\n",
    "# sub='TF'\n",
    "# sub='CC'\n",
    "#sub='CT'\n",
    "#sub='ME'\n",
    "#sub='CJ'\n",
    "#sub='CO'\n",
    "sub='JW'\n",
    "sub='IB'\n",
    "path_dict = ief.get_path_dict()\n",
    "in_fname=os.path.join(path_dict['ieeg_root'],sub,sub+'_channel_info.mat')\n",
    "# in_fname=os.path.join('/Users/davidgroppe/ONGOING/SZR_SPREAD/PATIENTS/',sub,'Data',\n",
    "#                       sub+'_channel_info.mat')\n",
    "# in_fname=os.path.join('/Users/davidgroppe/ONGOING/SZR_SPREAD/PATIENTS/',sub,\n",
    "#                       sub+'_channel_info.mat')\n",
    "#in_fname='/Users/davidgroppe/ONGOING/SZR_SPREAD/PATIENTS/CJ/CJ_channel_info.mat' #88 channels\n",
    "#in_fname='/Users/davidgroppe/ONGOING/TWH_DATA/CJ/CJ_channel_info.mat' #89 channels\n",
    "print('Importing %s' % in_fname)\n",
    "mat=scipy.io.loadmat(in_fname)\n",
    "print(mat.keys())\n",
    "\n",
    "out_fname=os.path.join(path_dict['ieeg_root'],sub,sub+'_channel_info.csv')\n",
    "# out_fname=os.path.join('/Users/davidgroppe/ONGOING/SZR_SPREAD/PATIENTS/',sub,\n",
    "#                       sub+'_channel_info.csv')\n",
    "print('Exporting %s' % out_fname)\n",
    "print('# of channels=%d' % len(mat['bi_labels'][0,:]))\n",
    "\n",
    "txt_file=open(out_fname,'w')\n",
    "for a in mat['bi_labels'][0,:]:\n",
    "    print(a[0])\n",
    "    txt_file.write(a[0])\n",
    "    txt_file.write('\\n')\n",
    "txt_file.close()"
   ]
  },
  {
   "cell_type": "code",
   "execution_count": null,
   "metadata": {
    "collapsed": true
   },
   "outputs": [],
   "source": []
  }
 ],
 "metadata": {
  "anaconda-cloud": {},
  "kernelspec": {
   "display_name": "Python [default]",
   "language": "python",
   "name": "python3"
  },
  "language_info": {
   "codemirror_mode": {
    "name": "ipython",
    "version": 3
   },
   "file_extension": ".py",
   "mimetype": "text/x-python",
   "name": "python",
   "nbconvert_exporter": "python",
   "pygments_lexer": "ipython3",
   "version": "3.5.2"
  }
 },
 "nbformat": 4,
 "nbformat_minor": 1
}
