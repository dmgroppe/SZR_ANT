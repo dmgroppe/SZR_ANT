{
 "cells": [
  {
   "cell_type": "markdown",
   "metadata": {},
   "source": [
    "# Script for figuring out how to equally weight data from different subjects"
   ]
  },
  {
   "cell_type": "code",
   "execution_count": 2,
   "metadata": {
    "collapsed": true
   },
   "outputs": [],
   "source": [
    "import pandas as pd\n",
    "import numpy as np\n",
    "from sklearn import linear_model"
   ]
  },
  {
   "cell_type": "code",
   "execution_count": 28,
   "metadata": {
    "collapsed": false
   },
   "outputs": [
    {
     "name": "stdout",
     "output_type": "stream",
     "text": [
      "Ideal 0.700000 0.300000\n",
      "Actual [ 0.69586165  0.30413835]\n"
     ]
    }
   ],
   "source": [
    "# No weights\n",
    "n=100\n",
    "pptn_hit=.3\n",
    "x=np.ones((n,1))\n",
    "y=np.zeros(n)\n",
    "y[:int(np.round(n*pptn_hit))]=1\n",
    "\n",
    "lr=linear_model.LogisticRegression()\n",
    "lr.fit(x,y)\n",
    "# yhat=lr.predict_proba(x)\n",
    "yhat=lr.predict_proba(x)\n",
    "print('Ideal %f %f' % ((1-pptn_hit),pptn_hit))\n",
    "print('Actual {}'.format(yhat[0,:]))"
   ]
  },
  {
   "cell_type": "code",
   "execution_count": 37,
   "metadata": {
    "collapsed": false
   },
   "outputs": [
    {
     "name": "stdout",
     "output_type": "stream",
     "text": [
      "1.66666666667\n",
      "sum wts=99.99999999999994\n",
      "No weighted 0.700000 0.300000\n",
      "Ideal is 0.5 0.5\n",
      "Actual [ 0.5  0.5]\n"
     ]
    }
   ],
   "source": [
    "# YES weights\n",
    "n=100\n",
    "pptn_hit=.3\n",
    "n_hit=int(np.round(n*pptn_hit))\n",
    "x=np.ones((n,1))\n",
    "y=np.zeros(n)\n",
    "y[:n_hit]=1\n",
    "wts=np.ones(n)\n",
    "wts[:n_hit]=.5/n_hit\n",
    "wts[n_hit:]=.5/(n-n_hit)\n",
    "wts=wts*100\n",
    "\n",
    "lr=linear_model.LogisticRegression()\n",
    "lr.fit(x,y,sample_weight=wts)\n",
    "# yhat=lr.predict_proba(x)\n",
    "yhat=lr.predict_proba(x)\n",
    "print(wts[0])\n",
    "print('sum wts={}'.format(np.sum(wts)))\n",
    "print('No weighted %f %f' % ((1-pptn_hit),pptn_hit))\n",
    "print('Ideal is 0.5 0.5')\n",
    "print('Actual {}'.format(yhat[0,:]))"
   ]
  },
  {
   "cell_type": "code",
   "execution_count": 20,
   "metadata": {
    "collapsed": true
   },
   "outputs": [],
   "source": [
    "lr.predict?"
   ]
  },
  {
   "cell_type": "code",
   "execution_count": 29,
   "metadata": {
    "collapsed": true
   },
   "outputs": [],
   "source": [
    "lr.fit?"
   ]
  },
  {
   "cell_type": "code",
   "execution_count": null,
   "metadata": {
    "collapsed": true
   },
   "outputs": [],
   "source": []
  }
 ],
 "metadata": {
  "anaconda-cloud": {},
  "kernelspec": {
   "display_name": "Python [conda root]",
   "language": "python",
   "name": "conda-root-py"
  },
  "language_info": {
   "codemirror_mode": {
    "name": "ipython",
    "version": 3
   },
   "file_extension": ".py",
   "mimetype": "text/x-python",
   "name": "python",
   "nbconvert_exporter": "python",
   "pygments_lexer": "ipython3",
   "version": "3.5.3"
  }
 },
 "nbformat": 4,
 "nbformat_minor": 2
}
