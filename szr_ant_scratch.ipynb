{
 "cells": [
  {
   "cell_type": "markdown",
   "metadata": {},
   "source": [
    "Notebook for doing quick one shot tasks"
   ]
  },
  {
   "cell_type": "code",
   "execution_count": 1,
   "metadata": {
    "collapsed": true
   },
   "outputs": [],
   "source": [
    "import numpy as np\n",
    "import pandas as pd\n",
    "import scipy.io\n",
    "import os\n",
    "import ieeg_funcs as ief\n",
    "import dgFuncs as dg\n",
    "from sklearn import preprocessing\n",
    "import sys\n",
    "from scipy import stats\n",
    "import matplotlib.pyplot as plt\n",
    "%matplotlib inline"
   ]
  },
  {
   "cell_type": "code",
   "execution_count": 17,
   "metadata": {
    "collapsed": false
   },
   "outputs": [
    {
     "name": "stdout",
     "output_type": "stream",
     "text": [
      "['LHD2-LHD3']\n",
      "<class 'numpy.str_'>\n",
      "RPT3-RPT4\n"
     ]
    }
   ],
   "source": [
    "len(mat['bi_labels'])\n",
    "type(mat['bi_labels'])\n",
    "print(mat['bi_labels'][0,1])\n",
    "print(type(a[0]))\n",
    "len(a[0])\n",
    "print(a[0])"
   ]
  },
  {
   "cell_type": "code",
   "execution_count": 52,
   "metadata": {
    "collapsed": false
   },
   "outputs": [
    {
     "name": "stdout",
     "output_type": "stream",
     "text": [
      "Importing /Users/davidgroppe/ONGOING/SZR_SPREAD/PATIENTS/CO/CO_channel_info.mat\n",
      "dict_keys(['group_end_index', '__globals__', '__header__', '__version__', 'bi_numbers', 'm_labels', 'bi_labels'])\n",
      "Exporting /Users/davidgroppe/ONGOING/SZR_SPREAD/PATIENTS/CO/CO_channel_info.csv\n",
      "# of channels=23\n",
      "LHD1-LHD2\n",
      "LHD2-LHD3\n",
      "LHD3-LHD4\n",
      "LAT1-LAT2\n",
      "LAT2-LAT3\n",
      "LMT1-LMT2\n",
      "LMT2-LMT3\n",
      "LMT3-LMT4\n",
      "LPT1-LPT2\n",
      "LPT2-LPT3\n",
      "LPT3-LPT4\n",
      "RHD1-RHD2\n",
      "RHD2-RHD3\n",
      "RHD3-RHD4\n",
      "RAT1-RAT2\n",
      "RAT2-RAT3\n",
      "RAT3-RAT4\n",
      "RMT1-RMT2\n",
      "RMT2-RMT3\n",
      "RMT3-RMT4\n",
      "RPT1-RPT2\n",
      "RPT2-RPT3\n",
      "RPT3-RPT4\n"
     ]
    }
   ],
   "source": [
    "# create csv file of channel names for a sub\n",
    "# sub='TF'\n",
    "# sub='CC'\n",
    "#sub='CT'\n",
    "#sub='ME'\n",
    "#sub='CJ'\n",
    "sub='CO'\n",
    "in_fname=os.path.join('/Users/davidgroppe/ONGOING/SZR_SPREAD/PATIENTS/',sub,'Data',\n",
    "                      sub+'_channel_info.mat')\n",
    "in_fname=os.path.join('/Users/davidgroppe/ONGOING/SZR_SPREAD/PATIENTS/',sub,\n",
    "                      sub+'_channel_info.mat')\n",
    "#in_fname='/Users/davidgroppe/ONGOING/SZR_SPREAD/PATIENTS/CJ/CJ_channel_info.mat' #88 channels\n",
    "#in_fname='/Users/davidgroppe/ONGOING/TWH_DATA/CJ/CJ_channel_info.mat' #89 channels\n",
    "print('Importing %s' % in_fname)\n",
    "mat=scipy.io.loadmat(in_fname)\n",
    "print(mat.keys())\n",
    "\n",
    "out_fname=os.path.join('/Users/davidgroppe/ONGOING/SZR_SPREAD/PATIENTS/',sub,\n",
    "                      sub+'_channel_info.csv')\n",
    "print('Exporting %s' % out_fname)\n",
    "print('# of channels=%d' % len(mat['bi_labels'][0,:]))\n",
    "\n",
    "txt_file=open(out_fname,'w')\n",
    "for a in mat['bi_labels'][0,:]:\n",
    "    print(a[0])\n",
    "    txt_file.write(a[0])\n",
    "    txt_file.write('\\n')\n",
    "txt_file.close()"
   ]
  },
  {
   "cell_type": "code",
   "execution_count": 46,
   "metadata": {
    "collapsed": false
   },
   "outputs": [
    {
     "data": {
      "text/plain": [
       "dict_keys(['group_end_index', '__globals__', 'matrix_bi', '__header__', '__version__', 'Sf', 'matrix_mo'])"
      ]
     },
     "execution_count": 46,
     "metadata": {},
     "output_type": "execute_result"
    }
   ],
   "source": [
    "mat=scipy.io.loadmat('/Users/davidgroppe/ONGOING/SZR_SPREAD/PATIENTS/CJ/Data/CJ_d6_sz1.mat')\n",
    "mat.keys()"
   ]
  },
  {
   "cell_type": "code",
   "execution_count": 48,
   "metadata": {
    "collapsed": false
   },
   "outputs": [
    {
     "data": {
      "text/plain": [
       "(63250, 88)"
      ]
     },
     "execution_count": 48,
     "metadata": {},
     "output_type": "execute_result"
    }
   ],
   "source": [
    "#mat TWH_DATA\n",
    "mat2=scipy.io.loadmat('/Users/davidgroppe/ONGOING/TWH_DATA/CJ/CJ_d6_sz1.mat')\n",
    "mat.keys()\n",
    "mat['matrix_bi'].shape"
   ]
  },
  {
   "cell_type": "code",
   "execution_count": null,
   "metadata": {
    "collapsed": true
   },
   "outputs": [],
   "source": []
  }
 ],
 "metadata": {
  "anaconda-cloud": {},
  "kernelspec": {
   "display_name": "Python [default]",
   "language": "python",
   "name": "python3"
  },
  "language_info": {
   "codemirror_mode": {
    "name": "ipython",
    "version": 3
   },
   "file_extension": ".py",
   "mimetype": "text/x-python",
   "name": "python",
   "nbconvert_exporter": "python",
   "pygments_lexer": "ipython3",
   "version": "3.5.2"
  }
 },
 "nbformat": 4,
 "nbformat_minor": 1
}
