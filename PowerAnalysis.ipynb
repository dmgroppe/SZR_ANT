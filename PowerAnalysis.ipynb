{
 "cells": [
  {
   "cell_type": "code",
   "execution_count": 1,
   "metadata": {
    "collapsed": true
   },
   "outputs": [],
   "source": [
    "import numpy as np\n",
    "import pandas as pd\n",
    "import scipy.io\n",
    "import os\n",
    "import ieeg_funcs as ief\n",
    "import dgFuncs as dg\n",
    "from sklearn import preprocessing\n",
    "import sys\n",
    "from scipy import stats\n",
    "import matplotlib.pyplot as plt\n",
    "%matplotlib inline"
   ]
  },
  {
   "cell_type": "code",
   "execution_count": 6,
   "metadata": {
    "collapsed": false
   },
   "outputs": [
    {
     "name": "stdout",
     "output_type": "stream",
     "text": [
      "3\n"
     ]
    }
   ],
   "source": [
    "szrs=np.random.binomial(n_subs_per_group,p_szr)\n",
    "type(szrs)\n",
    "print(szrs)"
   ]
  },
  {
   "cell_type": "code",
   "execution_count": 11,
   "metadata": {
    "collapsed": false
   },
   "outputs": [
    {
     "name": "stdout",
     "output_type": "stream",
     "text": [
      "0.150364\n",
      "0.15\n"
     ]
    }
   ],
   "source": [
    "n_subs=20\n",
    "n_subs_per_group=int(n_subs/2)\n",
    "n_sim=1000000\n",
    "p_szr=.3\n",
    "p_stop=.5\n",
    "n_szrs=np.zeros(n_sim)\n",
    "for sim_ct in range(n_sim):\n",
    "    szr=np.random.binomial(1,p_szr)\n",
    "    if np.random.binomial(1,1-p_stop):\n",
    "        n_szrs[sim_ct]=szr\n",
    "print(np.mean(n_szrs))\n",
    "print((1-p_stop)*p_szr)"
   ]
  },
  {
   "cell_type": "code",
   "execution_count": 67,
   "metadata": {
    "collapsed": false
   },
   "outputs": [
    {
     "name": "stdout",
     "output_type": "stream",
     "text": [
      "Stim group: mean (SD) # of szrs: 0.000000 (0.000000)\n",
      "Control group: mean (SD) # of szrs: 5.005600 (1.590273)\n",
      "Fisher Power (SE): 0.826000 (0.003791)\n",
      "t Power (SE): 0.826000 (0.003791)\n"
     ]
    },
    {
     "name": "stderr",
     "output_type": "stream",
     "text": [
      "/home/dgroppe/anaconda3/lib/python3.6/site-packages/ipykernel/__main__.py:27: RuntimeWarning: invalid value encountered in less\n"
     ]
    }
   ],
   "source": [
    "# Try one set of p_szr p_stop parameters\n",
    "n_subs=20\n",
    "n_subs_per_group=int(n_subs/2)\n",
    "n_sim=10000\n",
    "p_szr=0.5\n",
    "p_stop=1.0\n",
    "p_combo=p_szr*(1-p_stop)\n",
    "n_szrs_stim_group=np.zeros(n_sim)\n",
    "n_szrs_control_group=np.zeros(n_sim)\n",
    "reject_null=np.zeros(n_sim)\n",
    "p_fisher=np.zeros(n_sim)\n",
    "p_t=np.zeros(n_sim)\n",
    "for sim_ct in range(n_sim):\n",
    "    n_szrs_stim_group[sim_ct]=np.random.binomial(n_subs_per_group,p_combo)\n",
    "    n_szrs_control_group[sim_ct]=np.random.binomial(n_subs_per_group,p_szr)\n",
    "    oddsratio, pvalue = stats.fisher_exact([[n_szrs_stim_group[sim_ct], n_subs_per_group-n_szrs_stim_group[sim_ct]], \n",
    "                                            [n_szrs_control_group[sim_ct], n_subs_per_group-n_szrs_control_group[sim_ct]]],alternative='less')\n",
    "    reject_null[sim_ct]=pvalue<0.05\n",
    "    p_fisher[sim_ct]=pvalue\n",
    "    \n",
    "    # Ind samp t-test (not as appropriate, but should be similar with enough patients)\n",
    "    temp_stim=np.zeros(n_subs_per_group)\n",
    "    temp_ctrl=np.zeros(n_subs_per_group)\n",
    "    temp_stim[:int(n_szrs_stim_group[sim_ct])]=1\n",
    "    temp_ctrl[:int(n_szrs_control_group[sim_ct])]=1\n",
    "    t, p_t[sim_ct]=scipy.stats.ttest_ind(temp_stim, temp_ctrl) #NOTE THIS IS ONE TAILED!!!\n",
    "\n",
    "reject_null_t=p_t<0.05\n",
    "print('Stim group: mean (SD) # of szrs: %f (%f)' % (np.mean(n_szrs_stim_group),np.std(n_szrs_stim_group)))\n",
    "print('Control group: mean (SD) # of szrs: %f (%f)' % (np.mean(n_szrs_control_group),np.std(n_szrs_control_group)))\n",
    "print('Fisher Power (SE): %f (%f)' % (np.mean(reject_null),np.std(reject_null)/np.sqrt(n_sim)))\n",
    "print('t Power (SE): %f (%f)' % (np.mean(reject_null_t),np.std(reject_null_t)/np.sqrt(n_sim)))"
   ]
  },
  {
   "cell_type": "code",
   "execution_count": 77,
   "metadata": {
    "collapsed": false
   },
   "outputs": [
    {
     "name": "stdout",
     "output_type": "stream",
     "text": [
      "0 p_szr, p_stop: 0.000000, 0.000000\n",
      "0 p_szr, p_stop: 0.000000, 0.100000\n",
      "0 p_szr, p_stop: 0.000000, 0.200000\n",
      "0 p_szr, p_stop: 0.000000, 0.300000\n",
      "0 p_szr, p_stop: 0.000000, 0.400000\n",
      "0 p_szr, p_stop: 0.000000, 0.500000\n",
      "0 p_szr, p_stop: 0.000000, 0.600000\n",
      "0 p_szr, p_stop: 0.000000, 0.700000\n",
      "0 p_szr, p_stop: 0.000000, 0.800000\n",
      "0 p_szr, p_stop: 0.000000, 0.900000\n",
      "0 p_szr, p_stop: 0.000000, 1.000000\n",
      "1 p_szr, p_stop: 0.100000, 0.000000\n",
      "1 p_szr, p_stop: 0.100000, 0.100000\n",
      "1 p_szr, p_stop: 0.100000, 0.200000\n",
      "1 p_szr, p_stop: 0.100000, 0.300000\n",
      "1 p_szr, p_stop: 0.100000, 0.400000\n",
      "1 p_szr, p_stop: 0.100000, 0.500000\n",
      "1 p_szr, p_stop: 0.100000, 0.600000\n",
      "1 p_szr, p_stop: 0.100000, 0.700000\n",
      "1 p_szr, p_stop: 0.100000, 0.800000\n",
      "1 p_szr, p_stop: 0.100000, 0.900000\n",
      "1 p_szr, p_stop: 0.100000, 1.000000\n",
      "2 p_szr, p_stop: 0.200000, 0.000000\n",
      "2 p_szr, p_stop: 0.200000, 0.100000\n",
      "2 p_szr, p_stop: 0.200000, 0.200000\n",
      "2 p_szr, p_stop: 0.200000, 0.300000\n",
      "2 p_szr, p_stop: 0.200000, 0.400000\n",
      "2 p_szr, p_stop: 0.200000, 0.500000\n",
      "2 p_szr, p_stop: 0.200000, 0.600000\n",
      "2 p_szr, p_stop: 0.200000, 0.700000\n",
      "2 p_szr, p_stop: 0.200000, 0.800000\n",
      "2 p_szr, p_stop: 0.200000, 0.900000\n",
      "2 p_szr, p_stop: 0.200000, 1.000000\n",
      "3 p_szr, p_stop: 0.300000, 0.000000\n",
      "3 p_szr, p_stop: 0.300000, 0.100000\n",
      "3 p_szr, p_stop: 0.300000, 0.200000\n",
      "3 p_szr, p_stop: 0.300000, 0.300000\n",
      "3 p_szr, p_stop: 0.300000, 0.400000\n",
      "3 p_szr, p_stop: 0.300000, 0.500000\n",
      "3 p_szr, p_stop: 0.300000, 0.600000\n",
      "3 p_szr, p_stop: 0.300000, 0.700000\n",
      "3 p_szr, p_stop: 0.300000, 0.800000\n",
      "3 p_szr, p_stop: 0.300000, 0.900000\n",
      "3 p_szr, p_stop: 0.300000, 1.000000\n",
      "4 p_szr, p_stop: 0.400000, 0.000000\n",
      "4 p_szr, p_stop: 0.400000, 0.100000\n",
      "4 p_szr, p_stop: 0.400000, 0.200000\n",
      "4 p_szr, p_stop: 0.400000, 0.300000\n",
      "4 p_szr, p_stop: 0.400000, 0.400000\n",
      "4 p_szr, p_stop: 0.400000, 0.500000\n",
      "4 p_szr, p_stop: 0.400000, 0.600000\n",
      "4 p_szr, p_stop: 0.400000, 0.700000\n",
      "4 p_szr, p_stop: 0.400000, 0.800000\n",
      "4 p_szr, p_stop: 0.400000, 0.900000\n",
      "4 p_szr, p_stop: 0.400000, 1.000000\n",
      "5 p_szr, p_stop: 0.500000, 0.000000\n",
      "5 p_szr, p_stop: 0.500000, 0.100000\n",
      "5 p_szr, p_stop: 0.500000, 0.200000\n",
      "5 p_szr, p_stop: 0.500000, 0.300000\n",
      "5 p_szr, p_stop: 0.500000, 0.400000\n",
      "5 p_szr, p_stop: 0.500000, 0.500000\n",
      "5 p_szr, p_stop: 0.500000, 0.600000\n",
      "5 p_szr, p_stop: 0.500000, 0.700000\n",
      "5 p_szr, p_stop: 0.500000, 0.800000\n",
      "5 p_szr, p_stop: 0.500000, 0.900000\n",
      "5 p_szr, p_stop: 0.500000, 1.000000\n",
      "6 p_szr, p_stop: 0.600000, 0.000000\n",
      "6 p_szr, p_stop: 0.600000, 0.100000\n",
      "6 p_szr, p_stop: 0.600000, 0.200000\n",
      "6 p_szr, p_stop: 0.600000, 0.300000\n",
      "6 p_szr, p_stop: 0.600000, 0.400000\n",
      "6 p_szr, p_stop: 0.600000, 0.500000\n",
      "6 p_szr, p_stop: 0.600000, 0.600000\n",
      "6 p_szr, p_stop: 0.600000, 0.700000\n",
      "6 p_szr, p_stop: 0.600000, 0.800000\n",
      "6 p_szr, p_stop: 0.600000, 0.900000\n",
      "6 p_szr, p_stop: 0.600000, 1.000000\n",
      "7 p_szr, p_stop: 0.700000, 0.000000\n",
      "7 p_szr, p_stop: 0.700000, 0.100000\n",
      "7 p_szr, p_stop: 0.700000, 0.200000\n",
      "7 p_szr, p_stop: 0.700000, 0.300000\n",
      "7 p_szr, p_stop: 0.700000, 0.400000\n",
      "7 p_szr, p_stop: 0.700000, 0.500000\n",
      "7 p_szr, p_stop: 0.700000, 0.600000\n",
      "7 p_szr, p_stop: 0.700000, 0.700000\n",
      "7 p_szr, p_stop: 0.700000, 0.800000\n",
      "7 p_szr, p_stop: 0.700000, 0.900000\n",
      "7 p_szr, p_stop: 0.700000, 1.000000\n",
      "8 p_szr, p_stop: 0.800000, 0.000000\n",
      "8 p_szr, p_stop: 0.800000, 0.100000\n",
      "8 p_szr, p_stop: 0.800000, 0.200000\n",
      "8 p_szr, p_stop: 0.800000, 0.300000\n",
      "8 p_szr, p_stop: 0.800000, 0.400000\n",
      "8 p_szr, p_stop: 0.800000, 0.500000\n",
      "8 p_szr, p_stop: 0.800000, 0.600000\n",
      "8 p_szr, p_stop: 0.800000, 0.700000\n",
      "8 p_szr, p_stop: 0.800000, 0.800000\n",
      "8 p_szr, p_stop: 0.800000, 0.900000\n",
      "8 p_szr, p_stop: 0.800000, 1.000000\n",
      "9 p_szr, p_stop: 0.900000, 0.000000\n",
      "9 p_szr, p_stop: 0.900000, 0.100000\n",
      "9 p_szr, p_stop: 0.900000, 0.200000\n",
      "9 p_szr, p_stop: 0.900000, 0.300000\n",
      "9 p_szr, p_stop: 0.900000, 0.400000\n",
      "9 p_szr, p_stop: 0.900000, 0.500000\n",
      "9 p_szr, p_stop: 0.900000, 0.600000\n",
      "9 p_szr, p_stop: 0.900000, 0.700000\n",
      "9 p_szr, p_stop: 0.900000, 0.800000\n",
      "9 p_szr, p_stop: 0.900000, 0.900000\n",
      "9 p_szr, p_stop: 0.900000, 1.000000\n",
      "10 p_szr, p_stop: 1.000000, 0.000000\n",
      "10 p_szr, p_stop: 1.000000, 0.100000\n",
      "10 p_szr, p_stop: 1.000000, 0.200000\n",
      "10 p_szr, p_stop: 1.000000, 0.300000\n",
      "10 p_szr, p_stop: 1.000000, 0.400000\n",
      "10 p_szr, p_stop: 1.000000, 0.500000\n",
      "10 p_szr, p_stop: 1.000000, 0.600000\n",
      "10 p_szr, p_stop: 1.000000, 0.700000\n",
      "10 p_szr, p_stop: 1.000000, 0.800000\n",
      "10 p_szr, p_stop: 1.000000, 0.900000\n",
      "10 p_szr, p_stop: 1.000000, 1.000000\n"
     ]
    }
   ],
   "source": [
    "for ct, p_szr in enumerate(np.arange(0,1+dlt,dlt)):\n",
    "    for p_stop in np.arange(0,1+dlt,dlt):\n",
    "        print('%d p_szr, p_stop: %f, %f' % (ct, p_szr, p_stop))"
   ]
  },
  {
   "cell_type": "code",
   "execution_count": null,
   "metadata": {
    "collapsed": true
   },
   "outputs": [],
   "source": [
    "# Try multiple sets of p_szr p_stop parameters\n",
    "n_subs=20\n",
    "n_subs_per_group=int(n_subs/2)\n",
    "n_sim=100\n",
    "dlt=0.1\n",
    "try_p=np.arange(0,1+dlt,dlt)\n",
    "n_szrs_stim_group=np.zeros(n_sim)\n",
    "n_szrs_control_group=np.zeros(n_sim)\n",
    "reject_null=np.zeros(n_sim)\n",
    "p_fisher=np.zeros(n_sim)\n",
    "p_t=np.zeros(n_sim)\n",
    "for p_szr_ct, p_szr in enumerate(try_p):\n",
    "    for p_stop_ct, p_stop in enumerate(try_p):\n",
    "        p_combo=p_szr*(1-p_stop)\n",
    "        for sim_ct in range(n_sim):\n",
    "            n_szrs_stim_group[sim_ct]=np.random.binomial(n_subs_per_group,p_combo)\n",
    "            n_szrs_control_group[sim_ct]=np.random.binomial(n_subs_per_group,p_szr)\n",
    "            oddsratio, pvalue = stats.fisher_exact([[n_szrs_stim_group[sim_ct], n_subs_per_group-n_szrs_stim_group[sim_ct]], \n",
    "                                            [n_szrs_control_group[sim_ct], n_subs_per_group-n_szrs_control_group[sim_ct]]],alternative='less')\n",
    "            reject_null[sim_ct]=pvalue<0.05\n",
    "            p_fisher[sim_ct]=pvalue\n",
    "    \n",
    "            # Ind samp t-test (not as appropriate, but should be similar with enough patients)\n",
    "            temp_stim=np.zeros(n_subs_per_group)\n",
    "            temp_ctrl=np.zeros(n_subs_per_group)\n",
    "            temp_stim[:int(n_szrs_stim_group[sim_ct])]=1\n",
    "            temp_ctrl[:int(n_szrs_control_group[sim_ct])]=1\n",
    "            t, p_t[sim_ct]=scipy.stats.ttest_ind(temp_stim, temp_ctrl) #NOTE THIS IS ONE TAILED!!!\n",
    "TODO add counts to pvals and preallocate mem\n",
    "            \n",
    "reject_null_t=p_t<0.05\n",
    "print('Stim group: mean (SD) # of szrs: %f (%f)' % (np.mean(n_szrs_stim_group),np.std(n_szrs_stim_group)))\n",
    "print('Control group: mean (SD) # of szrs: %f (%f)' % (np.mean(n_szrs_control_group),np.std(n_szrs_control_group)))\n",
    "print('Fisher Power (SE): %f (%f)' % (np.mean(reject_null),np.std(reject_null)/np.sqrt(n_sim)))\n",
    "print('t Power (SE): %f (%f)' % (np.mean(reject_null_t),np.std(reject_null_t)/np.sqrt(n_sim)))"
   ]
  },
  {
   "cell_type": "code",
   "execution_count": 45,
   "metadata": {
    "collapsed": false
   },
   "outputs": [
    {
     "data": {
      "text/plain": [
       "0.14199999999999999"
      ]
     },
     "execution_count": 45,
     "metadata": {},
     "output_type": "execute_result"
    }
   ],
   "source": [
    "np.mean(reject_null)"
   ]
  },
  {
   "cell_type": "code",
   "execution_count": 57,
   "metadata": {
    "collapsed": false
   },
   "outputs": [
    {
     "data": {
      "text/plain": [
       "<matplotlib.text.Text at 0x7fd2c4dac0b8>"
      ]
     },
     "execution_count": 57,
     "metadata": {},
     "output_type": "execute_result"
    },
    {
     "data": {
      "image/png": "[encoded data removed]",
      "text/plain": [
       "<matplotlib.figure.Figure at 0x7fd2c4da05f8>"
      ]
     },
     "metadata": {},
     "output_type": "display_data"
    }
   ],
   "source": [
    "plt.figure()\n",
    "plt.plot(p_fisher,p_t,'.')\n",
    "plt.xlabel('Fisher')\n",
    "plt.ylabel('t-test')"
   ]
  },
  {
   "cell_type": "code",
   "execution_count": 20,
   "metadata": {
    "collapsed": false
   },
   "outputs": [
    {
     "data": {
      "text/plain": [
       "0.33935629587803351"
      ]
     },
     "execution_count": 20,
     "metadata": {},
     "output_type": "execute_result"
    }
   ],
   "source": [
    "pvalue"
   ]
  },
  {
   "cell_type": "code",
   "execution_count": 27,
   "metadata": {
    "collapsed": false
   },
   "outputs": [
    {
     "name": "stdout",
     "output_type": "stream",
     "text": [
      "0.00275945618522\n"
     ]
    }
   ],
   "source": [
    "oddsratio, pvalue = stats.fisher_exact([[1,11],\n",
    "                                        [9,3]])\n",
    "print(pvalue)"
   ]
  },
  {
   "cell_type": "code",
   "execution_count": 28,
   "metadata": {
    "collapsed": false
   },
   "outputs": [
    {
     "name": "stdout",
     "output_type": "stream",
     "text": [
      "0.00275945618522\n"
     ]
    }
   ],
   "source": [
    "oddsratio, pvalue = stats.fisher_exact([[1,9],\n",
    "                                        [11,3]])\n",
    "print(pvalue)"
   ]
  },
  {
   "cell_type": "code",
   "execution_count": 65,
   "metadata": {
    "collapsed": false
   },
   "outputs": [
    {
     "name": "stdout",
     "output_type": "stream",
     "text": [
      "0.0211894052974\n"
     ]
    }
   ],
   "source": [
    "oddsratio, pvalue = stats.fisher_exact([[12,7],\n",
    "                                        [2,9]],alternative='greater')\n",
    "print(pvalue)"
   ]
  },
  {
   "cell_type": "code",
   "execution_count": 66,
   "metadata": {
    "collapsed": false
   },
   "outputs": [
    {
     "name": "stdout",
     "output_type": "stream",
     "text": [
      "0.0258870564718\n"
     ]
    }
   ],
   "source": [
    "oddsratio, pvalue = stats.fisher_exact([[12,7],\n",
    "                                        [2,9]])\n",
    "print(pvalue)"
   ]
  },
  {
   "cell_type": "code",
   "execution_count": 54,
   "metadata": {
    "collapsed": true
   },
   "outputs": [],
   "source": [
    "stats.fisher_exact?"
   ]
  },
  {
   "cell_type": "code",
   "execution_count": null,
   "metadata": {
    "collapsed": true
   },
   "outputs": [],
   "source": []
  }
 ],
 "metadata": {
  "kernelspec": {
   "display_name": "Python 3",
   "language": "python",
   "name": "python3"
  },
  "language_info": {
   "codemirror_mode": {
    "name": "ipython",
    "version": 3
   },
   "file_extension": ".py",
   "mimetype": "text/x-python",
   "name": "python",
   "nbconvert_exporter": "python",
   "pygments_lexer": "ipython3",
   "version": "3.6.0"
  }
 },
 "nbformat": 4,
 "nbformat_minor": 2
}
