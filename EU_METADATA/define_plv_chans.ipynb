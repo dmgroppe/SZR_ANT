{
 "cells": [
  {
   "cell_type": "code",
   "execution_count": 2,
   "metadata": {
    "collapsed": true
   },
   "outputs": [],
   "source": [
    "import pandas as pd\n",
    "import os\n",
    "import ieeg_funcs as ief\n",
    "import pickle\n",
    "import numpy as np"
   ]
  },
  {
   "cell_type": "code",
   "execution_count": 42,
   "metadata": {},
   "outputs": [
    {
     "name": "stdout",
     "output_type": "stream",
     "text": [
      "# of soz chans: 7\n"
     ]
    }
   ],
   "source": [
    "# Import list of SOZ chans\n",
    "sub_id=1096\n",
    "in_fname='/Users/davidgroppe/PycharmProjects/SZR_ANT/EU_METADATA/SOZ_CHANS/'+str(sub_id)+'_bi_soz_chans.txt'\n",
    "\n",
    "soz_chans=pd.read_csv(in_fname)\n",
    "soz_chans.head()\n",
    "n_soz_chans=soz_chans.shape[0]\n",
    "print('# of soz chans: %d' % n_soz_chans)\n",
    "\n",
    "# Note that bad channels listed as part of soz have already been removed"
   ]
  },
  {
   "cell_type": "code",
   "execution_count": 43,
   "metadata": {},
   "outputs": [
    {
     "data": {
      "text/html": [
       "<div>\n",
       "<style>\n",
       "    .dataframe thead tr:only-child th {\n",
       "        text-align: right;\n",
       "    }\n",
       "\n",
       "    .dataframe thead th {\n",
       "        text-align: left;\n",
       "    }\n",
       "\n",
       "    .dataframe tbody tr th {\n",
       "        vertical-align: top;\n",
       "    }\n",
       "</style>\n",
       "<table border=\"1\" class=\"dataframe\">\n",
       "  <thead>\n",
       "    <tr style=\"text-align: right;\">\n",
       "      <th></th>\n",
       "      <th>electrode_array</th>\n",
       "      <th>name</th>\n",
       "      <th>artifact</th>\n",
       "      <th>supplier</th>\n",
       "      <th>x</th>\n",
       "      <th>y</th>\n",
       "      <th>z</th>\n",
       "      <th>commentary</th>\n",
       "    </tr>\n",
       "  </thead>\n",
       "  <tbody>\n",
       "    <tr>\n",
       "      <th>0</th>\n",
       "      <td>GC5</td>\n",
       "      <td>(GC5)</td>\n",
       "      <td>e</td>\n",
       "      <td>AdTech</td>\n",
       "      <td>155</td>\n",
       "      <td>110</td>\n",
       "      <td>69</td>\n",
       "      <td>21: GC5</td>\n",
       "    </tr>\n",
       "    <tr>\n",
       "      <th>1</th>\n",
       "      <td>GB4</td>\n",
       "      <td>(GB4)</td>\n",
       "      <td>e</td>\n",
       "      <td>AdTech</td>\n",
       "      <td>153</td>\n",
       "      <td>126</td>\n",
       "      <td>66</td>\n",
       "      <td>12: GB4</td>\n",
       "    </tr>\n",
       "    <tr>\n",
       "      <th>2</th>\n",
       "      <td>GB5</td>\n",
       "      <td>(GB5)</td>\n",
       "      <td>e</td>\n",
       "      <td>AdTech</td>\n",
       "      <td>154</td>\n",
       "      <td>120</td>\n",
       "      <td>76</td>\n",
       "      <td>13: GB5</td>\n",
       "    </tr>\n",
       "    <tr>\n",
       "      <th>3</th>\n",
       "      <td>GB6</td>\n",
       "      <td>(GB6)</td>\n",
       "      <td>e</td>\n",
       "      <td>AdTech</td>\n",
       "      <td>154</td>\n",
       "      <td>112</td>\n",
       "      <td>87</td>\n",
       "      <td>14: GB6</td>\n",
       "    </tr>\n",
       "    <tr>\n",
       "      <th>4</th>\n",
       "      <td>GB8</td>\n",
       "      <td>(GB8)</td>\n",
       "      <td>e</td>\n",
       "      <td>AdTech</td>\n",
       "      <td>151</td>\n",
       "      <td>98</td>\n",
       "      <td>107</td>\n",
       "      <td>16: GB8</td>\n",
       "    </tr>\n",
       "  </tbody>\n",
       "</table>\n",
       "</div>"
      ],
      "text/plain": [
       "  electrode_array   name artifact supplier    x    y    z commentary\n",
       "0             GC5  (GC5)        e   AdTech  155  110   69    21: GC5\n",
       "1             GB4  (GB4)        e   AdTech  153  126   66    12: GB4\n",
       "2             GB5  (GB5)        e   AdTech  154  120   76    13: GB5\n",
       "3             GB6  (GB6)        e   AdTech  154  112   87    14: GB6\n",
       "4             GB8  (GB8)        e   AdTech  151   98  107    16: GB8"
      ]
     },
     "execution_count": 43,
     "metadata": {},
     "output_type": "execute_result"
    }
   ],
   "source": [
    "# Import list of electrode locations\n",
    "xyz_fname='/Users/davidgroppe/PycharmProjects/SZR_ANT/EU_METADATA/ELEC_COORD/elec_coord_'+str(sub_id)+'.csv'\n",
    "xyz_df=pd.read_csv(xyz_fname)\n",
    "xyz_df.head()"
   ]
  },
  {
   "cell_type": "code",
   "execution_count": null,
   "metadata": {
    "collapsed": true
   },
   "outputs": [],
   "source": [
    "if n_soz_chans>=8:\n",
    "    # If more than 8 SOZ chans, find the other 7 closest SOZ chans to each SOZ chan\n",
    "    \n",
    "\n",
    "    pass\n",
    "else:\n",
    "    # If less than 8 SOZ chans, find 8-n other chans that are closest to SOZ chans\n",
    "\n",
    "    # Import list of bad channels\n",
    "\n",
    "    # Then make list of 7 closest other chans for each SOZ chan"
   ]
  },
  {
   "cell_type": "code",
   "execution_count": 74,
   "metadata": {},
   "outputs": [
    {
     "name": "stdout",
     "output_type": "stream",
     "text": [
      "# of channels of interest: 8\n"
     ]
    }
   ],
   "source": [
    "# Load list of channels of interest (I limit this to 8 or the # of SOZ chans)\n",
    "sub_id=1096\n",
    "in_fname='/Users/davidgroppe/PycharmProjects/SZR_ANT/EU_METADATA/ANALYZE_CHANS/'+str(sub_id)+'_bi_use_chans.txt'\n",
    "\n",
    "coi_df=pd.read_csv(in_fname,header=None) #COI=Channels of Interest\n",
    "coi_df.head()\n",
    "\n",
    "out_fname='/Users/davidgroppe/PycharmProjects/SZR_ANT/EU_METADATA/PLV_CHANS/'+str(sub_id)+'_plv.csv'\n",
    "fid = open(out_fname,'w')\n",
    "\n",
    "fid.write('Seed,')\n",
    "for a in range(1,n_coi-1):\n",
    "    fid.write(' Pair%d,' %a)\n",
    "fid.write(' Pair%d\\n' % (n_coi-1))\n",
    "\n",
    "n_coi=coi_df.shape[0]\n",
    "print('# of channels of interest: %d' % n_coi)\n",
    "# If 8, just make table that indicate that all other channels should be used as PLV channels\n",
    "if n_coi==8:\n",
    "    for a in range(n_coi):\n",
    "        fid.write('%s,' % coi_df.iloc[a,0])\n",
    "        ct=0\n",
    "        for b in range(n_coi):\n",
    "            if a!=b:\n",
    "                ct+=1\n",
    "                fid.write(' %s' % coi_df.iloc[b,0])\n",
    "                if ct<7:\n",
    "                    fid.write(',')\n",
    "        fid.write('\\n')\n",
    "    #TODO output this to file\n",
    "    fid.close()\n",
    "else:\n",
    "    pass\n",
    "    # If more than 8, find the closest 8 other channels and use those as plv channels\n"
   ]
  },
  {
   "cell_type": "code",
   "execution_count": 45,
   "metadata": {
    "collapsed": true
   },
   "outputs": [],
   "source": [
    "pd.read_csv?"
   ]
  },
  {
   "cell_type": "code",
   "execution_count": null,
   "metadata": {
    "collapsed": true
   },
   "outputs": [],
   "source": []
  }
 ],
 "metadata": {
  "kernelspec": {
   "display_name": "Python [conda root]",
   "language": "python",
   "name": "conda-root-py"
  },
  "language_info": {
   "codemirror_mode": {
    "name": "ipython",
    "version": 3
   },
   "file_extension": ".py",
   "mimetype": "text/x-python",
   "name": "python",
   "nbconvert_exporter": "python",
   "pygments_lexer": "ipython3",
   "version": "3.5.3"
  }
 },
 "nbformat": 4,
 "nbformat_minor": 2
}
