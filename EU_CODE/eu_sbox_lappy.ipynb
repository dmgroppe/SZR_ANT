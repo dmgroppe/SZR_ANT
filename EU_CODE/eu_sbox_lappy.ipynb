{
 "cells": [
  {
   "cell_type": "code",
   "execution_count": 1,
   "metadata": {
    "collapsed": true
   },
   "outputs": [],
   "source": [
    "import numpy as np\n",
    "import numpy.matlib\n",
    "import pandas as pd\n",
    "import os\n",
    "import pickle\n",
    "import scipy.io as sio\n",
    "import ieeg_funcs as ief\n",
    "import dgFuncs as dg\n",
    "from scipy import stats\n",
    "from mpl_toolkits.axes_grid1 import make_axes_locatable\n",
    "import matplotlib.pyplot as plt\n",
    "%matplotlib inline"
   ]
  },
  {
   "cell_type": "code",
   "execution_count": 3,
   "metadata": {},
   "outputs": [
    {
     "name": "stdout",
     "output_type": "stream",
     "text": [
      "10\n",
      "9\n",
      "8\n",
      "7\n",
      "6\n",
      "5\n",
      "4\n",
      "3\n",
      "2\n",
      "1\n",
      "0\n"
     ]
    }
   ],
   "source": [
    "for a in range(10,-1,-1):\n",
    "    print(a)"
   ]
  },
  {
   "cell_type": "code",
   "execution_count": 5,
   "metadata": {
    "collapsed": true
   },
   "outputs": [],
   "source": [
    "# Get key directories\n",
    "dir_dict=ief.get_path_dict()\n",
    "# print(dir_dict.keys())\n",
    "ftrs_root=dir_dict['ftrs_root']\n",
    "# print(ftrs_root)\n",
    "meta_dir=dir_dict['eu_meta']"
   ]
  },
  {
   "cell_type": "code",
   "execution_count": 6,
   "metadata": {},
   "outputs": [
    {
     "name": "stdout",
     "output_type": "stream",
     "text": [
      "Loading /Users/davidgroppe/Dropbox/TWH_INFO/EU_METADATA/data_splits_FR_1096.pkl\n",
      "dict_keys(['valid_szr_files', 'train_files', 'train_szr_files', 'test_files', 'test_szr_files', 'valid_files'])\n",
      "101 training files (22 contain szrs)\n",
      "21 validation files\n"
     ]
    }
   ],
   "source": [
    "# Get list of training and validation files\n",
    "sub='1096'\n",
    "split_fname=os.path.join(meta_dir,'data_splits_FR_'+sub+'.pkl')\n",
    "print('Loading %s' % split_fname)\n",
    "split_dict=pickle.load(open(split_fname,'rb'))\n",
    "print(split_dict.keys())\n",
    "test_files=split_dict['test_files']\n",
    "train_files=split_dict['train_files']\n",
    "train_szr_files=split_dict['train_szr_files']\n",
    "valid_files=split_dict['valid_files']\n",
    "n_train_file=len(train_files)\n",
    "n_train_szr_file=len(train_szr_files)\n",
    "print('%d training files (%d contain szrs)' % (n_train_file, n_train_szr_file))\n",
    "n_valid_file=len(valid_files)\n",
    "print('%d validation files' % n_valid_file)"
   ]
  },
  {
   "cell_type": "code",
   "execution_count": 7,
   "metadata": {},
   "outputs": [
    {
     "data": {
      "text/plain": [
       "'109600102_0001'"
      ]
     },
     "execution_count": 7,
     "metadata": {},
     "output_type": "execute_result"
    }
   ],
   "source": [
    "train_szr_files[0]"
   ]
  },
  {
   "cell_type": "code",
   "execution_count": 57,
   "metadata": {},
   "outputs": [
    {
     "name": "stdout",
     "output_type": "stream",
     "text": [
      "# of extra szr windows=39\n",
      "That is 3.900000 seconds \n"
     ]
    },
    {
     "data": {
      "image/png": "[encoded data removed]",
      "text/plain": [
       "<matplotlib.figure.Figure at 0x11dcb75f8>"
      ]
     },
     "metadata": {},
     "output_type": "display_data"
    }
   ],
   "source": [
    "infname=train_szr_files[21]\n",
    "orig_dict=np.load('/Users/davidgroppe/PycharmProjects/SZR_ANT/FTRS/EU_SZR_CLASS/1096_ORIG/'+infname+'_szr_class.npz')\n",
    "neo_dict=np.load('/Users/davidgroppe/PycharmProjects/SZR_ANT/FTRS/EU_SZR_CLASS/1096/'+infname+'_szr_class.npz')\n",
    "\n",
    "orig_class=orig_dict['szr_class']\n",
    "neo_class=neo_dict['szr_class']\n",
    "# xlim=[5000, 5800]\n",
    "xlim=[0, len(orig_class)]\n",
    "plt.figure(1)\n",
    "plt.clf()\n",
    "plt.subplot(2,1,1)\n",
    "plt.plot(orig_class,'b')\n",
    "plt.plot(neo_class,'r--');\n",
    "plt.xlim(xlim)\n",
    "\n",
    "plt.subplot(2,1,2)\n",
    "plt.plot(neo_class-orig_class,'m')\n",
    "plt.xlim(xlim)\n",
    "\n",
    "n_dif=np.sum(neo_class-orig_class)\n",
    "print('# of extra szr windows=%d' % n_dif)\n",
    "print('That is %f seconds ' % (n_dif/10))"
   ]
  },
  {
   "cell_type": "code",
   "execution_count": null,
   "metadata": {
    "collapsed": true
   },
   "outputs": [],
   "source": []
  }
 ],
 "metadata": {
  "anaconda-cloud": {},
  "kernelspec": {
   "display_name": "Python [conda root]",
   "language": "python",
   "name": "conda-root-py"
  },
  "language_info": {
   "codemirror_mode": {
    "name": "ipython",
    "version": 3
   },
   "file_extension": ".py",
   "mimetype": "text/x-python",
   "name": "python",
   "nbconvert_exporter": "python",
   "pygments_lexer": "ipython3",
   "version": "3.5.3"
  }
 },
 "nbformat": 4,
 "nbformat_minor": 2
}
