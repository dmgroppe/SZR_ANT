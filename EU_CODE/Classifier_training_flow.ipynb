{
 "cells": [
  {
   "cell_type": "markdown",
   "metadata": {
    "deletable": true,
    "editable": true
   },
   "source": [
    "# Sketch of patient-specific EU classifier"
   ]
  },
  {
   "cell_type": "code",
   "execution_count": 9,
   "metadata": {
    "collapsed": true,
    "deletable": true,
    "editable": true
   },
   "outputs": [],
   "source": [
    "import numpy as np\n",
    "# import sys\n",
    "import pandas as pd\n",
    "import os\n",
    "import pickle\n",
    "# import scipy.io as sio\n",
    "import ieeg_funcs as ief\n",
    "# import re\n",
    "import dgFuncs as dg\n",
    "from sklearn import preprocessing\n",
    "# from scipy import stats\n",
    "# from mpl_toolkits.axes_grid1 import make_axes_locatable\n",
    "import matplotlib.pyplot as plt\n",
    "%matplotlib inline\n",
    "# %matplotlib notebook"
   ]
  },
  {
   "cell_type": "code",
   "execution_count": 180,
   "metadata": {
    "collapsed": false
   },
   "outputs": [],
   "source": [
    "np.multiply?"
   ]
  },
  {
   "cell_type": "code",
   "execution_count": 176,
   "metadata": {
    "collapsed": false
   },
   "outputs": [
    {
     "name": "stdout",
     "output_type": "stream",
     "text": [
      "[0 1 2 3]\n",
      "[-3]\n"
     ]
    }
   ],
   "source": [
    "bro=np.arange(4)\n",
    "print(bro)\n",
    "sis=bro[bro>2]*(-1)\n",
    "print(sis)"
   ]
  },
  {
   "cell_type": "code",
   "execution_count": null,
   "metadata": {
    "collapsed": true,
    "deletable": true,
    "editable": true
   },
   "outputs": [],
   "source": [
    "# Block for re-loading my libraries if I make updates\n",
    "import imp \n",
    "imp.reload(ief) \n",
    "imp.reload(dg) "
   ]
  },
  {
   "cell_type": "code",
   "execution_count": null,
   "metadata": {
    "collapsed": true,
    "deletable": true,
    "editable": true
   },
   "outputs": [],
   "source": [
    "# Define sub & feature\n",
    "sub='1096'\n",
    "ftr_name='EU_MAG_LAG0'"
   ]
  },
  {
   "cell_type": "code",
   "execution_count": 3,
   "metadata": {
    "collapsed": false,
    "deletable": true,
    "editable": true
   },
   "outputs": [
    {
     "name": "stdout",
     "output_type": "stream",
     "text": [
      "dict_keys(['onset_csv', 'pics', 'ftrs_root', 'ieeg_root', 'eu_root', 'eu_meta', 'szr_ant_root'])\n",
      "/Users/davidgroppe/PycharmProjects/SZR_ANT/FTRS\n"
     ]
    }
   ],
   "source": [
    "# Get key directories\n",
    "dir_dict=ief.get_path_dict()\n",
    "print(dir_dict.keys())\n",
    "ftrs_root=dir_dict['ftrs_root']\n",
    "print(ftrs_root)\n",
    "meta_dir=dir_dict['eu_meta']"
   ]
  },
  {
   "cell_type": "code",
   "execution_count": 107,
   "metadata": {
    "collapsed": false,
    "deletable": true,
    "editable": true
   },
   "outputs": [
    {
     "name": "stdout",
     "output_type": "stream",
     "text": [
      "Loading mns and sd for feature normalization from /Users/davidgroppe/PycharmProjects/SZR_ANT/FTRS/EU_MAG_LAG0/1096/ftr_nrms.npz\n"
     ]
    }
   ],
   "source": [
    "# Load normalization parameters\n",
    "ftr_path=os.path.join(ftrs_root,ftr_name,sub)\n",
    "nrm_fname=os.path.join(ftr_path,'ftr_nrms.npz')\n",
    "print('Loading mns and sd for feature normalization from %s' % nrm_fname)\n",
    "# /Users/davidgroppe/PycharmProjects/SZR_ANT/FTRS/EU_MAG_LAG0/1096/ftr_nrms.npz\n",
    "ftr_nrm_dict=np.load(nrm_fname)"
   ]
  },
  {
   "cell_type": "code",
   "execution_count": 108,
   "metadata": {
    "collapsed": false,
    "deletable": true,
    "editable": true
   },
   "outputs": [
    {
     "name": "stdout",
     "output_type": "stream",
     "text": [
      "Loading /Users/davidgroppe/Dropbox/TWH_INFO/EU_METADATA/data_splits_FR_1096.pkl\n",
      "dict_keys(['train_files', 'test_szr_files', 'valid_files', 'train_szr_files', 'test_files', 'valid_szr_files'])\n",
      "101 training files (22 contain szrs)\n",
      "21 validation files\n"
     ]
    }
   ],
   "source": [
    "# Get list of training and validation files\n",
    "split_fname=os.path.join(meta_dir,'data_splits_FR_'+sub+'.pkl')\n",
    "print('Loading %s' % split_fname)\n",
    "split_dict=pickle.load(open(split_fname,'rb'))\n",
    "print(split_dict.keys())\n",
    "train_files=split_dict['train_files']\n",
    "train_szr_files=split_dict['train_szr_files']\n",
    "valid_files=split_dict['valid_files']\n",
    "n_train_file=len(train_files)\n",
    "n_train_szr_file=len(train_szr_files)\n",
    "print('%d training files (%d contain szrs)' % (n_train_file, n_train_szr_file))\n",
    "n_valid_file=len(valid_files)\n",
    "print('%d validation files' % n_valid_file)"
   ]
  },
  {
   "cell_type": "code",
   "execution_count": 128,
   "metadata": {
    "collapsed": false,
    "deletable": true,
    "editable": true
   },
   "outputs": [
    {
     "name": "stdout",
     "output_type": "stream",
     "text": [
      "11726 total szr time windows\n",
      "Ftr dimensionality is 48\n",
      "3522050 total NON-szr time windows\n",
      "Loading 0.003329 fraction of NON-ictal windows from each file\n",
      "Done loading features!\n"
     ]
    }
   ],
   "source": [
    "# IMPORT TRAINING DATA!!!!\n",
    "\n",
    "# Import all ictal training data\n",
    "# Figure out how man ictal time points there are to preallocate memory\n",
    "class_path=os.path.join(ftrs_root,'EU_SZR_CLASS',sub)\n",
    "n_szr_wind=0\n",
    "for szr_fname in train_szr_files:\n",
    "    full_fname=os.path.join(class_path,szr_fname+'_szr_class.npz')\n",
    "    class_dict=np.load(full_fname)\n",
    "    n_szr_wind+=np.sum(class_dict['szr_class'])\n",
    "    \n",
    "print('%d total szr time windows' % n_szr_wind)\n",
    "\n",
    "# Load first feature file to determine feature dimensionality\n",
    "ext_fname=os.path.join(ftr_path,'ext.txt') # Read the file extension for this type of feature\n",
    "f=open(ext_fname,'r')\n",
    "ext=f.readline().strip()\n",
    "full_fname=os.path.join(ftr_path,train_szr_files[0]+ext)\n",
    "ftr_dict=np.load(full_fname)\n",
    "n_ftr_dim=ftr_dict['ftrs'].shape[0]\n",
    "print('Ftr dimensionality is %d' % n_ftr_dim)\n",
    "\n",
    "# Load ictal data\n",
    "train_ftrs=np.zeros((n_ftr_dim,n_szr_wind*2)) #preallocate memory\n",
    "train_class=np.ones(n_szr_wind*2,dtype='int8')\n",
    "train_class[n_szr_wind:]=0\n",
    "wind_ct=0\n",
    "for szr_fname in train_szr_files:\n",
    "    full_fname=os.path.join(ftr_path,szr_fname+ext)\n",
    "    ftr_dict=np.load(full_fname)\n",
    "    \n",
    "    full_fname=os.path.join(class_path,szr_fname+'_szr_class.npz')\n",
    "    class_dict=np.load(full_fname)\n",
    " \n",
    "    temp_n_ictal_wind=np.sum(class_dict['szr_class'])\n",
    "    train_ftrs[:,wind_ct:wind_ct+temp_n_ictal_wind]=ftr_dict['ftrs'][:,class_dict['szr_class']>0]\n",
    "    wind_ct+=temp_n_ictal_wind\n",
    "\n",
    "# Count # of non-ictal windows\n",
    "n_nonszr_wind=0\n",
    "for szr_fname in train_files:    \n",
    "    full_fname=os.path.join(class_path,szr_fname+'_szr_class.npz')\n",
    "    class_dict=np.load(full_fname)\n",
    "    n_nonszr_wind+=np.sum(class_dict['szr_class']==0)\n",
    "\n",
    "print('%d total NON-szr time windows' % n_nonszr_wind)\n",
    "\n",
    "# Import an equal # of non-ictal trainin data, randomly sampled\n",
    "pptn_per_file=n_szr_wind/n_nonszr_wind\n",
    "print('Loading %f fraction of NON-ictal windows from each file' % pptn_per_file)\n",
    "# wind_ct=0\n",
    "# TODO permute the order that we see data\n",
    "for fname_ct, szr_fname in enumerate(train_files):\n",
    "    full_fname=os.path.join(ftr_path,szr_fname+ext)\n",
    "    ftr_dict=np.load(full_fname)\n",
    "    \n",
    "    full_fname=os.path.join(class_path,szr_fname+'_szr_class.npz')\n",
    "    class_dict=np.load(full_fname)\n",
    "    \n",
    "    nonszr_ids=np.where(class_dict['szr_class']==0)[0]\n",
    "    temp_n_nonictal_wind=len(nonszr_ids)\n",
    "    n_load_wind=int(np.round(temp_n_nonictal_wind*pptn_per_file))\n",
    "    if fname_ct==(n_train_file-1):\n",
    "        # If this is the last file, load exactly enough windows to equal the # \n",
    "        # of szr windows\n",
    "        n_load_wind=n_szr_wind*2-wind_ct\n",
    "    rand_wind_ids=nonszr_ids[np.random.randint(0,temp_n_nonictal_wind,n_load_wind)]\n",
    "    train_ftrs[:,wind_ct:wind_ct+n_load_wind]=ftr_dict['ftrs'][:,rand_wind_ids]\n",
    "    wind_ct+=n_load_wind\n",
    "\n",
    "print('Done loading features!')"
   ]
  },
  {
   "cell_type": "code",
   "execution_count": 129,
   "metadata": {
    "collapsed": false,
    "deletable": true,
    "editable": true
   },
   "outputs": [],
   "source": [
    "# Normalize ftrs\n",
    "for ftr_loop in range(n_ftr_dim):\n",
    "    train_ftrs[ftr_loop,:]=(train_ftrs[ftr_loop,:]-\n",
    "                               ftr_nrm_dict['nrm_mn'][ftr_loop])/ftr_nrm_dict['nrm_sd'][ftr_loop]"
   ]
  },
  {
   "cell_type": "code",
   "execution_count": 168,
   "metadata": {
    "collapsed": false,
    "deletable": true,
    "editable": true
   },
   "outputs": [
    {
     "name": "stdout",
     "output_type": "stream",
     "text": [
      "Training data accuracy 0.854767\n"
     ]
    }
   ],
   "source": [
    "# Train classifier\n",
    "from sklearn import linear_model\n",
    "model = linear_model.LogisticRegression(C=1)\n",
    "model.fit(train_ftrs.T, train_class)\n",
    "\n",
    "# Accuracy on training data\n",
    "train_class_hat = model.predict(train_ftrs.T)\n",
    "train_acc=np.mean(training_class_hat==train_class)\n",
    "print('Training data accuracy %f' % train_acc)"
   ]
  },
  {
   "cell_type": "code",
   "execution_count": null,
   "metadata": {
    "collapsed": true,
    "deletable": true,
    "editable": true
   },
   "outputs": [],
   "source": [
    "# Clear training data TODO\n"
   ]
  },
  {
   "cell_type": "code",
   "execution_count": 146,
   "metadata": {
    "collapsed": false,
    "deletable": true,
    "editable": true
   },
   "outputs": [
    {
     "name": "stdout",
     "output_type": "stream",
     "text": [
      "736467 total validation time windows\n",
      "Done loading validation data!\n"
     ]
    }
   ],
   "source": [
    "# IMPORT VALIDATION DATA!!!!\n",
    "\n",
    "# Figure out how many validation time points there are to preallocate memory\n",
    "n_valid_wind=0\n",
    "for ieeg_fname in valid_files:\n",
    "    full_fname=os.path.join(class_path,ieeg_fname+'_szr_class.npz')\n",
    "    class_dict=np.load(full_fname)\n",
    "    n_valid_wind+=len(class_dict['szr_class'])\n",
    "    \n",
    "print('%d total validation time windows' % n_valid_wind)\n",
    "\n",
    "# Load ictal data\n",
    "valid_ftrs=np.zeros((n_ftr_dim,n_valid_wind)) #preallocate memory\n",
    "valid_class=np.ones(n_valid_wind,dtype='int8')\n",
    "wind_ct=0\n",
    "for szr_fname in valid_files:\n",
    "    full_fname=os.path.join(ftr_path,szr_fname+ext)\n",
    "    ftr_dict=np.load(full_fname)\n",
    "    \n",
    "    full_fname=os.path.join(class_path,szr_fname+'_szr_class.npz')\n",
    "    class_dict=np.load(full_fname)\n",
    " \n",
    "    temp_n_ictal_wind=len(class_dict['szr_class'])\n",
    "    valid_ftrs[:,wind_ct:wind_ct+temp_n_ictal_wind]=ftr_dict['ftrs']\n",
    "    valid_class[wind_ct:wind_ct+temp_n_ictal_wind]=class_dict['szr_class']\n",
    "    wind_ct+=temp_n_ictal_wind\n",
    "\n",
    "# Normalize validation data ftrs\n",
    "for ftr_loop in range(n_ftr_dim):\n",
    "    valid_ftrs[ftr_loop,:]=(valid_ftrs[ftr_loop,:]-\n",
    "                               ftr_nrm_dict['nrm_mn'][ftr_loop])/ftr_nrm_dict['nrm_sd'][ftr_loop]\n",
    "    \n",
    "print('Done loading validation data!')"
   ]
  },
  {
   "cell_type": "code",
   "execution_count": 169,
   "metadata": {
    "collapsed": false,
    "deletable": true,
    "editable": true
   },
   "outputs": [
    {
     "name": "stdout",
     "output_type": "stream",
     "text": [
      "Sensitivity 0.863356\n",
      "Specificity 0.491922\n",
      "Balanced Accuracy=0.677639\n"
     ]
    }
   ],
   "source": [
    "# Apply classifier to validation data\n",
    "valid_class_hat = model.predict(valid_ftrs.T)\n",
    "jive=valid_class_hat==valid_class\n",
    "valid_sens=np.sum(jive[valid_class==1])/np.sum(valid_class==1)\n",
    "print('Sensitivity %f' % valid_sens)\n",
    "valid_spec=np.sum(jive[valid_class==0])/np.sum(valid_class==0)\n",
    "print('Specificity %f' % valid_spec)\n",
    "valid_bal_acc=(valid_sens+valid_spec)/2\n",
    "print('Balanced Accuracy=%f' % valid_bal_acc)\n",
    "# train_acc=np.mean(training_class_hat==train_class)\n",
    "# print('Training data accuracy %f' % train_acc)"
   ]
  },
  {
   "cell_type": "code",
   "execution_count": 152,
   "metadata": {
    "collapsed": true,
    "deletable": true,
    "editable": true
   },
   "outputs": [],
   "source": [
    "model.predict"
   ]
  },
  {
   "cell_type": "code",
   "execution_count": 150,
   "metadata": {
    "collapsed": false,
    "deletable": true,
    "editable": true
   },
   "outputs": [
    {
     "data": {
      "text/plain": [
       "0.50940911133832201"
      ]
     },
     "execution_count": 150,
     "metadata": {},
     "output_type": "execute_result"
    }
   ],
   "source": [
    "np.mean(valid_class_hat)"
   ]
  },
  {
   "cell_type": "code",
   "execution_count": 151,
   "metadata": {
    "collapsed": false,
    "deletable": true,
    "editable": true
   },
   "outputs": [
    {
     "data": {
      "text/plain": [
       "[<matplotlib.lines.Line2D at 0x1255a8b70>]"
      ]
     },
     "execution_count": 151,
     "metadata": {},
     "output_type": "execute_result"
    },
    {
     "data": {
      "image/png": "[encoded data removed]",
      "text/plain": [
       "<matplotlib.figure.Figure at 0x12140a940>"
      ]
     },
     "metadata": {},
     "output_type": "display_data"
    }
   ],
   "source": [
    "plt.figure(3)\n",
    "plt.clf()\n",
    "plt.plot(valid_class_hat,valid_class,'.');"
   ]
  },
  {
   "cell_type": "code",
   "execution_count": null,
   "metadata": {
    "collapsed": true,
    "deletable": true,
    "editable": true
   },
   "outputs": [],
   "source": [
    "# Apply classifier to validation data"
   ]
  },
  {
   "cell_type": "code",
   "execution_count": null,
   "metadata": {
    "collapsed": true,
    "deletable": true,
    "editable": true
   },
   "outputs": [],
   "source": [
    "# Measure validation error (all data or a random subset?)"
   ]
  },
  {
   "cell_type": "code",
   "execution_count": null,
   "metadata": {
    "collapsed": true,
    "deletable": true,
    "editable": true
   },
   "outputs": [],
   "source": [
    "# Randomly create new inter-ictal training set by randomly sampling from training\n",
    "# data based on classification performaanc"
   ]
  }
 ],
 "metadata": {
  "anaconda-cloud": {},
  "kernelspec": {
   "display_name": "Python [default]",
   "language": "python",
   "name": "python3"
  },
  "language_info": {
   "codemirror_mode": {
    "name": "ipython",
    "version": 3
   },
   "file_extension": ".py",
   "mimetype": "text/x-python",
   "name": "python",
   "nbconvert_exporter": "python",
   "pygments_lexer": "ipython3",
   "version": "3.5.3"
  }
 },
 "nbformat": 4,
 "nbformat_minor": 2
}
