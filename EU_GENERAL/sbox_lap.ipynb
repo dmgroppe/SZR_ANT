{
 "cells": [
  {
   "cell_type": "code",
   "execution_count": 38,
   "metadata": {
    "collapsed": true
   },
   "outputs": [],
   "source": [
    "import numpy as np\n",
    "import scipy.io as sio\n",
    "import os\n",
    "import matplotlib.pyplot as plt\n",
    "%matplotlib inline"
   ]
  },
  {
   "cell_type": "code",
   "execution_count": 2,
   "metadata": {
    "collapsed": true
   },
   "outputs": [],
   "source": [
    "in_fname='/Users/davidgroppe/PycharmProjects/SZR_ANT/MODELS/genLogregSe_1/classify_metrics_srch.npz'"
   ]
  },
  {
   "cell_type": "code",
   "execution_count": 11,
   "metadata": {},
   "outputs": [
    {
     "name": "stdout",
     "output_type": "stream",
     "text": [
      "['class_hat', 'szr_class', 'sub_id']\n",
      "[ 0.  1.]\n",
      "[  7.39455455e-14   3.40509882e-08   2.20210802e-06 ...,   1.00000000e+00\n",
      "   1.00000000e+00   1.00000000e+00]\n"
     ]
    }
   ],
   "source": [
    "npz=np.load('temp_apply_models_to_subsamp.npz')\n",
    "print(npz.keys())\n",
    "print(np.unique(npz['szr_class']))\n",
    "print(np.unique(npz['class_hat']))"
   ]
  },
  {
   "cell_type": "code",
   "execution_count": 30,
   "metadata": {},
   "outputs": [
    {
     "ename": "KeyError",
     "evalue": "'sub_id is not a file in the archive'",
     "output_type": "error",
     "traceback": [
      "\u001b[0;31m---------------------------------------------------------------------------\u001b[0m",
      "\u001b[0;31mKeyError\u001b[0m                                  Traceback (most recent call last)",
      "\u001b[0;32m<ipython-input-30-03cf9392e646>\u001b[0m in \u001b[0;36m<module>\u001b[0;34m()\u001b[0m\n\u001b[0;32m----> 1\u001b[0;31m \u001b[0msubs\u001b[0m\u001b[0;34m=\u001b[0m\u001b[0mnp\u001b[0m\u001b[0;34m.\u001b[0m\u001b[0munique\u001b[0m\u001b[0;34m(\u001b[0m\u001b[0mnpz\u001b[0m\u001b[0;34m[\u001b[0m\u001b[0;34m'sub_id'\u001b[0m\u001b[0;34m]\u001b[0m\u001b[0;34m)\u001b[0m\u001b[0;34m\u001b[0m\u001b[0m\n\u001b[0m\u001b[1;32m      2\u001b[0m \u001b[0mcrct\u001b[0m\u001b[0;34m=\u001b[0m\u001b[0;34m(\u001b[0m\u001b[0mnpz\u001b[0m\u001b[0;34m[\u001b[0m\u001b[0;34m'class_hat'\u001b[0m\u001b[0;34m]\u001b[0m\u001b[0;34m>\u001b[0m\u001b[0;36m0.5\u001b[0m\u001b[0;34m)\u001b[0m\u001b[0;34m==\u001b[0m\u001b[0mnpz\u001b[0m\u001b[0;34m[\u001b[0m\u001b[0;34m'szr_class'\u001b[0m\u001b[0;34m]\u001b[0m\u001b[0;34m\u001b[0m\u001b[0m\n\u001b[1;32m      3\u001b[0m \u001b[0mprint\u001b[0m\u001b[0;34m(\u001b[0m\u001b[0mnp\u001b[0m\u001b[0;34m.\u001b[0m\u001b[0mmean\u001b[0m\u001b[0;34m(\u001b[0m\u001b[0mcrct\u001b[0m\u001b[0;34m)\u001b[0m\u001b[0;34m)\u001b[0m\u001b[0;34m\u001b[0m\u001b[0m\n\u001b[1;32m      4\u001b[0m \u001b[0mictal\u001b[0m\u001b[0;34m=\u001b[0m\u001b[0mnpz\u001b[0m\u001b[0;34m[\u001b[0m\u001b[0;34m'szr_class'\u001b[0m\u001b[0;34m]\u001b[0m\u001b[0;34m==\u001b[0m\u001b[0;36m1\u001b[0m\u001b[0;34m\u001b[0m\u001b[0m\n\u001b[1;32m      5\u001b[0m \u001b[0mgrand_sens\u001b[0m\u001b[0;34m=\u001b[0m\u001b[0mnp\u001b[0m\u001b[0;34m.\u001b[0m\u001b[0mmean\u001b[0m\u001b[0;34m(\u001b[0m\u001b[0mcrct\u001b[0m\u001b[0;34m[\u001b[0m\u001b[0mictal\u001b[0m\u001b[0;34m]\u001b[0m\u001b[0;34m)\u001b[0m\u001b[0;34m\u001b[0m\u001b[0m\n",
      "\u001b[0;32m~/anaconda/lib/python3.5/site-packages/numpy/lib/npyio.py\u001b[0m in \u001b[0;36m__getitem__\u001b[0;34m(self, key)\u001b[0m\n\u001b[1;32m    235\u001b[0m                 \u001b[0;32mreturn\u001b[0m \u001b[0mself\u001b[0m\u001b[0;34m.\u001b[0m\u001b[0mzip\u001b[0m\u001b[0;34m.\u001b[0m\u001b[0mread\u001b[0m\u001b[0;34m(\u001b[0m\u001b[0mkey\u001b[0m\u001b[0;34m)\u001b[0m\u001b[0;34m\u001b[0m\u001b[0m\n\u001b[1;32m    236\u001b[0m         \u001b[0;32melse\u001b[0m\u001b[0;34m:\u001b[0m\u001b[0;34m\u001b[0m\u001b[0m\n\u001b[0;32m--> 237\u001b[0;31m             \u001b[0;32mraise\u001b[0m \u001b[0mKeyError\u001b[0m\u001b[0;34m(\u001b[0m\u001b[0;34m\"%s is not a file in the archive\"\u001b[0m \u001b[0;34m%\u001b[0m \u001b[0mkey\u001b[0m\u001b[0;34m)\u001b[0m\u001b[0;34m\u001b[0m\u001b[0m\n\u001b[0m\u001b[1;32m    238\u001b[0m \u001b[0;34m\u001b[0m\u001b[0m\n\u001b[1;32m    239\u001b[0m     \u001b[0;32mdef\u001b[0m \u001b[0m__iter__\u001b[0m\u001b[0;34m(\u001b[0m\u001b[0mself\u001b[0m\u001b[0;34m)\u001b[0m\u001b[0;34m:\u001b[0m\u001b[0;34m\u001b[0m\u001b[0m\n",
      "\u001b[0;31mKeyError\u001b[0m: 'sub_id is not a file in the archive'"
     ]
    }
   ],
   "source": [
    "subs=np.unique(npz['sub_id'])\n",
    "crct=(npz['class_hat']>0.5)==npz['szr_class']\n",
    "print(np.mean(crct))\n",
    "ictal=npz['szr_class']==1\n",
    "grand_sens=np.mean(crct[ictal])\n",
    "grand_spec=np.mean(crct[ictal==False])\n",
    "print('Grand (unwtd) Sensitivity/Spec: %f/%f' % (grand_sens,grand_spec))\n",
    "print('Grand (unwts) Balanced Acc: %f' % (grand_sens/2+grand_spec/2))\n",
    "for sub in subs:\n",
    "    print()\n",
    "    sub_bool=npz['sub_id']==sub\n",
    "    print('Sub %d' % int(sub))\n",
    "    print('%f of data' % np.mean(sub_bool))\n",
    "    #sens=np.mean(crct[ictal and sub_bool])\n",
    "    sens=np.mean(crct[np.multiply(ictal,sub_bool)])\n",
    "    spec=np.mean(crct[np.multiply(ictal==False,sub_bool)])\n",
    "    acc=(sens+spec)/2\n",
    "    print('Acc (Sens/Spec): %f (%f/%f)' % (acc,sens,spec))"
   ]
  },
  {
   "cell_type": "code",
   "execution_count": 26,
   "metadata": {},
   "outputs": [
    {
     "name": "stdout",
     "output_type": "stream",
     "text": [
      "['ftrs_dsamp', 'szr_class_dsamp']\n",
      "Total # of observations 26170\n",
      "Total # of features 30\n"
     ]
    }
   ],
   "source": [
    "# Load downsampled files to get # of observations\n",
    "subs=[1077, 1096, 253, 590, 620, 958]\n",
    "n_obs=0\n",
    "for sub in subs:\n",
    "    in_fname='kdownsampled_'+str(sub)+'.npz'\n",
    "    npz=np.load(in_fname)\n",
    "    n_obs+=npz['ftrs_dsamp'].shape[0]\n",
    "n_ftrs=npz['ftrs_dsamp'].shape[1]\n",
    "print(npz.keys())\n",
    "print('Total # of observations %d' % n_obs)\n",
    "print('Total # of features %d' % n_ftrs)"
   ]
  },
  {
   "cell_type": "code",
   "execution_count": 23,
   "metadata": {},
   "outputs": [
    {
     "data": {
      "text/plain": [
       "5816"
      ]
     },
     "execution_count": 23,
     "metadata": {},
     "output_type": "execute_result"
    }
   ],
   "source": [
    "npz['ftrs_dsamp'].shape[0]"
   ]
  },
  {
   "cell_type": "code",
   "execution_count": 33,
   "metadata": {
    "collapsed": true
   },
   "outputs": [],
   "source": [
    "# Concat downsampled data\n",
    "ftrs=np.zeros((n_obs,n_ftrs))\n",
    "sub_ids=np.zeros(n_obs,dtype=int)\n",
    "szr_class=np.zeros(n_obs)\n",
    "obs_ct=0;\n",
    "for sub in subs:\n",
    "    in_fname='kdownsampled_'+str(sub)+'.npz'\n",
    "    npz=np.load(in_fname)\n",
    "    n_obs_this_sub=npz['ftrs_dsamp'].shape[0]\n",
    "    ftrs[obs_ct:obs_ct+n_obs_this_sub,:]=npz['ftrs_dsamp']\n",
    "    sub_ids[obs_ct:obs_ct+n_obs_this_sub]=sub\n",
    "    szr_class[obs_ct:obs_ct+n_obs_this_sub]=npz['szr_class_dsamp']\n",
    "    obs_ct+=n_obs_this_sub\n",
    " "
   ]
  },
  {
   "cell_type": "code",
   "execution_count": 42,
   "metadata": {},
   "outputs": [
    {
     "name": "stdout",
     "output_type": "stream",
     "text": [
      "done\n"
     ]
    },
    {
     "data": {
      "image/png": "[encoded data removed]",
      "text/plain": [
       "<matplotlib.figure.Figure at 0x10e07fac8>"
      ]
     },
     "metadata": {},
     "output_type": "display_data"
    },
    {
     "data": {
      "image/png": "[encoded data removed]",
      "text/plain": [
       "<matplotlib.figure.Figure at 0x110e9fcf8>"
      ]
     },
     "metadata": {},
     "output_type": "display_data"
    }
   ],
   "source": [
    "plt.figure(1)\n",
    "plt.clf()\n",
    "plt.subplot(2,1,1)\n",
    "plt.plot(sub_ids)\n",
    "\n",
    "plt.subplot(2,1,2)\n",
    "plt.plot(szr_class)\n",
    "\n",
    "mn_val=np.min(ftrs)\n",
    "plt.figure(2)\n",
    "plt.clf()\n",
    "plt.imshow(np.log10(ftrs.T-mn_val+1),aspect='auto')\n",
    "print('done')"
   ]
  },
  {
   "cell_type": "code",
   "execution_count": 36,
   "metadata": {},
   "outputs": [
    {
     "data": {
      "text/plain": [
       "array([1077, 1077, 1077])"
      ]
     },
     "execution_count": 36,
     "metadata": {},
     "output_type": "execute_result"
    }
   ],
   "source": [
    "sub_ids[:3]"
   ]
  },
  {
   "cell_type": "code",
   "execution_count": null,
   "metadata": {
    "collapsed": true
   },
   "outputs": [],
   "source": []
  }
 ],
 "metadata": {
  "anaconda-cloud": {},
  "kernelspec": {
   "display_name": "Python [conda root]",
   "language": "python",
   "name": "conda-root-py"
  },
  "language_info": {
   "codemirror_mode": {
    "name": "ipython",
    "version": 3
   },
   "file_extension": ".py",
   "mimetype": "text/x-python",
   "name": "python",
   "nbconvert_exporter": "python",
   "pygments_lexer": "ipython3",
   "version": "3.5.3"
  }
 },
 "nbformat": 4,
 "nbformat_minor": 2
}
