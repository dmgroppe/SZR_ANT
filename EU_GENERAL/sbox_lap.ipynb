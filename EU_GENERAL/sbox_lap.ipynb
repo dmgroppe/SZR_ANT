{
 "cells": [
  {
   "cell_type": "code",
   "execution_count": 1,
   "metadata": {
    "collapsed": true
   },
   "outputs": [],
   "source": [
    "import numpy as np\n",
    "import scipy.io as sio\n",
    "import os"
   ]
  },
  {
   "cell_type": "code",
   "execution_count": 2,
   "metadata": {
    "collapsed": true
   },
   "outputs": [],
   "source": [
    "in_fname='/Users/davidgroppe/PycharmProjects/SZR_ANT/MODELS/genLogregSe_1/classify_metrics_srch.npz'"
   ]
  },
  {
   "cell_type": "code",
   "execution_count": 11,
   "metadata": {},
   "outputs": [
    {
     "name": "stdout",
     "output_type": "stream",
     "text": [
      "['class_hat', 'szr_class', 'sub_id']\n",
      "[ 0.  1.]\n",
      "[  7.39455455e-14   3.40509882e-08   2.20210802e-06 ...,   1.00000000e+00\n",
      "   1.00000000e+00   1.00000000e+00]\n"
     ]
    }
   ],
   "source": [
    "npz=np.load('temp_apply_models_to_subsamp.npz')\n",
    "print(npz.keys())\n",
    "print(np.unique(npz['szr_class']))\n",
    "print(np.unique(npz['class_hat']))"
   ]
  },
  {
   "cell_type": "code",
   "execution_count": 17,
   "metadata": {},
   "outputs": [
    {
     "name": "stdout",
     "output_type": "stream",
     "text": [
      "0.772758527541\n",
      "Grand (unwtd) Sensitivity/Spec: 0.817080/0.728771\n",
      "Grand (unwts) Balanced Acc: 0.772926\n",
      "\n",
      "Sub 1096\n",
      "0.577147 of data\n",
      "Acc (Sens/Spec): 0.763465 (0.972746/0.554185)\n",
      "\n",
      "Sub 1125\n",
      "0.422853 of data\n",
      "Acc (Sens/Spec): 0.785931 (0.604703/0.967159)\n"
     ]
    }
   ],
   "source": [
    "subs=np.unique(npz['sub_id'])\n",
    "crct=(npz['class_hat']>0.5)==npz['szr_class']\n",
    "print(np.mean(crct))\n",
    "ictal=npz['szr_class']==1\n",
    "grand_sens=np.mean(crct[ictal])\n",
    "grand_spec=np.mean(crct[ictal==False])\n",
    "print('Grand (unwtd) Sensitivity/Spec: %f/%f' % (grand_sens,grand_spec))\n",
    "print('Grand (unwts) Balanced Acc: %f' % (grand_sens/2+grand_spec/2))\n",
    "for sub in subs:\n",
    "    print()\n",
    "    sub_bool=npz['sub_id']==sub\n",
    "    print('Sub %d' % int(sub))\n",
    "    print('%f of data' % np.mean(sub_bool))\n",
    "    #sens=np.mean(crct[ictal and sub_bool])\n",
    "    sens=np.mean(crct[np.multiply(ictal,sub_bool)])\n",
    "    spec=np.mean(crct[np.multiply(ictal==False,sub_bool)])\n",
    "    acc=(sens+spec)/2\n",
    "    print('Acc (Sens/Spec): %f (%f/%f)' % (acc,sens,spec))"
   ]
  },
  {
   "cell_type": "code",
   "execution_count": 3,
   "metadata": {},
   "outputs": [
    {
     "data": {
      "text/plain": [
       "['valid_sens',\n",
       " 'valid_spec',\n",
       " 'valid_bal_acc',\n",
       " 'best_valid_bal_acc_by_sub',\n",
       " 'train_sens',\n",
       " 'train_spec',\n",
       " 'train_bal_acc',\n",
       " 'train_subs_list',\n",
       " 'mn_stim_latency',\n",
       " 'pptn_missed_szrs',\n",
       " 'pptn_preonset_stim',\n",
       " 'n_train_steps',\n",
       " 'rand_ct',\n",
       " 'C_vals',\n",
       " 'gamma_vals',\n",
       " 'tried_C',\n",
       " 'tried_gamma',\n",
       " 'tried_train_acc',\n",
       " 'tried_valid_acc',\n",
       " 'best_valid_bal_acc',\n",
       " 'best_train_bal_acc',\n",
       " 'best_C',\n",
       " 'best_gam',\n",
       " 'best_models',\n",
       " 'ftr_types',\n",
       " 'left_out_id']"
      ]
     },
     "execution_count": 3,
     "metadata": {},
     "output_type": "execute_result"
    }
   ],
   "source": [
    "met=np.load(in_fname)\n",
    "met.keys()"
   ]
  },
  {
   "cell_type": "code",
   "execution_count": 7,
   "metadata": {},
   "outputs": [
    {
     "data": {
      "text/plain": [
       "0.86543468054729655"
      ]
     },
     "execution_count": 7,
     "metadata": {},
     "output_type": "execute_result"
    }
   ],
   "source": [
    "print('Mean validation data accuracy of best model:')\n",
    "np.mean(met['best_valid_bal_acc_by_sub'])"
   ]
  },
  {
   "cell_type": "code",
   "execution_count": 10,
   "metadata": {},
   "outputs": [
    {
     "name": "stdout",
     "output_type": "stream",
     "text": [
      "Best valid bal acc: 0.865435\n",
      "Best train bal acc: 0.889466\n"
     ]
    }
   ],
   "source": [
    "print('Best valid bal acc: %f' % met['best_valid_bal_acc'])\n",
    "print('Best train bal acc: %f' % met['best_train_bal_acc'])"
   ]
  },
  {
   "cell_type": "code",
   "execution_count": 7,
   "metadata": {},
   "outputs": [
    {
     "data": {
      "text/plain": [
       "['max_yhat', 'yhat_soz_chans', 'yhat_sec']"
      ]
     },
     "execution_count": 7,
     "metadata": {},
     "output_type": "execute_result"
    }
   ],
   "source": [
    "stm='/Users/davidgroppe/ONGOING/EU_YHAT/1096_genLogregSe_3/109600102_0000_yhat'\n",
    "in_f=stm+'.npz'\n",
    "yhat_npz=np.load(in_f)\n",
    "yhat_npz.keys()"
   ]
  },
  {
   "cell_type": "code",
   "execution_count": 8,
   "metadata": {},
   "outputs": [
    {
     "name": "stdout",
     "output_type": "stream",
     "text": [
      "Saving file as /Users/davidgroppe/ONGOING/EU_YHAT/1096_genLogregSe_3/109600102_0000_yhat.mat\n"
     ]
    }
   ],
   "source": [
    "out_f=stm+'.mat'\n",
    "print('Saving file as %s' % out_f)\n",
    "sio.savemat(out_f,yhat_npz)"
   ]
  },
  {
   "cell_type": "code",
   "execution_count": null,
   "metadata": {
    "collapsed": true
   },
   "outputs": [],
   "source": []
  }
 ],
 "metadata": {
  "anaconda-cloud": {},
  "kernelspec": {
   "display_name": "Python [conda root]",
   "language": "python",
   "name": "conda-root-py"
  },
  "language_info": {
   "codemirror_mode": {
    "name": "ipython",
    "version": 3
   },
   "file_extension": ".py",
   "mimetype": "text/x-python",
   "name": "python",
   "nbconvert_exporter": "python",
   "pygments_lexer": "ipython3",
   "version": "3.5.3"
  }
 },
 "nbformat": 4,
 "nbformat_minor": 2
}
