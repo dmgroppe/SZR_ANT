{
 "cells": [
  {
   "cell_type": "code",
   "execution_count": 1,
   "metadata": {},
   "outputs": [],
   "source": [
    "import numpy as np\n",
    "import scipy.io as sio\n",
    "import os\n",
    "import euGenFuncs as eu\n",
    "import matplotlib.pyplot as plt\n",
    "%matplotlib inline\n",
    "import imp "
   ]
  },
  {
   "cell_type": "code",
   "execution_count": 2,
   "metadata": {},
   "outputs": [
    {
     "name": "stdout",
     "output_type": "stream",
     "text": [
      "['stim_latency_sec', 'stim_latency_hit', 'sens', 'n_clin_szr', 'n_true_pos', 'total_hrs', 'n_false_pos', 'fp_per_hour', 'stim_thresh', 'refract_min']\n",
      "Mean SD sensitivity: 0.918750 (0.129150)\n"
     ]
    }
   ],
   "source": [
    "subs=[264, 273, 862, 1125]\n",
    "#pth='/Users/davidgroppe/PycharmProjects/SZR_ANT/MODELS/lregSeAes8_nokdsamp_1'\n",
    "pth='/home/dgroppe/GIT/SZR_ANT/MODELS/svmAesFinale_1'\n",
    "n_subs=len(subs)\n",
    "try_thresh=np.arange(0.2,0.7,0.1)\n",
    "n_thresh=len(try_thresh)\n",
    "\n",
    "#preallocate mem\n",
    "sens=np.zeros((n_subs, n_thresh))\n",
    "total_hrs=np.zeros(n_subs)\n",
    "total_clin_szrs=np.zeros(n_subs)\n",
    "fp_per_day=np.zeros((n_subs, n_thresh))\n",
    "mn_stim_lat=np.zeros((n_subs, n_thresh))\n",
    "\n",
    "# Loop over files\n",
    "for thresh_ct, thresh in enumerate(try_thresh):\n",
    "    for sub_ct, sub in enumerate(subs):\n",
    "        in_fname=str(sub)+'_thresh_0-'+str(int(10*thresh))+'_refract_0-5_stim_results.npz'\n",
    "        npz=np.load(os.path.join(pth,in_fname))\n",
    "        sens[sub_ct,thresh_ct]=npz['sens']\n",
    "        fp_per_day[sub_ct,thresh_ct]=npz['fp_per_hour']*24\n",
    "        mn_stim_lat[sub_ct,thresh_ct]=np.mean(npz['stim_latency_sec'])\n",
    "        if thresh_ct==0:\n",
    "            total_hrs[sub_ct]=npz['total_hrs']\n",
    "            total_clin_szrs[sub_ct]=npz['n_clin_szr']\n",
    "print(npz.keys())\n",
    "print('Mean SD sensitivity: %f (%f)' % (np.mean(sens),np.std(sens)))"
   ]
  },
  {
   "cell_type": "code",
   "execution_count": 16,
   "metadata": {},
   "outputs": [
    {
     "name": "stdout",
     "output_type": "stream",
     "text": [
      "['stim_latency_sec', 'stim_latency_hit', 'sens', 'n_clin_szr', 'n_true_pos', 'total_hrs', 'n_false_pos', 'fp_per_hour', 'stim_thresh', 'refract_min']\n",
      "[  6.08968750e+02   5.89062500e+00  -5.13601563e+02  -1.24921875e+01\n",
      "   4.97656250e+00   6.90625000e+00   4.06250000e-01   2.53906250e+00\n",
      "   1.42187500e+00   9.22187500e+01]\n",
      "[0 1 0 1 1 1 1 1 1 0]\n"
     ]
    }
   ],
   "source": [
    "npz['stim_latency_sec']\n",
    "bro=np.load(os.path.join(pth,'862_thresh_0-5_refract_0-5_stim_results.npz'))\n",
    "print(bro.keys())\n",
    "print(bro['stim_latency_sec'])\n",
    "print(bro['stim_latency_hit'])"
   ]
  },
  {
   "cell_type": "code",
   "execution_count": 4,
   "metadata": {},
   "outputs": [
    {
     "name": "stdout",
     "output_type": "stream",
     "text": [
      "Total hours of test data: 689.958524\n",
      "Total days of test data: 28.748272\n",
      "Mean (SD) days of test data: 7.187068 (1.478903)\n",
      "Total # of clinical szrs: 39\n",
      "Mean (SD) # of clinical szrs: 9.750000 (2.680951)\n"
     ]
    }
   ],
   "source": [
    "# Report total hours of EEG & # of clinical szrs\n",
    "print('Total hours of test data: %f' % np.sum(total_hrs))\n",
    "print('Total days of test data: %f' % np.sum(total_hrs/24))\n",
    "print('Mean (SD) days of test data: %f (%f)' % (np.mean(total_hrs/24),np.std(total_hrs/24)))\n",
    "print('Total # of clinical szrs: %d' % np.sum(total_clin_szrs))\n",
    "print('Mean (SD) # of clinical szrs: %f (%f)' % (np.mean(total_clin_szrs),np.std(total_clin_szrs)))"
   ]
  },
  {
   "cell_type": "code",
   "execution_count": 10,
   "metadata": {},
   "outputs": [
    {
     "name": "stdout",
     "output_type": "stream",
     "text": [
      "For Thresh: 0.500000\n",
      "Mean (SD) Sensitivity: 0.925000 (0.129904)\n"
     ]
    },
    {
     "data": {
      "image/png": "[encoded data removed]",
      "text/plain": [
       "<matplotlib.figure.Figure at 0x7f215d011080>"
      ]
     },
     "metadata": {},
     "output_type": "display_data"
    }
   ],
   "source": [
    "# Plot Sensitivity\n",
    "plt.figure(1)\n",
    "plt.clf()\n",
    "for sub_ct in range(n_subs):\n",
    "    plt.plot(try_thresh+(np.random.rand(1)-.5)/50,sens[sub_ct,:],'.',label='Sub'+str(subs[sub_ct]))\n",
    "plt.plot(try_thresh,np.mean(sens,axis=0),'ro-')\n",
    "plt.xlabel('Threshold')\n",
    "plt.ylabel('Pptn of Szrs Stimulated')\n",
    "plt.legend()\n",
    "\n",
    "thresh_id=3\n",
    "print('For Thresh: %f' % try_thresh[thresh_id])\n",
    "print('Mean (SD) Sensitivity: %f (%f)' % (np.mean(sens[:,thresh_id]),np.std(sens[:,thresh_id])))"
   ]
  },
  {
   "cell_type": "code",
   "execution_count": 9,
   "metadata": {},
   "outputs": [
    {
     "name": "stdout",
     "output_type": "stream",
     "text": [
      "For Thresh: 0.500000\n",
      "Mean (SD) False Positive Stim/Day: 567.470180 (428.042630)\n"
     ]
    },
    {
     "data": {
      "image/png": "[encoded data removed]",
      "text/plain": [
       "<matplotlib.figure.Figure at 0x11ae819e8>"
      ]
     },
     "metadata": {},
     "output_type": "display_data"
    }
   ],
   "source": [
    "# Plot False Positive Stimulations/Day\n",
    "plt.figure(2)\n",
    "plt.clf()\n",
    "plt.plot(try_thresh,np.mean(fp_per_day,axis=0),'ro-')\n",
    "for sub_ct in range(n_subs):\n",
    "    plt.plot(try_thresh+(np.random.rand(1)-.5)/50,fp_per_day[sub_ct,:],'.')\n",
    "plt.xlabel('Threshold')\n",
    "plt.ylabel('False postitive stim/day')\n",
    "print('For Thresh: %f' % try_thresh[thresh_id])\n",
    "print('Mean (SD) False Positive Stim/Day: %f (%f)' % (np.mean(fp_per_day[:,thresh_id]),np.std(fp_per_day[:,thresh_id])))"
   ]
  },
  {
   "cell_type": "code",
   "execution_count": 8,
   "metadata": {},
   "outputs": [
    {
     "name": "stdout",
     "output_type": "stream",
     "text": [
      "For Thresh: 0.500000\n",
      "Mean (SD) Stim Latency: 51.977511 (71.801225) seconds\n"
     ]
    },
    {
     "data": {
      "image/png": "[encoded data removed]",
      "text/plain": [
       "<matplotlib.figure.Figure at 0x11b161358>"
      ]
     },
     "metadata": {},
     "output_type": "display_data"
    }
   ],
   "source": [
    "# Plot Mean Stim Latency for each Clinical Szr\n",
    "plt.figure(3)\n",
    "plt.clf()\n",
    "plt.plot(try_thresh,np.mean(mn_stim_lat,axis=0),'ro-')\n",
    "for sub_ct in range(n_subs):\n",
    "    plt.plot(try_thresh+(np.random.rand(1)-.5)/50,mn_stim_lat[sub_ct,:],'.')\n",
    "plt.xlabel('Threshold')\n",
    "plt.ylabel('Seconds to Onset')\n",
    "print('For Thresh: %f' % try_thresh[thresh_id])\n",
    "print('Mean (SD) Stim Latency: %f (%f) seconds' % (np.mean(mn_stim_lat[:,thresh_id]),\n",
    "                                                      np.std(mn_stim_lat[:,thresh_id])))"
   ]
  },
  {
   "cell_type": "code",
   "execution_count": null,
   "metadata": {
    "collapsed": true
   },
   "outputs": [],
   "source": []
  }
 ],
 "metadata": {
  "anaconda-cloud": {},
  "kernelspec": {
   "display_name": "Python 3",
   "language": "python",
   "name": "python3"
  },
  "language_info": {
   "codemirror_mode": {
    "name": "ipython",
    "version": 3
   },
   "file_extension": ".py",
   "mimetype": "text/x-python",
   "name": "python",
   "nbconvert_exporter": "python",
   "pygments_lexer": "ipython3",
   "version": "3.6.0"
  }
 },
 "nbformat": 4,
 "nbformat_minor": 2
}
