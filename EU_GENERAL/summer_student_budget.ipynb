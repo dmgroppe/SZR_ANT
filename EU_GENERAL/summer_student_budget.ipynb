{
 "cells": [
  {
   "cell_type": "code",
   "execution_count": 1,
   "metadata": {
    "collapsed": true
   },
   "outputs": [],
   "source": [
    "import numpy as np"
   ]
  },
  {
   "cell_type": "code",
   "execution_count": 9,
   "metadata": {},
   "outputs": [
    {
     "name": "stdout",
     "output_type": "stream",
     "text": [
      "Total hrs: 640\n",
      "Min contribution to USRP/student is 1125.000000\n",
      "$2500.000000 per student (no USRP), hourly rate=3.906250\n",
      "$7000.000000 per student (with USRP), hourly rate=10.937500\n",
      "Min wage for students is now $13.15/hr\n"
     ]
    }
   ],
   "source": [
    "total=10000\n",
    "n=4 # Alexandra, Martin, Dana, Adam Gierlach\n",
    "usrp=4500\n",
    "per_n=total/n\n",
    "n_hrs=16*5*8 #16 weeks, 5 days/week, 8 hrs/day\n",
    "print('Total hrs: %d' % n_hrs)\n",
    "print('Min contribution to USRP/student is %f' % (usrp*0.25))\n",
    "print('$%f per student (no USRP), hourly rate=%f' % (per_n,per_n/n_hrs))\n",
    "print('$%f per student (with USRP), hourly rate=%f' % (per_n+usrp,(per_n+usrp)/n_hrs))\n",
    "print('Min wage for students is now $13.15/hr')"
   ]
  },
  {
   "cell_type": "code",
   "execution_count": 3,
   "metadata": {
    "collapsed": true
   },
   "outputs": [],
   "source": [
    "s2=datetime.now()"
   ]
  },
  {
   "cell_type": "code",
   "execution_count": 4,
   "metadata": {},
   "outputs": [
    {
     "name": "stdout",
     "output_type": "stream",
     "text": [
      "0:00:22.464478\n"
     ]
    }
   ],
   "source": [
    "print(s2-s1)"
   ]
  },
  {
   "cell_type": "code",
   "execution_count": 7,
   "metadata": {},
   "outputs": [
    {
     "name": "stdout",
     "output_type": "stream",
     "text": [
      "22.464478\n",
      "0.37440796666666665\n"
     ]
    }
   ],
   "source": [
    "print((s2-s1).total_seconds())\n",
    "print((s2-s1).total_seconds()/60)"
   ]
  },
  {
   "cell_type": "code",
   "execution_count": null,
   "metadata": {
    "collapsed": true
   },
   "outputs": [],
   "source": []
  }
 ],
 "metadata": {
  "anaconda-cloud": {},
  "kernelspec": {
   "display_name": "Python [default]",
   "language": "python",
   "name": "python3"
  },
  "language_info": {
   "codemirror_mode": {
    "name": "ipython",
    "version": 3
   },
   "file_extension": ".py",
   "mimetype": "text/x-python",
   "name": "python",
   "nbconvert_exporter": "python",
   "pygments_lexer": "ipython3",
   "version": "3.5.3"
  }
 },
 "nbformat": 4,
 "nbformat_minor": 2
}
