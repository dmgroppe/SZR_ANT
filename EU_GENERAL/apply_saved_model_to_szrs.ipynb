{
 "cells": [
  {
   "cell_type": "code",
   "execution_count": 1,
   "metadata": {
    "collapsed": true
   },
   "outputs": [],
   "source": [
    "# Libraries\n",
    "import numpy as np\n",
    "import scipy.io as sio\n",
    "import os\n",
    "import pickle\n",
    "# import re\n",
    "import ieeg_funcs as ief\n",
    "import dgFuncs as dg\n",
    "from sklearn import preprocessing\n",
    "# from scipy import stats\n",
    "# from mpl_toolkits.axes_grid1 import make_axes_locatable\n",
    "from sklearn import svm, linear_model\n",
    "from sklearn.metrics import roc_auc_score\n",
    "from sklearn.externals import joblib\n",
    "import matplotlib.pyplot as plt\n",
    "%matplotlib inline\n"
   ]
  },
  {
   "cell_type": "code",
   "execution_count": 2,
   "metadata": {},
   "outputs": [
    {
     "data": {
      "text/plain": [
       "<module 'dgFuncs' from '/Users/davidgroppe/PycharmProjects/DG_LIBRARY/dgFuncs.py'>"
      ]
     },
     "execution_count": 2,
     "metadata": {},
     "output_type": "execute_result"
    }
   ],
   "source": [
    "import imp \n",
    "imp.reload(dg) "
   ]
  },
  {
   "cell_type": "code",
   "execution_count": 3,
   "metadata": {
    "collapsed": true
   },
   "outputs": [],
   "source": [
    "# Function for extracting channel names from filename\n",
    "def chan_labels_from_fname(in_file):\n",
    "    just_fname=in_file.split('/')[-1]\n",
    "    jf_splt=just_fname.split('_')\n",
    "    chan_label=jf_splt[1]+'-'+jf_splt[2]\n",
    "    return chan_label"
   ]
  },
  {
   "cell_type": "code",
   "execution_count": 4,
   "metadata": {
    "collapsed": true
   },
   "outputs": [],
   "source": [
    "# Get size of a subject's data (and filenames)\n",
    "def data_size_and_fnames(sub_list,ftr_root):\n",
    "    grand_non_fnames=list()\n",
    "    grand_szr_fnames=list()\n",
    "    grand_n_szr_wind=0\n",
    "    grand_n_non_wind=0\n",
    "    for sub in sub_list:\n",
    "        print('Working on sub %d' % sub)\n",
    "        non_fnames=list()\n",
    "        szr_fnames=list()\n",
    "        \n",
    "        ftr_path=os.path.join(ftr_root,str(sub))\n",
    "        for f in os.listdir(ftr_path):\n",
    "            if f.endswith('non.mat'):\n",
    "                non_fnames.append(os.path.join(ftr_root,str(sub),f))\n",
    "            elif f.endswith('.mat') and f.startswith(str(sub)+'_'):\n",
    "                szr_fnames.append(os.path.join(ftr_root,str(sub),f))\n",
    "\n",
    "        print('%d non-szr files found' % len(non_fnames))\n",
    "        print('%d szr files found' % len(szr_fnames))  \n",
    "\n",
    "        # Loop over NON-szr files to get total # of windows\n",
    "        n_non_wind=0\n",
    "        ftr_dim=0\n",
    "        for f in non_fnames:\n",
    "            temp_ftrs=sio.loadmat(f)\n",
    "            n_non_wind+=temp_ftrs['nonszr_se_ftrs'].shape[1]\n",
    "            if ftr_dim==0:\n",
    "                ftr_dim=temp_ftrs['nonszr_se_ftrs'].shape[0]\n",
    "            elif ftr_dim!=temp_ftrs['nonszr_se_ftrs'].shape[0]:\n",
    "                raise ValueError('# of features in file does match previous files')\n",
    "\n",
    "        print('%d total # of NON-szr time windows for this sub' % n_non_wind)\n",
    "\n",
    "        # Loop over SZR files to get total # of windows\n",
    "        n_szr_wind=0\n",
    "        for f in szr_fnames:\n",
    "            temp_ftrs=sio.loadmat(f)\n",
    "            n_szr_wind+=temp_ftrs['se_ftrs'].shape[1]\n",
    "        print('%d total # of SZR time windows for this sub' % n_szr_wind)\n",
    "        \n",
    "        grand_non_fnames+=non_fnames\n",
    "        grand_szr_fnames+=szr_fnames\n",
    "        grand_n_szr_wind+=n_szr_wind\n",
    "        grand_n_non_wind+=n_non_wind\n",
    "        \n",
    "    return grand_szr_fnames, grand_non_fnames, grand_n_szr_wind, grand_n_non_wind, ftr_dim"
   ]
  },
  {
   "cell_type": "code",
   "execution_count": 10,
   "metadata": {
    "collapsed": true
   },
   "outputs": [],
   "source": [
    "def szr_phat(szr_fnames, non_fnames, models):\n",
    "    \n",
    "    # Import non-szr data\n",
    "    ptr=0\n",
    "    mns_dict=dict()\n",
    "    sds_dict=dict()\n",
    "    for f in non_fnames:\n",
    "#         print(f)\n",
    "        chan_label=chan_labels_from_fname(f)\n",
    "\n",
    "        temp_ftrs=sio.loadmat(f)\n",
    "        temp_n_wind=temp_ftrs['nonszr_se_ftrs'].shape[1]\n",
    "        raw_ftrs=temp_ftrs['nonszr_se_ftrs']\n",
    "        # Z-score features\n",
    "        temp_mns, temp_sds=dg.trimmed_normalize(raw_ftrs,0,zero_nans=False,verbose=False)\n",
    "        #temp_mns, temp_sds=dg.trimmed_normalize(raw_ftrs,0.3,zero_nans=False,verbose=False)\n",
    "        mns_dict[chan_label]=temp_mns\n",
    "        sds_dict[chan_label]=temp_sds\n",
    "    \n",
    "        ftrs[:,ptr:ptr+temp_n_wind]=raw_ftrs\n",
    "        targ_labels[ptr:ptr+temp_n_wind]=0\n",
    "        tmp=f.split('/')[-1]\n",
    "#         print(tmp)\n",
    "#         print(int(tmp.split('_')[0]))\n",
    "        sub_ids[ptr:ptr + temp_n_wind] = int(tmp.split('_')[0])\n",
    "        ptr+=temp_n_wind\n",
    "\n",
    "    # Import szr data\n",
    "    for f in szr_fnames:\n",
    "        chan_label=chan_labels_from_fname(f)\n",
    "\n",
    "        temp_ftrs=sio.loadmat(f)\n",
    "        temp_n_wind=temp_ftrs['se_ftrs'].shape[1]\n",
    "        raw_ftrs=temp_ftrs['se_ftrs']\n",
    "        # Z-score based on non-ictal means, SDs\n",
    "        dg.applyNormalize(raw_ftrs,mns_dict[chan_label],sds_dict[chan_label])\n",
    "\n",
    "        ftrs[:,ptr:ptr+temp_n_wind]=raw_ftrs\n",
    "        targ_labels[ptr:ptr+temp_n_wind]=1;\n",
    "        tmp=f.split('/')[-1]\n",
    "        sub_ids[ptr:ptr + temp_n_wind] = int(tmp.split('_')[0])\n",
    "        ptr+=temp_n_wind\n",
    "\n",
    "    return ftrs, targ_labels, sub_ids"
   ]
  },
  {
   "cell_type": "code",
   "execution_count": 6,
   "metadata": {},
   "outputs": [
    {
     "name": "stdout",
     "output_type": "stream",
     "text": [
      "# of models= 5\n",
      "<class 'sklearn.linear_model.logistic.LogisticRegression'>\n"
     ]
    }
   ],
   "source": [
    "# Load saved model\n",
    "model_stem='genLogregSe_3'\n",
    "model_fname=os.path.join('/Users/davidgroppe/PycharmProjects/SZR_ANT/MODELS/',model_stem,\n",
    "                         'classify_models_srch.pkl')\n",
    "models=pickle.load(open(model_fname,'rb'))\n",
    "n_models=len(models)\n",
    "print('# of models= %d' % n_models)\n",
    "print(type(models[0]))"
   ]
  },
  {
   "cell_type": "code",
   "execution_count": 11,
   "metadata": {},
   "outputs": [
    {
     "name": "stdout",
     "output_type": "stream",
     "text": [
      "Working on sub 264\n",
      "18 non-szr files found\n",
      "25 szr files found\n",
      "17500 total # of NON-szr time windows for this sub\n",
      "16244 total # of SZR time windows for this sub\n",
      "/Users/davidgroppe/PycharmProjects/SZR_ANT/EU_GENERAL/EU_GENERAL_FTRS/SE/264/264_BLA1_BLA2_non.mat\n",
      "/Users/davidgroppe/PycharmProjects/SZR_ANT/EU_GENERAL/EU_GENERAL_FTRS/SE/264/264_BLB1_BLB2_non.mat\n",
      "/Users/davidgroppe/PycharmProjects/SZR_ANT/EU_GENERAL/EU_GENERAL_FTRS/SE/264/264_BLB2_BLB3_non.mat\n",
      "/Users/davidgroppe/PycharmProjects/SZR_ANT/EU_GENERAL/EU_GENERAL_FTRS/SE/264/264_BLC1_BLC2_non.mat\n",
      "/Users/davidgroppe/PycharmProjects/SZR_ANT/EU_GENERAL/EU_GENERAL_FTRS/SE/264/264_BLC2_BLC3_non.mat\n",
      "/Users/davidgroppe/PycharmProjects/SZR_ANT/EU_GENERAL/EU_GENERAL_FTRS/SE/264/264_BLC3_BLC4_non.mat\n",
      "/Users/davidgroppe/PycharmProjects/SZR_ANT/EU_GENERAL/EU_GENERAL_FTRS/SE/264/264_BLC4_BLC5_non.mat\n",
      "/Users/davidgroppe/PycharmProjects/SZR_ANT/EU_GENERAL/EU_GENERAL_FTRS/SE/264/264_BRA1_BRA2_non.mat\n",
      "/Users/davidgroppe/PycharmProjects/SZR_ANT/EU_GENERAL/EU_GENERAL_FTRS/SE/264/264_BRA2_BRA3_non.mat\n",
      "/Users/davidgroppe/PycharmProjects/SZR_ANT/EU_GENERAL/EU_GENERAL_FTRS/SE/264/264_BRA3_BRA4_non.mat\n",
      "/Users/davidgroppe/PycharmProjects/SZR_ANT/EU_GENERAL/EU_GENERAL_FTRS/SE/264/264_HR3_HR4_non.mat\n",
      "/Users/davidgroppe/PycharmProjects/SZR_ANT/EU_GENERAL/EU_GENERAL_FTRS/SE/264/264_HR4_HR5_non.mat\n",
      "/Users/davidgroppe/PycharmProjects/SZR_ANT/EU_GENERAL/EU_GENERAL_FTRS/SE/264/264_HR5_HR6_non.mat\n",
      "/Users/davidgroppe/PycharmProjects/SZR_ANT/EU_GENERAL/EU_GENERAL_FTRS/SE/264/264_HR6_HR7_non.mat\n",
      "/Users/davidgroppe/PycharmProjects/SZR_ANT/EU_GENERAL/EU_GENERAL_FTRS/SE/264/264_HR7_HR8_non.mat\n",
      "/Users/davidgroppe/PycharmProjects/SZR_ANT/EU_GENERAL/EU_GENERAL_FTRS/SE/264/264_TRA1_TRA2_non.mat\n",
      "/Users/davidgroppe/PycharmProjects/SZR_ANT/EU_GENERAL/EU_GENERAL_FTRS/SE/264/264_TRA2_TRA3_non.mat\n",
      "/Users/davidgroppe/PycharmProjects/SZR_ANT/EU_GENERAL/EU_GENERAL_FTRS/SE/264/264_TRA3_TRA4_non.mat\n"
     ]
    }
   ],
   "source": [
    "# Load Test Data\n",
    "#test_subs=[264, 1096, 1125]\n",
    "test_subs=[264]\n",
    "ftr_root='/Users/davidgroppe/PycharmProjects/SZR_ANT/EU_GENERAL/EU_GENERAL_FTRS/SE/'\n",
    "for sub in test_subs:\n",
    "    szr_fnames_va, non_fnames_va, n_szr_wind_va, n_non_wind_va, ftr_dim=data_size_and_fnames(test_subs, ftr_root)\n",
    "    ftrs_va, targ_labels_va, sub_id_va=import_data(szr_fnames_va, non_fnames_va, n_szr_wind_va, n_non_wind_va, ftr_dim)\n",
    "    \n",
    "    # apply classifier\n",
    "    for model_ct in range(n_models):\n",
    "        tmp_yhat_va = models[model_ct].predict_proba(ftrs_va.T)[:,1]\n",
    "        if model_ct==0:\n",
    "            class_hat_va=np.zeros(tmp_yhat_va.shape)\n",
    "        class_hat_va+=tmp_yhat_va/n_models"
   ]
  },
  {
   "cell_type": "code",
   "execution_count": 9,
   "metadata": {},
   "outputs": [
    {
     "data": {
      "image/png": "[encoded data removed]",
      "text/plain": [
       "<matplotlib.figure.Figure at 0x111a763c8>"
      ]
     },
     "metadata": {},
     "output_type": "display_data"
    }
   ],
   "source": [
    "plt.figure(1)\n",
    "plt.subplot(2,1,1)\n",
    "plt.plot(ftrs_va.T);\n",
    "\n",
    "plt.subplot(2,1,2)\n",
    "plt.plot(class_hat_va);\n"
   ]
  },
  {
   "cell_type": "code",
   "execution_count": 18,
   "metadata": {},
   "outputs": [],
   "source": [
    "bro=np.load('/Users/davidgroppe/PycharmProjects/SZR_ANT/MODELS/genLogregSe_9/classify_metrics_srch.npz')"
   ]
  },
  {
   "cell_type": "code",
   "execution_count": 20,
   "metadata": {},
   "outputs": [
    {
     "name": "stdout",
     "output_type": "stream",
     "text": [
      "['ftr_types', 'train_bal_acc', 'gamma_vals', 'best_train_bal_acc', 'valid_sens', 'best_gam', 'left_out_id', 'train_subs_list', 'best_valid_bal_acc_by_sub', 'tried_C', 'train_sens', 'best_models', 'tried_valid_acc', 'valid_spec', 'best_valid_bal_acc', 'mn_stim_latency', 'rand_ct', 'tried_train_acc', 'tried_gamma', 'train_spec', 'best_C', 'valid_bal_acc', 'pptn_preonset_stim', 'n_train_steps', 'pptn_missed_szrs', 'C_vals']\n",
      "0.8372262211982854\n",
      "0.8683258901503061\n"
     ]
    }
   ],
   "source": [
    "print(bro.keys())\n",
    "print(bro['best_valid_bal_acc'])\n",
    "print(bro['best_train_bal_acc'])"
   ]
  },
  {
   "cell_type": "code",
   "execution_count": 24,
   "metadata": {},
   "outputs": [
    {
     "name": "stdout",
     "output_type": "stream",
     "text": [
      "[ 0.03162278  0.04216965  0.05623413  0.07498942  0.1       ]\n",
      "[ 0.01        0.03162278  0.1         0.31622777  1.        ]\n",
      "1\n"
     ]
    }
   ],
   "source": [
    "#print(10**np.linspace(-1.5,-1,5))\n",
    "print(10**np.linspace(-2,0,5))\n",
    "print(10**0)"
   ]
  },
  {
   "cell_type": "code",
   "execution_count": null,
   "metadata": {},
   "outputs": [],
   "source": [
    "# Evaluate ensemble of models on validation data\n",
    "for model_ct in range(n_models):\n",
    "    tmp_yhat_va = models[model_ct].predict_proba(ftrs_va.T)[:,1]\n",
    "    if model_ct==0:\n",
    "        class_hat_va=np.zeros(tmp_yhat_va.shape)\n",
    "    class_hat_va+=tmp_yhat_va/n_models\n",
    "    \n",
    "print('Validation Data Performance')\n",
    "auc_va=roc_auc_score(targ_labels_va, class_hat_va)\n",
    "print('AUC=%.3f' % auc_va)\n",
    "bal_acc_va, sens_va, spec_va=ief.perf_msrs(targ_labels_va, class_hat_va>=0.5)\n",
    "print('Balanced Accuracy (sens/spec)=%.3f (%f/%f)' % (bal_acc_va,sens_va,spec_va))"
   ]
  },
  {
   "cell_type": "code",
   "execution_count": null,
   "metadata": {},
   "outputs": [],
   "source": [
    "min_ftrs=np.min(ftrs_va)\n",
    "plt.figure(11)\n",
    "plt.clf()\n",
    "plt.plot(np.log10(1-min_ftrs+ftrs_va.T));\n",
    "plt.title('Validation Data')\n",
    "\n",
    "plt.figure(12)\n",
    "plt.clf()\n",
    "plt.plot(targ_labels_va,'b-');\n",
    "plt.plot(class_hat_va,'r.');"
   ]
  },
  {
   "cell_type": "code",
   "execution_count": null,
   "metadata": {},
   "outputs": [],
   "source": [
    "from sklearn.metrics import roc_curve, auc\n",
    "#fpr[i], tpr[i], _ = roc_curve(y_test[:, i], y_score[:, i])\n",
    "fpr, tpr, thresh = roc_curve(targ_labels_va, class_hat_va)\n",
    "plt.figure(3)\n",
    "lw = 2\n",
    "plt.plot(fpr, tpr, 'r-.',\n",
    "         lw=lw, label='ROC curve (area = %0.2f)' % auc_va)\n",
    "plt.plot([0, 1], [0, 1], color='navy', lw=lw, linestyle='--')\n",
    "plt.xlim([0.0, 1.0])\n",
    "plt.ylim([0.0, 1.05])\n",
    "plt.xlabel('False Positive Rate')\n",
    "plt.ylabel('True Positive Rate')\n",
    "plt.title('Receiver operating characteristic example')\n",
    "plt.legend(loc=\"lower right\")\n",
    "\n",
    "plt.figure(4)\n",
    "mn=(tpr+(1-fpr))/2\n",
    "mx_mn_id=np.argmax(mn)\n",
    "plt.plot(thresh,mn,'.-')\n",
    "plt.plot(thresh[mx_mn_id],mn[mx_mn_id],'ro')\n",
    "print('Ideal threshold=%f' % thresh[mx_mn_id])\n",
    "print('Corresponding sens/spec=%f/%f' % (tpr[mx_mn_id],1-fpr[mx_mn_id]))\n",
    "bal_acc_va, sens_va, spec_va=ief.perf_msrs(targ_labels_va, class_hat_va>=thresh[mx_mn_id])\n",
    "print('Balanced Accuracy (sens/spec)=%.3f (%f/%f)' % (bal_acc_va,sens_va,spec_va))\n",
    "# J=sens+spec-1"
   ]
  },
  {
   "cell_type": "code",
   "execution_count": null,
   "metadata": {
    "collapsed": true
   },
   "outputs": [],
   "source": []
  }
 ],
 "metadata": {
  "anaconda-cloud": {},
  "kernelspec": {
   "display_name": "Python [conda root]",
   "language": "python",
   "name": "conda-root-py"
  },
  "language_info": {
   "codemirror_mode": {
    "name": "ipython",
    "version": 3
   },
   "file_extension": ".py",
   "mimetype": "text/x-python",
   "name": "python",
   "nbconvert_exporter": "python",
   "pygments_lexer": "ipython3",
   "version": "3.5.3"
  }
 },
 "nbformat": 4,
 "nbformat_minor": 2
}
