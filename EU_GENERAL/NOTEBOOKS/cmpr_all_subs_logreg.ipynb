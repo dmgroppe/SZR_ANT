{
 "cells": [
  {
   "cell_type": "code",
   "execution_count": 6,
   "metadata": {},
   "outputs": [],
   "source": [
    "import numpy as np\n",
    "import scipy.io as sio\n",
    "import os\n",
    "import matplotlib.pyplot as plt\n",
    "%matplotlib inline"
   ]
  },
  {
   "cell_type": "code",
   "execution_count": 3,
   "metadata": {},
   "outputs": [
    {
     "name": "stdout",
     "output_type": "stream",
     "text": [
      "['valid_sens', 'valid_spec', 'valid_bal_acc', 'best_valid_bal_acc_by_sub', 'train_sens', 'train_spec', 'train_bal_acc', 'train_subs_list', 'mn_stim_latency', 'pptn_missed_szrs', 'pptn_preonset_stim', 'n_train_steps', 'uni_subs', 'rand_ct', 'C_vals', 'gamma_vals', 'tried_C', 'tried_gamma', 'tried_train_acc', 'tried_valid_acc', 'best_valid_bal_acc', 'best_train_bal_acc', 'best_C', 'best_gam', 'best_models', 'equal_sub_wts', 'ftr_types', 'left_out_id']\n"
     ]
    }
   ],
   "source": [
    "#in_fname='/Users/davidgroppe/PycharmProjects/SZR_ANT/MODELS/genLogregSe_1/classify_metrics_srch.npz'\n",
    "in_fname='/home/dgroppe/GIT/SZR_ANT/MODELS/gen14_logreg_se_ewts_1/classify_metrics_srch.npz'\n",
    "npz=np.load(in_fname)\n",
    "print(npz.keys())"
   ]
  },
  {
   "cell_type": "code",
   "execution_count": 22,
   "metadata": {},
   "outputs": [
    {
     "name": "stdout",
     "output_type": "stream",
     "text": [
      "[ 115  253  264  273  565  590  620  862  922  958  970 1077 1096 1125]\n",
      "[  115.   253.   264.   273.   565.   590.   620.   862.   922.   958.\n",
      "   970.  1077.  1096.  1125.]\n",
      "14\n"
     ]
    }
   ],
   "source": [
    "print(npz['train_subs_list'])\n",
    "print(npz['uni_subs'])\n",
    "print(len(npz['valid_sens']))"
   ]
  },
  {
   "cell_type": "code",
   "execution_count": 25,
   "metadata": {
    "scrolled": true
   },
   "outputs": [
    {
     "name": "stdout",
     "output_type": "stream",
     "text": [
      "done\n"
     ]
    },
    {
     "data": {
      "image/png": "[encoded data removed]",
      "text/plain": [
       "<matplotlib.figure.Figure at 0x7f28c3e68c88>"
      ]
     },
     "metadata": {},
     "output_type": "display_data"
    },
    {
     "data": {
      "image/png": "[encoded data removed]",
      "text/plain": [
       "<matplotlib.figure.Figure at 0x7f28c3de5b00>"
      ]
     },
     "metadata": {},
     "output_type": "display_data"
    }
   ],
   "source": [
    "# Plot Accuracy\n",
    "plt.figure(1)\n",
    "plt.clf()\n",
    "plt.plot(npz['best_valid_bal_acc_by_sub'],'ro')\n",
    "plt.ylim([0.5, 1])\n",
    "plt.xticks(np.arange(0,len(npz['train_subs_list'])),npz['train_subs_list'].astype('int'),rotation='vertical')\n",
    "plt.ylabel('Accuracy')\n",
    "\n",
    "# Plot Sensitivity & Specificity\n",
    "plt.figure(2)\n",
    "plt.clf()\n",
    "plt.plot(npz['valid_sens'],'mo')\n",
    "plt.plot(npz['valid_spec'],'bo')\n",
    "plt.ylim([0, 1])\n",
    "plt.xticks(np.arange(0,len(npz['train_subs_list'])),npz['train_subs_list'].astype('int'),rotation='vertical')\n",
    "plt.ylabel('m=sens, b=spec')\n",
    "print('done')"
   ]
  },
  {
   "cell_type": "code",
   "execution_count": null,
   "metadata": {
    "collapsed": true
   },
   "outputs": [],
   "source": []
  }
 ],
 "metadata": {
  "anaconda-cloud": {},
  "kernelspec": {
   "display_name": "Python 3",
   "language": "python",
   "name": "python3"
  },
  "language_info": {
   "codemirror_mode": {
    "name": "ipython",
    "version": 3
   },
   "file_extension": ".py",
   "mimetype": "text/x-python",
   "name": "python",
   "nbconvert_exporter": "python",
   "pygments_lexer": "ipython3",
   "version": "3.6.0"
  }
 },
 "nbformat": 4,
 "nbformat_minor": 2
}
