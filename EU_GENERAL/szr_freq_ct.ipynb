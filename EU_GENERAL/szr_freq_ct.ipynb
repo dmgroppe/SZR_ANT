{
 "cells": [
  {
   "cell_type": "code",
   "execution_count": 27,
   "metadata": {
    "collapsed": true
   },
   "outputs": [],
   "source": [
    "import numpy as np\n",
    "import matplotlib.pyplot as plt\n",
    "import pandas as pd\n",
    "import os"
   ]
  },
  {
   "cell_type": "code",
   "execution_count": 4,
   "metadata": {
    "collapsed": true
   },
   "outputs": [],
   "source": [
    "in_fname='/Users/davidgroppe/Desktop/Anon_SeizureCounts_20171005/ECOG_SeizureCounts_20170912-Table 1.csv'"
   ]
  },
  {
   "cell_type": "code",
   "execution_count": 6,
   "metadata": {},
   "outputs": [],
   "source": [
    "# master_df=pd.read_csv(in_fname)\n",
    "# master_df.head()"
   ]
  },
  {
   "cell_type": "code",
   "execution_count": 3,
   "metadata": {},
   "outputs": [
    {
     "data": {
      "text/html": [
       "<div>\n",
       "<style>\n",
       "    .dataframe thead tr:only-child th {\n",
       "        text-align: right;\n",
       "    }\n",
       "\n",
       "    .dataframe thead th {\n",
       "        text-align: left;\n",
       "    }\n",
       "\n",
       "    .dataframe tbody tr th {\n",
       "        vertical-align: top;\n",
       "    }\n",
       "</style>\n",
       "<table border=\"1\" class=\"dataframe\">\n",
       "  <thead>\n",
       "    <tr style=\"text-align: right;\">\n",
       "      <th></th>\n",
       "      <th>Seizure #</th>\n",
       "      <th>Date* (natus study)</th>\n",
       "      <th>Start Time</th>\n",
       "      <th>End time</th>\n",
       "      <th>Duration (S)</th>\n",
       "      <th>Class</th>\n",
       "      <th>COMMENT1</th>\n",
       "      <th>COMMENT2</th>\n",
       "      <th>Unnamed: 8</th>\n",
       "      <th>Seizure Count</th>\n",
       "      <th>Average duration</th>\n",
       "    </tr>\n",
       "  </thead>\n",
       "  <tbody>\n",
       "    <tr>\n",
       "      <th>0</th>\n",
       "      <td>1</td>\n",
       "      <td>7/22/17</td>\n",
       "      <td>2:42:34</td>\n",
       "      <td>NaN</td>\n",
       "      <td>NaN</td>\n",
       "      <td>clinical</td>\n",
       "      <td>overnight July 22-23</td>\n",
       "      <td>NaN</td>\n",
       "      <td>NaN</td>\n",
       "      <td>NaN</td>\n",
       "      <td>NaN</td>\n",
       "    </tr>\n",
       "    <tr>\n",
       "      <th>1</th>\n",
       "      <td>2</td>\n",
       "      <td>7/24/17</td>\n",
       "      <td>0:35:45</td>\n",
       "      <td>NaN</td>\n",
       "      <td>NaN</td>\n",
       "      <td>clinical</td>\n",
       "      <td>overnight July 24-25</td>\n",
       "      <td>clinical onset before EEG (00:36:06)</td>\n",
       "      <td>NaN</td>\n",
       "      <td>NaN</td>\n",
       "      <td>NaN</td>\n",
       "    </tr>\n",
       "    <tr>\n",
       "      <th>2</th>\n",
       "      <td>3</td>\n",
       "      <td>7/24/17</td>\n",
       "      <td>1:50:11</td>\n",
       "      <td>NaN</td>\n",
       "      <td>NaN</td>\n",
       "      <td>clinical</td>\n",
       "      <td>overnight July 24-25</td>\n",
       "      <td>clinical onset before EEG (1:50:38)</td>\n",
       "      <td>NaN</td>\n",
       "      <td>NaN</td>\n",
       "      <td>NaN</td>\n",
       "    </tr>\n",
       "    <tr>\n",
       "      <th>3</th>\n",
       "      <td>4</td>\n",
       "      <td>7/24/17</td>\n",
       "      <td>2:52:52</td>\n",
       "      <td>NaN</td>\n",
       "      <td>NaN</td>\n",
       "      <td>clinical</td>\n",
       "      <td>overnight July 24-25</td>\n",
       "      <td>clinical onset before EEG (2:53:12)</td>\n",
       "      <td>NaN</td>\n",
       "      <td>NaN</td>\n",
       "      <td>NaN</td>\n",
       "    </tr>\n",
       "    <tr>\n",
       "      <th>4</th>\n",
       "      <td>5</td>\n",
       "      <td>7/24/17</td>\n",
       "      <td>3:48:33</td>\n",
       "      <td>NaN</td>\n",
       "      <td>NaN</td>\n",
       "      <td>clinical</td>\n",
       "      <td>overnight July 24-25</td>\n",
       "      <td>clinical onset before EEG (background change)</td>\n",
       "      <td>NaN</td>\n",
       "      <td>NaN</td>\n",
       "      <td>NaN</td>\n",
       "    </tr>\n",
       "  </tbody>\n",
       "</table>\n",
       "</div>"
      ],
      "text/plain": [
       "   Seizure # Date* (natus study) Start Time  End time  Duration (S)     Class  \\\n",
       "0          1             7/22/17    2:42:34       NaN           NaN  clinical   \n",
       "1          2             7/24/17    0:35:45       NaN           NaN  clinical   \n",
       "2          3             7/24/17    1:50:11       NaN           NaN  clinical   \n",
       "3          4             7/24/17    2:52:52       NaN           NaN  clinical   \n",
       "4          5             7/24/17    3:48:33       NaN           NaN  clinical   \n",
       "\n",
       "               COMMENT1                                       COMMENT2  \\\n",
       "0  overnight July 22-23                                            NaN   \n",
       "1  overnight July 24-25           clinical onset before EEG (00:36:06)   \n",
       "2  overnight July 24-25            clinical onset before EEG (1:50:38)   \n",
       "3  overnight July 24-25            clinical onset before EEG (2:53:12)   \n",
       "4  overnight July 24-25  clinical onset before EEG (background change)   \n",
       "\n",
       "   Unnamed: 8  Seizure Count  Average duration  \n",
       "0         NaN            NaN               NaN  \n",
       "1         NaN            NaN               NaN  \n",
       "2         NaN            NaN               NaN  \n",
       "3         NaN            NaN               NaN  \n",
       "4         NaN            NaN               NaN  "
      ]
     },
     "execution_count": 3,
     "metadata": {},
     "output_type": "execute_result"
    }
   ],
   "source": [
    "in_fname='/Users/davidgroppe/Desktop/Anon_SeizureCounts_20171005/TWH_78-Table 1.csv'\n",
    "df=pd.read_csv(in_fname)\n",
    "df.head()"
   ]
  },
  {
   "cell_type": "code",
   "execution_count": 11,
   "metadata": {},
   "outputs": [],
   "source": [
    "# temp_df=df.sort_values(['Start Time','End time'])\n",
    "# temp_df.head()"
   ]
  },
  {
   "cell_type": "code",
   "execution_count": 46,
   "metadata": {},
   "outputs": [
    {
     "name": "stdout",
     "output_type": "stream",
     "text": [
      "Working on Sub 80\n",
      "Sub 0, 3 clinical szrs\n",
      "Working on Sub 79\n",
      "Warning: szr class is nan\n",
      "Sub 1, 7 clinical szrs\n",
      "Working on Sub 77\n",
      "Sub 2, 9 clinical szrs\n",
      "Working on Sub 76\n",
      "Warning: szr class is nan\n",
      "Sub 3, 10 clinical szrs\n",
      "Working on Sub 75\n",
      "Sub 4, 10 clinical szrs\n",
      "Working on Sub 72\n",
      "Warning: szr class is nan\n",
      "Warning: szr class is nan\n",
      "Warning: szr class is nan\n",
      "Warning: szr class is nan\n",
      "Warning: szr class is nan\n",
      "Warning: szr class is nan\n",
      "Warning: szr class is nan\n",
      "Sub 5, 2 clinical szrs\n",
      "Working on Sub 71\n",
      "Sub 6, 9 clinical szrs\n",
      "Working on Sub 70\n",
      "Sub 7, 12 clinical szrs\n",
      "Working on Sub 67\n",
      "Warning: szr class is nan\n",
      "Warning: szr class is nan\n",
      "Warning: szr class is nan\n",
      "Warning: szr class is nan\n",
      "Warning: szr class is nan\n",
      "Warning: szr class is nan\n",
      "Warning: szr class is nan\n",
      "Sub 8, 2 clinical szrs\n",
      "Working on Sub 66\n",
      "Sub 9, 12 clinical szrs\n",
      "Working on Sub 65\n",
      "Warning: szr class is nan\n",
      "Warning: szr class is nan\n",
      "Warning: szr class is nan\n",
      "Warning: szr class is nan\n",
      "Warning: szr class is nan\n",
      "Warning: szr class is nan\n",
      "Sub 10, 3 clinical szrs\n",
      "Working on Sub 64\n",
      "Sub 11, 4 clinical szrs\n",
      "Working on Sub 63\n",
      "Sub 12, 18 clinical szrs\n",
      "Working on Sub 62\n",
      "Sub 13, 19 clinical szrs\n",
      "Working on Sub 61\n",
      "Error: szr class is Clinical \n",
      "Sub 14, 9 clinical szrs\n",
      "Working on Sub 59\n",
      "Warning: szr class is nan\n",
      "Warning: szr class is nan\n",
      "Warning: szr class is nan\n",
      "Warning: szr class is nan\n",
      "Warning: szr class is nan\n",
      "Warning: szr class is nan\n",
      "Warning: szr class is nan\n",
      "Warning: szr class is nan\n",
      "Sub 15, 1 clinical szrs\n",
      "Working on Sub 58\n",
      "Sub 16, 41 clinical szrs\n"
     ]
    }
   ],
   "source": [
    "# Missing info 81, 78, 74, 73, 69, 57, 1, 2\n",
    "# Odd: 74 over 100 electrographic events\n",
    "subs=[80, 79, 77, 76, 75, 72, 71, 70, 67, 66, 65, 64, 63, 62, 61, 59, 58]\n",
    "n_subs=len(subs)\n",
    "clin_ct_post=np.zeros((n_subs,2),dtype='int')\n",
    "any_szr_ct_post=np.zeros((n_subs,2),dtype='int')\n",
    "for sub_ct, sub in enumerate(subs):\n",
    "    print('Working on Sub %d' % sub)\n",
    "    # Load data frame\n",
    "    in_fname=os.path.join('/Users/davidgroppe/Desktop/Anon_SeizureCounts_20171005/',\n",
    "                          'TWH_'+str(sub)+'-Table 1.csv')\n",
    "    df=pd.read_csv(in_fname)\n",
    "    \n",
    "    clin_ct=0\n",
    "    for szr in df['Class']:\n",
    "        if isinstance(szr,str):\n",
    "            if szr.lower()=='clinical':\n",
    "                clin_ct+=1\n",
    "                if clin_ct>2:\n",
    "                    any_szr_ct_post[sub_ct,0]+=1\n",
    "                if clin_ct>3:\n",
    "                    any_szr_ct_post[sub_ct,1]+=1\n",
    "            elif szr.lower()=='electrographic':\n",
    "                if clin_ct>2:\n",
    "                    any_szr_ct_post[sub_ct,0]+=1\n",
    "                if clin_ct>3:\n",
    "                    any_szr_ct_post[sub_ct,1]+=1\n",
    "            else:\n",
    "                print('Error: szr class is %s' % szr)\n",
    "        else:\n",
    "            print('Warning: szr class is {}'.format(szr))\n",
    "    print('Sub %d, %d clinical szrs' % (sub_ct, clin_ct))\n",
    "    clin_ct_post[sub_ct,0]=int(clin_ct-2)\n",
    "    clin_ct_post[sub_ct,1]=int(clin_ct-3)\n",
    "    \n",
    "# Set any negative values to 0\n",
    "clin_ct_post[clin_ct_post<0]=0"
   ]
  },
  {
   "cell_type": "code",
   "execution_count": 34,
   "metadata": {},
   "outputs": [
    {
     "data": {
      "text/plain": [
       "'Clinical'"
      ]
     },
     "execution_count": 34,
     "metadata": {},
     "output_type": "execute_result"
    }
   ],
   "source": [
    "szr\n",
    "# np.isnan(szr)"
   ]
  },
  {
   "cell_type": "code",
   "execution_count": 47,
   "metadata": {},
   "outputs": [
    {
     "data": {
      "text/plain": [
       "array([[ 1,  0],\n",
       "       [ 5,  4],\n",
       "       [ 7,  6],\n",
       "       [ 8,  7],\n",
       "       [ 8,  7],\n",
       "       [ 0,  0],\n",
       "       [ 7,  6],\n",
       "       [10,  9],\n",
       "       [ 0,  0],\n",
       "       [10,  9],\n",
       "       [ 1,  0],\n",
       "       [ 2,  1],\n",
       "       [16, 15],\n",
       "       [17, 16],\n",
       "       [ 7,  6],\n",
       "       [ 0,  0],\n",
       "       [39, 38]])"
      ]
     },
     "execution_count": 47,
     "metadata": {},
     "output_type": "execute_result"
    }
   ],
   "source": [
    "clin_ct_post"
   ]
  },
  {
   "cell_type": "code",
   "execution_count": 48,
   "metadata": {},
   "outputs": [
    {
     "data": {
      "text/plain": [
       "array([[ 1,  0],\n",
       "       [ 5,  4],\n",
       "       [10,  8],\n",
       "       [ 8,  7],\n",
       "       [ 8,  7],\n",
       "       [ 0,  0],\n",
       "       [ 7,  6],\n",
       "       [10,  9],\n",
       "       [ 0,  0],\n",
       "       [11, 10],\n",
       "       [ 1,  0],\n",
       "       [ 2,  1],\n",
       "       [16, 15],\n",
       "       [40, 39],\n",
       "       [51, 50],\n",
       "       [ 0,  0],\n",
       "       [40, 39]])"
      ]
     },
     "execution_count": 48,
     "metadata": {},
     "output_type": "execute_result"
    }
   ],
   "source": [
    "any_szr_ct_post"
   ]
  },
  {
   "cell_type": "code",
   "execution_count": null,
   "metadata": {
    "collapsed": true
   },
   "outputs": [],
   "source": []
  }
 ],
 "metadata": {
  "anaconda-cloud": {},
  "kernelspec": {
   "display_name": "Python [conda root]",
   "language": "python",
   "name": "conda-root-py"
  },
  "language_info": {
   "codemirror_mode": {
    "name": "ipython",
    "version": 3
   },
   "file_extension": ".py",
   "mimetype": "text/x-python",
   "name": "python",
   "nbconvert_exporter": "python",
   "pygments_lexer": "ipython3",
   "version": "3.5.3"
  }
 },
 "nbformat": 4,
 "nbformat_minor": 2
}
