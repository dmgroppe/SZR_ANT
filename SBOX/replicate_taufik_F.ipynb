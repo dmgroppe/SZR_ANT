{
 "cells": [
  {
   "cell_type": "code",
   "execution_count": 1,
   "metadata": {
    "collapsed": true
   },
   "outputs": [],
   "source": [
    "import numpy as np\n",
    "import pandas as pd\n",
    "import scipy.io\n",
    "import os\n",
    "import ieeg_funcs as ief\n",
    "import dgFuncs as dg\n",
    "from sklearn import preprocessing\n",
    "import sys\n",
    "from scipy import stats\n",
    "import scipy.io as sio\n",
    "from scipy import signal\n",
    "import matplotlib.pyplot as plt\n",
    "%matplotlib inline"
   ]
  },
  {
   "cell_type": "code",
   "execution_count": 3,
   "metadata": {
    "collapsed": false
   },
   "outputs": [
    {
     "name": "stdout",
     "output_type": "stream",
     "text": [
      "dict_keys(['Sf', 'group_end_index', 'matrix_bi', 'date_time', 'matrix_mo', '__header__', '__version__', '__globals__'])\n"
     ]
    }
   ],
   "source": [
    "# LOAD RAW EEG\n",
    "in_fname='/Users/davidgroppe/ONGOING/TWH_EEG_ORIG/NA/NA_d1_sz2.mat'\n",
    "mat_dat=sio.loadmat(in_fname)\n",
    "Sf=mat_dat['Sf']\n",
    "vltg_dat=signal.detrend(mat_dat['matrix_bi'],0)\n",
    "print(mat_dat.keys())"
   ]
  },
  {
   "cell_type": "code",
   "execution_count": 5,
   "metadata": {
    "collapsed": false
   },
   "outputs": [
    {
     "name": "stdout",
     "output_type": "stream",
     "text": [
      "dict_keys(['Sf', 'F', 'cfg', 'matrix_bi', 'group_end_index', 'matrix_mo', '__header__', '__version__', '__globals__'])\n"
     ]
    },
    {
     "data": {
      "text/plain": [
       "(6, 93500, 31)"
      ]
     },
     "execution_count": 5,
     "metadata": {},
     "output_type": "execute_result"
    }
   ],
   "source": [
    "# LOAD TAUFIK FEATURES\n",
    "in_fname='/Users/davidgroppe/Desktop/NA_d1_sz2_F.mat'\n",
    "proc_dat=sio.loadmat(in_fname)\n",
    "print(proc_dat.keys())\n",
    "F=proc_dat['F']\n",
    "F.shape"
   ]
  },
  {
   "cell_type": "code",
   "execution_count": null,
   "metadata": {
    "collapsed": true
   },
   "outputs": [],
   "source": []
  }
 ],
 "metadata": {
  "anaconda-cloud": {},
  "kernelspec": {
   "display_name": "Python [default]",
   "language": "python",
   "name": "python3"
  },
  "language_info": {
   "codemirror_mode": {
    "name": "ipython",
    "version": 3
   },
   "file_extension": ".py",
   "mimetype": "text/x-python",
   "name": "python",
   "nbconvert_exporter": "python",
   "pygments_lexer": "ipython3",
   "version": "3.5.3"
  }
 },
 "nbformat": 4,
 "nbformat_minor": 2
}
