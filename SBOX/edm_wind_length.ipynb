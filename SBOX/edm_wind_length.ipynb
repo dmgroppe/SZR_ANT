{
 "cells": [
  {
   "cell_type": "markdown",
   "metadata": {},
   "source": [
    "# This script calculates how long it takes for an impulse to decay to 10% of its original size"
   ]
  },
  {
   "cell_type": "code",
   "execution_count": 1,
   "metadata": {
    "collapsed": true
   },
   "outputs": [],
   "source": [
    "import numpy as np\n",
    "import pandas as pd\n",
    "import scipy.io\n",
    "import os\n",
    "import ieeg_funcs as ief\n",
    "import dgFuncs as dg\n",
    "from sklearn import preprocessing\n",
    "import sys\n",
    "from scipy import stats\n",
    "import scipy.io as sio\n",
    "from scipy import signal\n",
    "import matplotlib.pyplot as plt\n",
    "%matplotlib inline"
   ]
  },
  {
   "cell_type": "code",
   "execution_count": 29,
   "metadata": {
    "collapsed": false
   },
   "outputs": [
    {
     "name": "stdout",
     "output_type": "stream",
     "text": [
      "a=2, alph=0.250000\n",
      "Thresh at tpt 8 (or 0.800000 sec)\n",
      "a=3, alph=0.125000\n",
      "Thresh at tpt 17 (or 1.700000 sec)\n",
      "a=4, alph=0.062500\n",
      "Thresh at tpt 35 (or 3.500000 sec)\n",
      "a=5, alph=0.031250\n",
      "Thresh at tpt 72 (or 7.200000 sec)\n",
      "a=6, alph=0.015625\n",
      "Thresh at tpt 146 (or 14.600000 sec)\n",
      "a=7, alph=0.007812\n",
      "Thresh at tpt 293 (or 29.300000 sec)\n",
      "a=8, alph=0.003906\n",
      "Thresh at tpt 588 (or 58.800000 sec)\n",
      "a=9, alph=0.001953\n",
      "Thresh at tpt 1177 (or 117.700000 sec)\n",
      "a=10, alph=0.000977\n",
      "Thresh at tpt 2356 (or 235.600000 sec)\n",
      "a=11, alph=0.000488\n",
      "Thresh at tpt 4714 (or 471.400000 sec)\n",
      "a=12, alph=0.000244\n",
      "Thresh at tpt 9430 (or 943.000000 sec)\n",
      "a=13, alph=0.000122\n",
      "Thresh at tpt 18861 (or 1886.100000 sec)\n",
      "a=14, alph=0.000061\n",
      "Thresh at tpt 37724 (or 3772.400000 sec)\n"
     ]
    }
   ],
   "source": [
    "n_tpt=100000\n",
    "Sf=10\n",
    "max_a=15\n",
    "thresh_tpt=np.zeros(max_a-2)\n",
    "for a in range(2,max_a):\n",
    "    alph=1/(2**a)\n",
    "    print('a=%d, alph=%f' % (a,alph))\n",
    "    dat=np.zeros(n_tpt+1)\n",
    "    dat[0]=1\n",
    "    for t in range(n_tpt):\n",
    "        dat[t+1]=dat[t]*(1-alph)+alph*dat[t+1]\n",
    "        if dat[t+1]<=.1:\n",
    "            print('Thresh at tpt %d (or %f sec)' % (t,t/Sf))\n",
    "            thresh_tpt[a-2]=t\n",
    "            break"
   ]
  },
  {
   "cell_type": "code",
   "execution_count": 35,
   "metadata": {
    "collapsed": false
   },
   "outputs": [
    {
     "data": {
      "text/plain": [
       "[<matplotlib.lines.Line2D at 0x11121f240>]"
      ]
     },
     "execution_count": 35,
     "metadata": {},
     "output_type": "execute_result"
    },
    {
     "data": {
      "image/png": "[encoded data removed]",
      "text/plain": [
       "<matplotlib.figure.Figure at 0x1111750f0>"
      ]
     },
     "metadata": {},
     "output_type": "display_data"
    }
   ],
   "source": [
    "plt.figure(1)\n",
    "plt.clf()\n",
    "plt.plot(np.arange(2,max_a),thresh_tpt,'-o')"
   ]
  },
  {
   "cell_type": "code",
   "execution_count": 12,
   "metadata": {
    "collapsed": false
   },
   "outputs": [
    {
     "data": {
      "text/plain": [
       "[<matplotlib.lines.Line2D at 0x110ab2320>]"
      ]
     },
     "execution_count": 12,
     "metadata": {},
     "output_type": "execute_result"
    },
    {
     "data": {
      "image/png": "[encoded data removed]",
      "text/plain": [
       "<matplotlib.figure.Figure at 0x110a01dd8>"
      ]
     },
     "metadata": {},
     "output_type": "display_data"
    }
   ],
   "source": [
    "plt.figure(1)\n",
    "plt.clf()\n",
    "plt.plot(dat[:30])"
   ]
  },
  {
   "cell_type": "code",
   "execution_count": null,
   "metadata": {
    "collapsed": true
   },
   "outputs": [],
   "source": []
  }
 ],
 "metadata": {
  "anaconda-cloud": {},
  "kernelspec": {
   "display_name": "Python [default]",
   "language": "python",
   "name": "python3"
  },
  "language_info": {
   "codemirror_mode": {
    "name": "ipython",
    "version": 3
   },
   "file_extension": ".py",
   "mimetype": "text/x-python",
   "name": "python",
   "nbconvert_exporter": "python",
   "pygments_lexer": "ipython3",
   "version": "3.5.3"
  }
 },
 "nbformat": 4,
 "nbformat_minor": 2
}
