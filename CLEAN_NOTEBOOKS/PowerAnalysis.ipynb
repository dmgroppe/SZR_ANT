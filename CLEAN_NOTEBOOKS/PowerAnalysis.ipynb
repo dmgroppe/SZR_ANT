{
 "cells": [
  {
   "cell_type": "markdown",
   "metadata": {},
   "source": [
    "# This script uses a one-tailed Fisher's exact test to estimate the power of demonstrating RNS success"
   ]
  },
  {
   "cell_type": "code",
   "execution_count": 1,
   "metadata": {
    "collapsed": true,
    "deletable": true,
    "editable": true
   },
   "outputs": [],
   "source": [
    "import numpy as np\n",
    "import pandas as pd\n",
    "import scipy.io\n",
    "import os\n",
    "import ieeg_funcs as ief\n",
    "import dgFuncs as dg\n",
    "from sklearn import preprocessing\n",
    "import sys\n",
    "from scipy import stats\n",
    "import matplotlib.pyplot as plt\n",
    "%matplotlib inline"
   ]
  },
  {
   "cell_type": "code",
   "execution_count": 2,
   "metadata": {
    "collapsed": false,
    "deletable": true,
    "editable": true
   },
   "outputs": [
    {
     "name": "stderr",
     "output_type": "stream",
     "text": [
      "/Users/davidgroppe/anaconda/lib/python3.5/site-packages/scipy/stats/stats.py:3851: RuntimeWarning: invalid value encountered in absolute\n",
      "  prob = distributions.t.sf(np.abs(t), df) * 2  # use np.abs to get upper tail\n"
     ]
    },
    {
     "name": "stdout",
     "output_type": "stream",
     "text": [
      "Stim group: mean (SD) # of szrs: 0.000000 (0.000000)\n",
      "Control group: mean (SD) # of szrs: 5.019500 (1.566499)\n",
      "Fisher Power (SE): 0.833900 (0.003722)\n",
      "t Power (SE): 0.833900 (0.003722)\n"
     ]
    },
    {
     "name": "stderr",
     "output_type": "stream",
     "text": [
      "/Users/davidgroppe/anaconda/lib/python3.5/site-packages/ipykernel/__main__.py:28: RuntimeWarning: invalid value encountered in less\n"
     ]
    }
   ],
   "source": [
    "# Try one set of p_szr p_stop parameters\n",
    "n_subs=20\n",
    "n_subs_per_group=int(n_subs/2)\n",
    "n_sim=10000\n",
    "p_szr=0.5\n",
    "p_stop=1.0\n",
    "p_combo=p_szr*(1-p_stop)\n",
    "n_szrs_stim_group=np.zeros(n_sim)\n",
    "n_szrs_control_group=np.zeros(n_sim)\n",
    "reject_null=np.zeros(n_sim)\n",
    "p_fisher=np.zeros(n_sim)\n",
    "p_t=np.zeros(n_sim)\n",
    "for sim_ct in range(n_sim):\n",
    "    n_szrs_stim_group[sim_ct]=np.random.binomial(n_subs_per_group,p_combo)\n",
    "    n_szrs_control_group[sim_ct]=np.random.binomial(n_subs_per_group,p_szr)\n",
    "    oddsratio, pvalue = stats.fisher_exact([[n_szrs_stim_group[sim_ct], n_subs_per_group-n_szrs_stim_group[sim_ct]], \n",
    "                                            [n_szrs_control_group[sim_ct], n_subs_per_group-n_szrs_control_group[sim_ct]]],alternative='less')\n",
    "    reject_null[sim_ct]=pvalue<0.05\n",
    "    p_fisher[sim_ct]=pvalue\n",
    "    \n",
    "    # Ind samp t-test (not as appropriate, but should be similar with enough patients)\n",
    "    temp_stim=np.zeros(n_subs_per_group)\n",
    "    temp_ctrl=np.zeros(n_subs_per_group)\n",
    "    temp_stim[:int(n_szrs_stim_group[sim_ct])]=1\n",
    "    temp_ctrl[:int(n_szrs_control_group[sim_ct])]=1\n",
    "    t, p_t[sim_ct]=scipy.stats.ttest_ind(temp_stim, temp_ctrl) #NOTE THIS IS ONE TAILED!!!\n",
    "\n",
    "reject_null_t=p_t<0.05\n",
    "print('Stim group: mean (SD) # of szrs: %f (%f)' % (np.mean(n_szrs_stim_group),np.std(n_szrs_stim_group)))\n",
    "print('Control group: mean (SD) # of szrs: %f (%f)' % (np.mean(n_szrs_control_group),np.std(n_szrs_control_group)))\n",
    "print('Fisher Power (SE): %f (%f)' % (np.mean(reject_null),np.std(reject_null)/np.sqrt(n_sim)))\n",
    "print('t Power (SE): %f (%f)' % (np.mean(reject_null_t),np.std(reject_null_t)/np.sqrt(n_sim)))"
   ]
  },
  {
   "cell_type": "code",
   "execution_count": 10,
   "metadata": {
    "collapsed": false,
    "deletable": true,
    "editable": true
   },
   "outputs": [
    {
     "name": "stderr",
     "output_type": "stream",
     "text": [
      "/Users/davidgroppe/anaconda/lib/python3.5/site-packages/scipy/stats/stats.py:3851: RuntimeWarning: invalid value encountered in absolute\n",
      "  prob = distributions.t.sf(np.abs(t), df) * 2  # use np.abs to get upper tail\n",
      "/Users/davidgroppe/anaconda/lib/python3.5/site-packages/ipykernel/__main__.py:35: RuntimeWarning: invalid value encountered in less\n"
     ]
    },
    {
     "name": "stdout",
     "output_type": "stream",
     "text": [
      "Done\n"
     ]
    }
   ],
   "source": [
    "# Try multiple sets of p_szr p_stop parameters\n",
    "n_subs=80\n",
    "n_subs_per_group=int(n_subs/2)\n",
    "n_sim=5000\n",
    "dlt=0.1 # step size between different probabilities\n",
    "try_p=np.arange(0,1+dlt,dlt)\n",
    "n_p=len(try_p)\n",
    "pwr_fisher=np.zeros((n_p,n_p))\n",
    "pwr_t=np.zeros((n_p,n_p)) # I did a t-test too, just to double check fisher results\n",
    "for p_szr_ct, p_szr in enumerate(try_p):\n",
    "    for p_stop_ct, p_stop in enumerate(try_p):\n",
    "        p_combo=p_szr*(1-p_stop)\n",
    "        p_fisher=np.zeros(n_sim)\n",
    "        p_t=np.zeros(n_sim)\n",
    "        n_szrs_stim_group=np.zeros(n_sim)\n",
    "        n_szrs_control_group=np.zeros(n_sim)\n",
    "        for sim_ct in range(n_sim):\n",
    "            n_szrs_stim_group[sim_ct]=np.random.binomial(n_subs_per_group,p_combo)\n",
    "            n_szrs_control_group[sim_ct]=np.random.binomial(n_subs_per_group,p_szr)\n",
    "            oddsratio, pvalue = stats.fisher_exact([[n_szrs_stim_group[sim_ct], n_subs_per_group-n_szrs_stim_group[sim_ct]], \n",
    "                                            [n_szrs_control_group[sim_ct], n_subs_per_group-n_szrs_control_group[sim_ct]]],alternative='less')\n",
    "            p_fisher[sim_ct]=pvalue\n",
    "    \n",
    "            # Ind samp t-test (not as appropriate, but should be similar with enough patients)\n",
    "            temp_stim=np.zeros(n_subs_per_group)\n",
    "            temp_ctrl=np.zeros(n_subs_per_group)\n",
    "            temp_stim[:int(n_szrs_stim_group[sim_ct])]=1\n",
    "            temp_ctrl[:int(n_szrs_control_group[sim_ct])]=1\n",
    "            t, p_t[sim_ct]=scipy.stats.ttest_ind(temp_stim, temp_ctrl) #NOTE THIS IS TWO TAILED!!!\n",
    "            \n",
    "        pwr_fisher[p_szr_ct,p_stop_ct]=np.mean(p_fisher<.05)\n",
    "        # For testing plotting code\n",
    "#         if p_szr_ct==0:\n",
    "#             pwr_fisher[p_szr_ct,p_stop_ct]=1\n",
    "        pwr_t[p_szr_ct,p_stop_ct]=np.mean(p_t<.05)\n",
    "\n",
    "print('Done')"
   ]
  },
  {
   "cell_type": "code",
   "execution_count": 11,
   "metadata": {
    "collapsed": false,
    "deletable": true,
    "editable": true
   },
   "outputs": [
    {
     "name": "stdout",
     "output_type": "stream",
     "text": [
      "Writing file 40_per_group.pdf\n"
     ]
    },
    {
     "data": {
      "image/png": "[encoded data removed]",
      "text/plain": [
       "<matplotlib.figure.Figure at 0x1189b1a90>"
      ]
     },
     "metadata": {},
     "output_type": "display_data"
    }
   ],
   "source": [
    "plt.figure()\n",
    "plt.imshow(pwr_fisher)\n",
    "plt.colorbar(label='Statistical Power')\n",
    "ticks=np.arange(0,11,1)\n",
    "plt.xticks(ticks,try_p)\n",
    "plt.yticks(ticks,try_p)\n",
    "plt.ylabel('No stim P(szr)')\n",
    "plt.xlabel('P(prevent)')\n",
    "plt.title('n per group='+str(n_subs_per_group))\n",
    "#out_fname=str(n_subs_per_group)+'_per_group.png'\n",
    "out_fname=str(n_subs_per_group)+'_per_group.pdf'\n",
    "plt.savefig(out_fname)\n",
    "print('Writing file %s' % out_fname)"
   ]
  },
  {
   "cell_type": "code",
   "execution_count": 57,
   "metadata": {
    "collapsed": false,
    "deletable": true,
    "editable": true
   },
   "outputs": [
    {
     "data": {
      "text/plain": [
       "<matplotlib.text.Text at 0x7fd2c4dac0b8>"
      ]
     },
     "execution_count": 57,
     "metadata": {},
     "output_type": "execute_result"
    },
    {
     "data": {
      "image/png": "[encoded data removed]",
      "text/plain": [
       "<matplotlib.figure.Figure at 0x7fd2c4da05f8>"
      ]
     },
     "metadata": {},
     "output_type": "display_data"
    }
   ],
   "source": [
    "plt.figure()\n",
    "plt.plot(p_fisher,p_t,'.')\n",
    "plt.xlabel('Fisher')\n",
    "plt.ylabel('t-test')"
   ]
  },
  {
   "cell_type": "code",
   "execution_count": 27,
   "metadata": {
    "collapsed": false,
    "deletable": true,
    "editable": true
   },
   "outputs": [
    {
     "name": "stdout",
     "output_type": "stream",
     "text": [
      "0.00275945618522\n"
     ]
    }
   ],
   "source": [
    "oddsratio, pvalue = stats.fisher_exact([[1,11],\n",
    "                                        [9,3]])\n",
    "print(pvalue)"
   ]
  },
  {
   "cell_type": "code",
   "execution_count": 28,
   "metadata": {
    "collapsed": false,
    "deletable": true,
    "editable": true
   },
   "outputs": [
    {
     "name": "stdout",
     "output_type": "stream",
     "text": [
      "0.00275945618522\n"
     ]
    }
   ],
   "source": [
    "oddsratio, pvalue = stats.fisher_exact([[1,9],\n",
    "                                        [11,3]])\n",
    "print(pvalue)"
   ]
  },
  {
   "cell_type": "code",
   "execution_count": 65,
   "metadata": {
    "collapsed": false,
    "deletable": true,
    "editable": true
   },
   "outputs": [
    {
     "name": "stdout",
     "output_type": "stream",
     "text": [
      "0.0211894052974\n"
     ]
    }
   ],
   "source": [
    "# Example from Zar\n",
    "# Zar gets a p-value of 0.019\n",
    "# MATLAB gets a p-value of 0.0212\n",
    "oddsratio, pvalue = stats.fisher_exact([[12,7],\n",
    "                                        [2,9]],alternative='greater')\n",
    "print(pvalue)"
   ]
  },
  {
   "cell_type": "code",
   "execution_count": 66,
   "metadata": {
    "collapsed": false,
    "deletable": true,
    "editable": true
   },
   "outputs": [
    {
     "name": "stdout",
     "output_type": "stream",
     "text": [
      "0.0258870564718\n"
     ]
    }
   ],
   "source": [
    "oddsratio, pvalue = stats.fisher_exact([[12,7],\n",
    "                                        [2,9]])\n",
    "print(pvalue)"
   ]
  },
  {
   "cell_type": "code",
   "execution_count": 54,
   "metadata": {
    "collapsed": true,
    "deletable": true,
    "editable": true
   },
   "outputs": [],
   "source": [
    "stats.fisher_exact?"
   ]
  },
  {
   "cell_type": "code",
   "execution_count": null,
   "metadata": {
    "collapsed": true,
    "deletable": true,
    "editable": true
   },
   "outputs": [],
   "source": []
  }
 ],
 "metadata": {
  "anaconda-cloud": {},
  "kernelspec": {
   "display_name": "Python [default]",
   "language": "python",
   "name": "python3"
  },
  "language_info": {
   "codemirror_mode": {
    "name": "ipython",
    "version": 3
   },
   "file_extension": ".py",
   "mimetype": "text/x-python",
   "name": "python",
   "nbconvert_exporter": "python",
   "pygments_lexer": "ipython3",
   "version": "3.5.3"
  }
 },
 "nbformat": 4,
 "nbformat_minor": 2
}
